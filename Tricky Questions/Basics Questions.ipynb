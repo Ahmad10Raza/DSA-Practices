{
 "cells": [
  {
   "cell_type": "markdown",
   "metadata": {},
   "source": [
    "# Q1. What will below statements print?\n",
    "\n",
    "long longWithL = 1000*60*60*24*365L;\n",
    "\n",
    "long longWithoutL = 1000*60*60*24*365;"
   ]
  },
  {
   "cell_type": "code",
   "execution_count": 1,
   "metadata": {
    "vscode": {
     "languageId": "java"
    }
   },
   "outputs": [
    {
     "name": "stdout",
     "output_type": "stream",
     "text": [
      "31536000000\n",
      "1471228928\n"
     ]
    }
   ],
   "source": [
    "long longWithL = 1000*60*60*24*365L;\n",
    "\n",
    "long longWithoutL = 1000*60*60*24*365;\n",
    "\n",
    "System.out.println(longWithL);\n",
    "\n",
    "System.out.println(longWithoutL);"
   ]
  },
  {
   "cell_type": "markdown",
   "metadata": {},
   "source": [
    "This code snippet demonstrates the use of the `long` data type in Java and the difference between using the `L` suffix and not using it.\n",
    "\n",
    "In Java, the `long` data type is used to store integer values that are larger than the `int` data type can handle. It can hold values ranging from -9,223,372,036,854,775,808 to 9,223,372,036,854,775,807.\n",
    "\n",
    "Let's break down the code and understand what it does:\n",
    "\n"
   ]
  },
  {
   "cell_type": "code",
   "execution_count": null,
   "metadata": {
    "vscode": {
     "languageId": "java"
    }
   },
   "outputs": [],
   "source": [
    "long longWithL = 1000*60*60*24*365L;"
   ]
  },
  {
   "cell_type": "markdown",
   "metadata": {},
   "source": [
    "\n",
    "\n",
    "In this line, a variable named `longWithL` of type `long` is declared and assigned a value. The value is calculated by multiplying 1000 (milliseconds in a second), 60 (seconds in a minute), 60 (minutes in an hour), 24 (hours in a day), and 365 (days in a year). The `L` suffix is added to the literal value `365` to indicate that it should be treated as a `long` value.\n",
    "\n"
   ]
  },
  {
   "cell_type": "code",
   "execution_count": null,
   "metadata": {
    "vscode": {
     "languageId": "java"
    }
   },
   "outputs": [],
   "source": [
    "long longWithoutL = 1000*60*60*24*365;"
   ]
  },
  {
   "cell_type": "markdown",
   "metadata": {},
   "source": [
    "\n",
    "\n",
    "In this line, a variable named `longWithoutL` of type `long` is declared and assigned a value. The value is calculated in the same way as before, but without the `L` suffix. \n",
    "\n"
   ]
  },
  {
   "cell_type": "code",
   "execution_count": null,
   "metadata": {
    "vscode": {
     "languageId": "java"
    }
   },
   "outputs": [],
   "source": [
    "System.out.println(longWithL);\n",
    "System.out.println(longWithoutL);"
   ]
  },
  {
   "cell_type": "markdown",
   "metadata": {},
   "source": [
    "\n",
    "\n",
    "These lines print the values of `longWithL` and `longWithoutL` to the console using the `System.out.println()` method.\n",
    "\n",
    "Now, let's discuss the output:\n",
    "\n",
    "The output of this code will be:\n",
    "\n"
   ]
  },
  {
   "cell_type": "code",
   "execution_count": null,
   "metadata": {
    "vscode": {
     "languageId": ""
    }
   },
   "outputs": [],
   "source": [
    "31536000000\n",
    "1471228928"
   ]
  },
  {
   "cell_type": "markdown",
   "metadata": {},
   "source": [
    "\n",
    "\n",
    "The first line of output corresponds to the value of `longWithL`, which is the correct result. It represents the number of milliseconds in a year.\n",
    "\n",
    "The second line of output corresponds to the value of `longWithoutL`. However, this value is incorrect. The reason for this is an integer overflow. When the multiplication is performed without the `L` suffix, the intermediate result exceeds the maximum value that can be stored in an `int` data type. As a result, the value overflows and wraps around, leading to an incorrect value.\n",
    "\n",
    "To fix this issue, you should use the `L` suffix to indicate that the literal value should be treated as a `long`. This ensures that the intermediate calculations are performed using `long` values, preventing overflow.\n",
    "\n",
    "Here's the corrected code:\n",
    "\n"
   ]
  },
  {
   "cell_type": "code",
   "execution_count": 2,
   "metadata": {
    "vscode": {
     "languageId": "java"
    }
   },
   "outputs": [
    {
     "name": "stdout",
     "output_type": "stream",
     "text": [
      "31536000000\n",
      "31536000000\n"
     ]
    }
   ],
   "source": [
    "long longWithL = 1000L * 60L * 60L * 24L * 365L;\n",
    "\n",
    "long longWithoutL = 1000L * 60L * 60L * 24L * 365L;\n",
    "\n",
    "System.out.println(longWithL);\n",
    "\n",
    "System.out.println(longWithoutL);"
   ]
  },
  {
   "cell_type": "markdown",
   "metadata": {},
   "source": [
    "\n",
    "\n",
    "Now, both `longWithL` and `longWithoutL` will have the correct value of `31536000000`, representing the number of milliseconds in a year."
   ]
  },
  {
   "cell_type": "markdown",
   "metadata": {},
   "source": [
    "# Q2. Can you override private or static method in Java ?"
   ]
  },
  {
   "cell_type": "markdown",
   "metadata": {},
   "source": [
    "No, you cannot override private or static methods in Java.\n",
    "\n",
    "**Private methods:** Private methods in Java are not visible to any other class, so we cannot override them. If you create a similar method in a subclass, it's not an override of the superclass's method, it's just a new method unique to the subclass.\n",
    "\n",
    "**Static methods:** Static methods belong to the class, not instances of the class. They are not part of the instance's state. Therefore, static methods cannot be overridden because method overriding only applies to instance methods. If you declare a similar static method in a subclass, it hides the superclass's method instead of overriding it. This is known as method hiding."
   ]
  },
  {
   "cell_type": "markdown",
   "metadata": {},
   "source": [
    "# Q3.  What does the following Java program print?\n",
    "\n",
    "\n",
    "public class Test { \n",
    "    \n",
    "    public static void main(String[] args) \n",
    "    { \n",
    "        System.out.println(Math.min(Double.MIN_VALUE, 0.0d));\n",
    "        \n",
    "         } \n",
    "         }"
   ]
  },
  {
   "cell_type": "markdown",
   "metadata": {},
   "source": [
    "The `Math.min` function returns the smaller of two `double` values. In this case, it's comparing `Double.MIN_VALUE` and `0.0d`.\n",
    "\n",
    "`Double.MIN_VALUE` is the smallest positive nonzero value of type `double`, which is greater than zero. It's approximately 4.9e-324.\n",
    "\n",
    "`0.0d` is simply zero.\n",
    "\n",
    "So, when you compare `Double.MIN_VALUE` (a very small positive number) with `0.0d` (zero), the `Math.min` function will return the smaller value, which is `0.0d`.\n",
    "\n",
    "Therefore, the output of the program will be:\n",
    "\n"
   ]
  },
  {
   "cell_type": "code",
   "execution_count": null,
   "metadata": {
    "vscode": {
     "languageId": ""
    }
   },
   "outputs": [],
   "source": [
    "0.0"
   ]
  },
  {
   "cell_type": "markdown",
   "metadata": {},
   "source": [
    "# Q4. What will happen if you put return statement or System.exit () on try or catch block? Will finally block execute?"
   ]
  },
  {
   "cell_type": "markdown",
   "metadata": {},
   "source": [
    "If a `return` statement is encountered in the `try` or `catch` blocks, the `finally` block will still execute. The `finally` block in a `try-catch-finally` statement will always be executed unless the JVM exits before the `finally` block can run.\n",
    "\n",
    "However, if `System.exit()` is called in the `try` or `catch` block, the JVM will shut down, and the `finally` block will not execute. `System.exit()` terminates the currently running Java Virtual Machine, so it prevents `finally` blocks from executing. \n",
    "\n",
    "So, in summary:\n",
    "\n",
    "- If you use a `return` statement in the `try` or `catch` block, the `finally` block will still execute.\n",
    "- If you use `System.exit()` in the `try` or `catch` block, the `finally` block will not execute."
   ]
  },
  {
   "cell_type": "markdown",
   "metadata": {},
   "source": [
    "# Q5.  Can you override a private or static method in Java?"
   ]
  },
  {
   "cell_type": "markdown",
   "metadata": {},
   "source": [
    "No, you cannot override private or static methods in Java.\n",
    "\n",
    "**Private methods:** Private methods in Java are not visible to any other class, so we cannot override them. If you create a similar method in a subclass, it's not an override of the superclass's method, it's just a new method unique to the subclass.\n",
    "\n",
    "**Static methods:** Static methods belong to the class, not instances of the class. They are not part of the instance's state. Therefore, static methods cannot be overridden because method overriding only applies to instance methods. If you declare a similar static method in a subclass, it hides the superclass's method instead of overriding it. This is known as method hiding."
   ]
  },
  {
   "cell_type": "markdown",
   "metadata": {},
   "source": [
    "# Q6. Brain-Teasing Java Interview Questions"
   ]
  },
  {
   "cell_type": "markdown",
   "metadata": {},
   "source": [
    "Sure, here are some brain-teasing Java interview questions:\n",
    "\n",
    "1. **What is the difference between `final`, `finally`, and `finalize`?**\n",
    "2. **Can we declare a `try` block without a `catch` block?**\n",
    "3. **What is the difference between `==` and `equals()` in Java?**\n",
    "4. **What is the difference between `ArrayList` and `LinkedList`?**\n",
    "5. **What is the difference between `abstract class` and `interface`?**\n",
    "6. **What is the purpose of `default` methods in interfaces?**\n",
    "7. **What is the difference between `Checked` and `Unchecked` exceptions?**\n",
    "8. **What is the difference between `HashMap`, `LinkedHashMap`, and `TreeMap`?**\n",
    "9. **What is the difference between `String`, `StringBuilder`, and `StringBuffer`?**\n",
    "10. **What is the difference between `wait()`, `sleep()`, and `yield()` methods in multithreading?**\n",
    "11. **What is the difference between `notify()` and `notifyAll()` methods?**\n",
    "12. **What is the difference between `Serializable` and `Externalizable` interface in Java?**\n",
    "13. **What is the purpose of `volatile` keyword in Java?**\n",
    "14. **What is the difference between `Comparable` and `Comparator` interfaces?**\n",
    "15. **What is the difference between `fail-fast` and `fail-safe` iterators in Java?**\n",
    "\n",
    "These questions cover various aspects of Java, including exception handling, collections, multithreading, and more. They are designed to test your understanding of the language's features and how they are used."
   ]
  },
  {
   "cell_type": "markdown",
   "metadata": {},
   "source": [
    "# Q7. What does the following Java program print?"
   ]
  },
  {
   "cell_type": "code",
   "execution_count": 3,
   "metadata": {
    "vscode": {
     "languageId": "java"
    }
   },
   "outputs": [],
   "source": [
    "public class Test {\n",
    "\n",
    "    public static void main(String[] args) {\n",
    "\n",
    "        System.out.println(Math.min(Double.MIN_VALUE, 0.0d));\n",
    "\n",
    "    }\n",
    "\n",
    "}"
   ]
  },
  {
   "cell_type": "markdown",
   "metadata": {},
   "source": [
    "This Java code snippet defines a class called `Test` with a `main` method. \n",
    "\n",
    "Inside the `main` method, the code calls the `Math.min` method, which is used to find the minimum value between two numbers. In this case, it compares `Double.MIN_VALUE` and `0.0d`.\n",
    "\n",
    "`Double.MIN_VALUE` is a constant in Java that represents the smallest positive nonzero value that a `double` variable can hold. It is a very small positive number close to zero.\n",
    "\n",
    "The `Math.min` method returns the smaller of the two values passed as arguments. In this case, since `Double.MIN_VALUE` is a positive value and `0.0d` is zero, the result of `Math.min(Double.MIN_VALUE, 0.0d)` will be `0.0d`.\n",
    "\n",
    "Finally, the code uses `System.out.println` to print the result of the `Math.min` method call, which will output `0.0` to the console."
   ]
  },
  {
   "cell_type": "code",
   "execution_count": 4,
   "metadata": {
    "vscode": {
     "languageId": "java"
    }
   },
   "outputs": [
    {
     "name": "stdout",
     "output_type": "stream",
     "text": [
      "0.0\n"
     ]
    }
   ],
   "source": [
    "System.out.println(Math.min(Double.MIN_VALUE, 0.0d));\n"
   ]
  },
  {
   "cell_type": "markdown",
   "metadata": {},
   "source": [
    "This question is tricky because unlike the Integer, where MIN_VALUE is negative, both the MAX_VALUE and MIN_VALUE of the Double class are positive numbers. The Double.MIN_VALUE is 2^(-1074), a double constant whose magnitude is the least among all double values. So unlike the obvious answer, this program will print 0.0 because Double.MIN_VALUE is greater than 0. I have asked this question to Java developer having experience up to 3 to 5 years and surprisingly almost 70% candidate got it wrong.\n",
    "\n"
   ]
  },
  {
   "cell_type": "markdown",
   "metadata": {},
   "source": [
    "# Q8. where an id is an integer number.\n",
    "\n",
    "**Ans:** Well, three is nothing wrong in this Java question until you guarantee that id is always positive. This Java question becomes tricky when you can't guarantee that id is positive or negative. the tricky part is, If id becomes negative than subtraction may overflow and produce an incorrect result. See How to override compareTo method in Java for the complete answer of this Java tricky question for an experienced programmer."
   ]
  },
  {
   "cell_type": "markdown",
   "metadata": {},
   "source": [
    "# Q9. How do you ensure that N thread can access N resources without deadlock?\n",
    "\n",
    "**Ans:** If you are not well versed in writing multi-threading code then this is a real tricky question for you. This Java question can be tricky even for the experienced and senior programmer, who are not really exposed to deadlock and race conditions. The key point here is ordering, if you acquire resources in a particular order and release resources in the reverse order you can prevent deadlock. See how to avoid deadlock in Java for a sample code example."
   ]
  },
  {
   "cell_type": "markdown",
   "metadata": {},
   "source": [
    "# Q10. What is difference between CyclicBarrier and CountDownLatch in Java?"
   ]
  },
  {
   "cell_type": "markdown",
   "metadata": {},
   "source": [
    "`CyclicBarrier` and `CountDownLatch` are both synchronization aids in Java that are used in multi-threaded programming, but they have some key differences:\n",
    "\n",
    "**CountDownLatch:**\n",
    "\n",
    "1. A `CountDownLatch` is a one-time event. It allows one or more threads to wait until a set of operations being performed in other threads completes. Once the count reaches zero, the latch cannot be reset. If you want to reset the count, you have to create a new `CountDownLatch` instance.\n",
    "\n",
    "2. It's mainly used to start, continue, or complete the multi-threaded tasks when other threads complete their tasks.\n",
    "\n",
    "**CyclicBarrier:**\n",
    "\n",
    "1. A `CyclicBarrier` is a reusable multi-thread synchronization mechanism. It allows a set of threads to all wait for each other to reach a common barrier point. The barrier is called cyclic because it can be re-used after the waiting threads are released.\n",
    "\n",
    "2. It's mainly used in scenarios where a fixed sized group of threads must occasionally wait for each other.\n",
    "\n",
    "In summary, the key difference is that `CountDownLatch` is a one-time synchronization aid and can't be reused once the count reaches zero, while `CyclicBarrier` is a reusable synchronization aid and can be reused by calling the `reset()` method."
   ]
  },
  {
   "cell_type": "markdown",
   "metadata": {},
   "source": [
    "# 11) Consider the following code and guess the output.\n",
    "\n"
   ]
  },
  {
   "cell_type": "code",
   "execution_count": 5,
   "metadata": {
    "vscode": {
     "languageId": "java"
    }
   },
   "outputs": [],
   "source": [
    "public class A  \n",
    "{  \n",
    "public static void main(String args[])  \n",
    "{  \n",
    "//\\u000d System.out.println(\"hello\");  \n",
    "}  \n",
    "}  "
   ]
  },
  {
   "cell_type": "code",
   "execution_count": 8,
   "metadata": {
    "vscode": {
     "languageId": "java"
    }
   },
   "outputs": [
    {
     "name": "stdout",
     "output_type": "stream",
     "text": [
      "REPL.$JShell$20$A@3b4296dc\n"
     ]
    }
   ],
   "source": [
    "A a=new A();\n",
    "System.out.println(a);"
   ]
  },
  {
   "cell_type": "code",
   "execution_count": 6,
   "metadata": {
    "vscode": {
     "languageId": "java"
    }
   },
   "outputs": [],
   "source": [
    "//\\u000d System.out.println(\"hello\"); "
   ]
  },
  {
   "cell_type": "markdown",
   "metadata": {},
   "source": [
    "Explanation: As we see the print statement it seems that the statement is commented but not so. // \\u000d is a new line Unicode character."
   ]
  },
  {
   "cell_type": "markdown",
   "metadata": {},
   "source": [
    "# 12) Consider the following code and guess the output."
   ]
  },
  {
   "cell_type": "code",
   "execution_count": 9,
   "metadata": {
    "vscode": {
     "languageId": "java"
    }
   },
   "outputs": [
    {
     "name": "stdout",
     "output_type": "stream",
     "text": [
      "77\n"
     ]
    }
   ],
   "source": [
    "int i=20+ +9- -12+ +4- -13+ +19;  \n",
    "System.out.println(i);  "
   ]
  },
  {
   "cell_type": "markdown",
   "metadata": {},
   "source": [
    "Explanation: In the program, the operators are just for puzzle someone. The operators are neither pre or post increment. The statement can be written and solved as follows:\n",
    "\n",
    "int i=20+ (+9)- (-12)+ (+4)- (-13)+ (+19);\n",
    "\n",
    "i=20+9+12+4+13+19\n",
    "\n",
    "i=77"
   ]
  },
  {
   "cell_type": "markdown",
   "metadata": {},
   "source": [
    "# 13) Consider the following code and find the output."
   ]
  },
  {
   "cell_type": "code",
   "execution_count": 10,
   "metadata": {
    "vscode": {
     "languageId": "java"
    }
   },
   "outputs": [
    {
     "name": "stdout",
     "output_type": "stream",
     "text": [
      "true\n",
      "true\n",
      "false\n",
      "true\n"
     ]
    }
   ],
   "source": [
    "String s1 = \"Java\";  \n",
    "String s2 = \"Java\";  \n",
    "StringBuilder sb1 = new StringBuilder();  \n",
    "sb1.append(\"Ja\").append(\"va\");  \n",
    "System.out.println(s1 == s2);  \n",
    "System.out.println(s1.equals(s2));  \n",
    "System.out.println(sb1.toString() == s1);  \n",
    "System.out.println(sb1.toString().equals(s1));  "
   ]
  },
  {
   "cell_type": "markdown",
   "metadata": {},
   "source": [
    "Explanation: Because String literals are used from the string pool. It means that s1 and s2 refer to the same object and are equal. Therefore, the first two print statements print true. The third print statement prints false because the toString() method uses a method to compute the value and it is not from the string pool. The final print statement again prints true because equals() looks at the values of String objects."
   ]
  },
  {
   "cell_type": "markdown",
   "metadata": {},
   "source": [
    "# 14) What is the output of the following code snippet?"
   ]
  },
  {
   "cell_type": "code",
   "execution_count": 11,
   "metadata": {
    "vscode": {
     "languageId": "java"
    }
   },
   "outputs": [],
   "source": [
    "public class Demo  \n",
    "{  \n",
    "public static void main(String args[])  \n",
    "{  \n",
    "System.out.print(\"a\");  \n",
    "try   \n",
    "{  \n",
    "System.out.print(\"b\");  \n",
    "throw new IllegalArgumentException();  \n",
    "}   \n",
    "catch (RuntimeException e)   \n",
    "{  \n",
    "System.out.print(\"c\");  \n",
    "}   \n",
    "finally   \n",
    "{  \n",
    "System.out.print(\"d\");  \n",
    "}  \n",
    "System.out.print(\"e\");  \n",
    "}  \n",
    "}  "
   ]
  },
  {
   "cell_type": "code",
   "execution_count": 16,
   "metadata": {
    "vscode": {
     "languageId": "java"
    }
   },
   "outputs": [
    {
     "name": "stdout",
     "output_type": "stream",
     "text": [
      "abcde"
     ]
    }
   ],
   "source": [
    "Demo a = new Demo();\n",
    "a.main(null);\n",
    "//System.out.println(a.main(null));"
   ]
  },
  {
   "cell_type": "markdown",
   "metadata": {},
   "source": [
    "Explanation: Because the code starts running and prints a and b on lines 13 and 15. Line 16 throws an exception, which is caught on line 17. After line 18 prints c, the finally block is run and d is printed. Then the try statement ends and e is printed on line 22."
   ]
  },
  {
   "cell_type": "markdown",
   "metadata": {},
   "source": [
    "# 15) What will be the output of the following code and why?"
   ]
  },
  {
   "cell_type": "code",
   "execution_count": 17,
   "metadata": {
    "vscode": {
     "languageId": "java"
    }
   },
   "outputs": [
    {
     "ename": "CompilationException",
     "evalue": "",
     "output_type": "error",
     "traceback": [
      "\u001b[1m\u001b[30m|   \u001b[1m\u001b[30mSystem.out.print(\u001b[0m\u001b[1m\u001b[30m\u001b[41ma_b\u001b[0m\u001b[1m\u001b[30m);  \u001b[0m",
      "\u001b[1m\u001b[31mvariable a_b might not have been initialized\u001b[0m",
      ""
     ]
    }
   ],
   "source": [
    "public class _C   \n",
    "{  \n",
    "private static int $;  \n",
    "public static void main(String main[])   \n",
    "{  \n",
    "String a_b;  \n",
    "System.out.print($);  \n",
    "System.out.print(a_b);  \n",
    "}   \n",
    "}  "
   ]
  },
  {
   "cell_type": "markdown",
   "metadata": {},
   "source": [
    "Explanation: The local variables require assignment before referencing them. Option E is incorrect because class and instance variables have default values and allow referencing. a_b defaults to a null value. Options A, B, C, and D are incorrect because identifiers may begin with a letter, underscore, or dollar sign. If a_b was an instance variable, the code would compile and output 0null."
   ]
  },
  {
   "cell_type": "markdown",
   "metadata": {},
   "source": [
    "# 16) What will be the output of the following code and why?"
   ]
  },
  {
   "cell_type": "code",
   "execution_count": 18,
   "metadata": {
    "vscode": {
     "languageId": "java"
    }
   },
   "outputs": [
    {
     "name": "stdout",
     "output_type": "stream",
     "text": [
      "[9]\n"
     ]
    }
   ],
   "source": [
    "int[] array = {6,9,8};  \n",
    "List<Integer> list = new ArrayList<>();  \n",
    "list.add(array[0]);  \n",
    "list.add(array[2]);  \n",
    "list.set(1, array[1]);  \n",
    "list.remove(0);  \n",
    "System.out.println(list);  "
   ]
  },
  {
   "cell_type": "markdown",
   "metadata": {},
   "source": [
    "This code snippet demonstrates the use of arrays and lists in Java. Let's break it down step by step:\n",
    "\n",
    "1. `int[] array = {6,9,8};`: This line declares an integer array named `array` and initializes it with three values: 6, 9, and 8.\n",
    "\n",
    "2. `List<Integer> list = new ArrayList<>();`: Here, a new `ArrayList` named `list` is created. The angle brackets `<Integer>` indicate that this list will only contain integers.\n",
    "\n",
    "3. `list.add(array[0]);`: The first element of the `array` (6) is added to the `list` using the `add()` method. The `add()` method appends the specified element to the end of the list.\n",
    "\n",
    "4. `list.add(array[2]);`: The third element of the `array` (8) is added to the `list` using the `add()` method.\n",
    "\n",
    "5. `list.set(1, array[1]);`: The `set()` method is used to replace the element at index 1 of the `list` with the second element of the `array` (9). The `set()` method takes two parameters: the index of the element to be replaced and the new value.\n",
    "\n",
    "6. `list.remove(0);`: The `remove()` method is used to remove the element at index 0 from the `list`. In this case, the first element (6) is removed.\n",
    "\n",
    "7. `System.out.println(list);`: Finally, the `list` is printed to the console using `System.out.println()`. This will display the contents of the list.\n",
    "\n",
    "The output of this code will be:\n"
   ]
  },
  {
   "cell_type": "code",
   "execution_count": null,
   "metadata": {
    "vscode": {
     "languageId": ""
    }
   },
   "outputs": [],
   "source": [
    "[9]"
   ]
  },
  {
   "cell_type": "markdown",
   "metadata": {},
   "source": [
    "\n",
    "\n",
    "The output indicates that the `list` contains only one element, which is the second element of the `array` (9). The first element (6) was removed, and the third element (8) was not added to the `list` after the removal."
   ]
  },
  {
   "cell_type": "markdown",
   "metadata": {},
   "source": [
    "Explanation: The array is allowed to use an anonymous initializer because it is in the same line as the declaration. The ArrayList uses the diamond operator allowed since Java 7. It specifies the type matches the one on the left without having to re-type it. After adding the two elements, list contains [6, 8]. We replace the element at index 1 with 9, resulting in [6, 9]. Finally, we remove the element at index 0, leaving [9]. Option C is incorrect because arrays output something like that rather than an ArrayList."
   ]
  },
  {
   "cell_type": "markdown",
   "metadata": {},
   "source": [
    "# 17) What will be the output of the following code and why?"
   ]
  },
  {
   "cell_type": "code",
   "execution_count": 20,
   "metadata": {
    "vscode": {
     "languageId": "java"
    }
   },
   "outputs": [
    {
     "ename": "CompilationException",
     "evalue": "",
     "output_type": "error",
     "traceback": [
      "\u001b[1m\u001b[30m|   \u001b[1m\u001b[30mchar[] ca ={0x4e, \u001b[0m\u001b[1m\u001b[30m\u001b[41m\\u004e\u001b[0m\u001b[1m\u001b[30m, 78};\u001b[0m",
      "\u001b[1m\u001b[31mcannot find symbol\u001b[0m",
      "\u001b[1m\u001b[31m  symbol:   variable N\u001b[0m",
      ""
     ]
    }
   ],
   "source": [
    "\n",
    "char[] ca ={0x4e, \\u004e, 78};  \n",
    "System.out.println((ca[0] = = ca[1]) + \" \"+ (ca[0] = = ca[2]));  \n"
   ]
  },
  {
   "cell_type": "markdown",
   "metadata": {},
   "source": [
    "Explanation: The Unicode declaration must be enclosed in single quotes: '\\u004e'."
   ]
  },
  {
   "cell_type": "markdown",
   "metadata": {},
   "source": [
    "# 18) What will be the output of the following code and why?"
   ]
  },
  {
   "cell_type": "code",
   "execution_count": 23,
   "metadata": {
    "vscode": {
     "languageId": "java"
    }
   },
   "outputs": [
    {
     "ename": "CompilationException",
     "evalue": "",
     "output_type": "error",
     "traceback": [
      "\u001b[1m\u001b[30m|   \u001b[1m\u001b[30mcase \u001b[0m\u001b[1m\u001b[30m\u001b[41mx>70\u001b[0m\u001b[1m\u001b[30m:    \u001b[0m",
      "\u001b[1m\u001b[31mincompatible types: boolean cannot be converted to int\u001b[0m",
      "",
      "\u001b[1m\u001b[30m|   \u001b[1m\u001b[30mcase \u001b[0m\u001b[1m\u001b[30m\u001b[41m65<x<=70\u001b[0m\u001b[1m\u001b[30m:    \u001b[0m",
      "\u001b[1m\u001b[31mbad operand types for binary operator '<='\u001b[0m",
      "\u001b[1m\u001b[31m  first type:  boolean\u001b[0m",
      "\u001b[1m\u001b[31m  second type: int\u001b[0m",
      ""
     ]
    }
   ],
   "source": [
    "\n",
    "switch(x)    \n",
    "{    \n",
    "case x>70:    \n",
    "System.out.println(\"True\");    \n",
    "break;    \n",
    "case 65<x<=70:    \n",
    "System.out.println(\"False\");    \n",
    "break;    \n",
    "}    "
   ]
  },
  {
   "cell_type": "markdown",
   "metadata": {},
   "source": [
    "Explanation: Because Java does not allow us to compare values in the case statements. An error occurred due to invalid switch statement is called Orphaned case error."
   ]
  },
  {
   "cell_type": "markdown",
   "metadata": {},
   "source": [
    "# 19) What will be the output?"
   ]
  },
  {
   "cell_type": "code",
   "execution_count": 24,
   "metadata": {
    "vscode": {
     "languageId": "java"
    }
   },
   "outputs": [
    {
     "name": "stdout",
     "output_type": "stream",
     "text": [
      "ONE12TWOTHREE34FOURFIVE5\n"
     ]
    }
   ],
   "source": [
    "String str=\"ONE\"+1+2+\"TWO\"+\"THREE\"+3+4+\"FOUR\"+\"FIVE\"+5;  \n",
    "System.out.println(str);  "
   ]
  },
  {
   "cell_type": "markdown",
   "metadata": {},
   "source": [
    "Explanation: Because the number defined is of type string, so they will not add together. Hence, the above code prints the same string as it is."
   ]
  },
  {
   "cell_type": "markdown",
   "metadata": {},
   "source": [
    "# 20) What will be the output?"
   ]
  },
  {
   "cell_type": "code",
   "execution_count": 27,
   "metadata": {
    "vscode": {
     "languageId": "java"
    }
   },
   "outputs": [],
   "source": [
    "public class Demo_2 \n",
    "{  \n",
    "static int x=1111;  \n",
    "static  \n",
    "{  \n",
    "x=x-- - --x;   \n",
    "}  \n",
    "{  \n",
    "x=x++ + ++x;  \n",
    "}  \n",
    "public static void main(String args[])  \n",
    "{  \n",
    "System.out.println(x);  \n",
    "}  \n",
    "}  "
   ]
  },
  {
   "cell_type": "code",
   "execution_count": 28,
   "metadata": {
    "vscode": {
     "languageId": "java"
    }
   },
   "outputs": [
    {
     "name": "stdout",
     "output_type": "stream",
     "text": [
      "6\n"
     ]
    }
   ],
   "source": [
    "Demo_2 a = new Demo_2();\n",
    "a.main(null);"
   ]
  },
  {
   "cell_type": "markdown",
   "metadata": {},
   "source": [
    "Explanation: We know that the static block executed first. Therefore, the post decrement value of x will be 1111 and the pre decrement value will be 1109 and the difference between the values is 2 and the same will print on the console. Note that the block after the static block will never get executed."
   ]
  },
  {
   "cell_type": "markdown",
   "metadata": {},
   "source": [
    "# 23) Consider the following code and evaluate the output?"
   ]
  },
  {
   "cell_type": "code",
   "execution_count": 29,
   "metadata": {
    "vscode": {
     "languageId": "java"
    }
   },
   "outputs": [
    {
     "ename": "CompilationException",
     "evalue": "",
     "output_type": "error",
     "traceback": [
      "\u001b[1m\u001b[30m|   \u001b[1m\u001b[30mSystem.out.println(\"Computer's move is \" + \u001b[0m\u001b[1m\u001b[30m\u001b[41mcomputerMove\u001b[0m\u001b[1m\u001b[30m);  \u001b[0m",
      "\u001b[1m\u001b[31mvariable computerMove might not have been initialized\u001b[0m",
      ""
     ]
    }
   ],
   "source": [
    "import java.lang.Math;  \n",
    "public class Example   \n",
    "{  \n",
    "public static void main(String args[])   \n",
    "{  \n",
    "String computerMove;  \n",
    "switch ( (int)(3*Math.random()) )   \n",
    "{  \n",
    "case 0:  \n",
    "computerMove = \"Rock\";  \n",
    "break;  \n",
    "case 1:  \n",
    "computerMove = \"Scissors\";  \n",
    "break;  \n",
    "case 2:  \n",
    "computerMove = \"Paper\";  \n",
    "break;  \n",
    "}  \n",
    "System.out.println(\"Computer's move is \" + computerMove);  \n",
    "}  \n",
    "}  "
   ]
  },
  {
   "cell_type": "markdown",
   "metadata": {},
   "source": [
    "Explanation: In the above program, the switch statement makes a random choice among three possible alternatives. Recall that the value of the expression (int)(3*Math.random()) is one of the integers 0, 1, or 2, selected at random with equal probability, so the switch statement below will assign one of the values \"Rock\", \"Scissors\", \"Paper\" to computerMove, with probability 1/3 for each case. Although the switch statement in this example is correct, this code segment as a whole illustrates a subtle syntax error.\n",
    "\n",
    "We probably haven't spotted the error, since it's not an error from a human point of view. The computer reports the last line to be an error, because the variable computerMove might not have been assigned a value. In Java, it is only legal to use the value of a variable if a value has already been definitely assigned to that variable. It means that the computer must be able to prove, just from looking at the code when the program is compiled, that the variable must have been assigned a value. Unfortunately, the computer only has a few simple rules that it can apply to make the determination. In this case, it sees a switch statement in which the type of expression is int and in which the cases that are covered are 0, 1, and 2. For other values of the expression, computerMove is never assigned a value. So, the computer thinks computerMove might still be undefined after the switch statement. Now, in fact, this isn't true: 0, 1, and 2 are actually the only possible values of the expression (int)(3*Math.random()), but the computer is not smart enough to figure that out. The easiest way to fix the problem is to replace the case label case 2 with default.\n",
    "\n",
    "The computer can see that a value is assigned to computerMove in all cases. More generally, we say that a value has been definitely assigned to a variable at a given point in a program if every execution path leading from the declaration of the variable to that point in the code includes an assignment to the variable. This rule takes into account loops and if statements as well as switch statements."
   ]
  },
  {
   "cell_type": "markdown",
   "metadata": {},
   "source": [
    "# 14) What will happen if we try to compile and run this?"
   ]
  },
  {
   "cell_type": "code",
   "execution_count": 30,
   "metadata": {
    "vscode": {
     "languageId": "java"
    }
   },
   "outputs": [],
   "source": [
    "class Base{  \n",
    "    public static void main(String[] args){  \n",
    "        System.out.println(\"Hello\");  \n",
    "    }  \n",
    "}  \n",
    "public class Test extends Base{}  "
   ]
  },
  {
   "cell_type": "markdown",
   "metadata": {},
   "source": [
    "Explanation: The program will compile and run successfully. Does not matter the Test class is empty."
   ]
  }
 ],
 "metadata": {
  "kernelspec": {
   "display_name": "Java",
   "language": "java",
   "name": "java"
  },
  "language_info": {
   "codemirror_mode": "java",
   "file_extension": ".jshell",
   "mimetype": "text/x-java-source",
   "name": "Java",
   "pygments_lexer": "java",
   "version": "17.0.10+7-Ubuntu-122.04.1"
  }
 },
 "nbformat": 4,
 "nbformat_minor": 2
}
