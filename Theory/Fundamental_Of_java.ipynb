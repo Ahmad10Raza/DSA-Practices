{
 "cells": [
  {
   "cell_type": "markdown",
   "metadata": {},
   "source": [
    "# Fundamental Of Java"
   ]
  },
  {
   "cell_type": "markdown",
   "metadata": {},
   "source": [
    "## First Program"
   ]
  },
  {
   "cell_type": "code",
   "execution_count": 7,
   "metadata": {},
   "outputs": [],
   "source": [
    "public class HelloJupyter {\n",
    "    public static void main(String[] args) {\n",
    "        System.out.println(\"Hello, Jupyter!\");\n",
    "    }\n",
    "}\n"
   ]
  },
  {
   "cell_type": "code",
   "execution_count": 8,
   "metadata": {},
   "outputs": [
    {
     "name": "stdout",
     "output_type": "stream",
     "text": [
      "Hello, Jupyter!\n"
     ]
    }
   ],
   "source": [
    "HelloJupyter.main(new String[0]);"
   ]
  },
  {
   "cell_type": "markdown",
   "metadata": {},
   "source": [
    "# Data Types\n",
    "\n",
    "Java has various data types that are categorized into two groups: primitive data types and reference data types. Here's an overview of common data types in Java with examples:\n",
    "\n",
    "**Primitive Data Types:**\n",
    "\n",
    "1. **byte:** Represents 8-bit signed integer values.\n",
    "\n",
    "   ```java\n",
    "   byte myByte = 127;\n",
    "   ```\n",
    "\n",
    "2. **short:** Represents 16-bit signed integer values.\n",
    "\n",
    "   ```java\n",
    "   short myShort = 32767;\n",
    "   ```\n",
    "\n",
    "3. **int:** Represents 32-bit signed integer values.\n",
    "\n",
    "   ```java\n",
    "   int myInt = 2147483647;\n",
    "   ```\n",
    "\n",
    "4. **long:** Represents 64-bit signed integer values.\n",
    "\n",
    "   ```java\n",
    "   long myLong = 9223372036854775807L;\n",
    "   ```\n",
    "\n",
    "5. **float:** Represents single-precision 32-bit floating-point values.\n",
    "\n",
    "   ```java\n",
    "   float myFloat = 3.14159f;\n",
    "   ```\n",
    "\n",
    "6. **double:** Represents double-precision 64-bit floating-point values.\n",
    "\n",
    "   ```java\n",
    "   double myDouble = 3.141592653589793;\n",
    "   ```\n",
    "\n",
    "7. **char:** Represents a single 16-bit Unicode character.\n",
    "\n",
    "   ```java\n",
    "   char myChar = 'A';\n",
    "   ```\n",
    "\n",
    "8. **boolean:** Represents true or false values.\n",
    "\n",
    "   ```java\n",
    "   boolean isTrue = true;\n",
    "   ```\n",
    "\n",
    "**Reference Data Types:**\n",
    "\n",
    "9. **String:** Represents a sequence of characters.\n",
    "\n",
    "   ```java\n",
    "   String myString = \"Hello, World!\";\n",
    "   ```\n",
    "\n",
    "10. **Array:** Represents a collection of elements of the same type.\n",
    "\n",
    "   ```java\n",
    "   int[] numbers = {1, 2, 3, 4, 5};\n",
    "   ```\n",
    "\n",
    "11. **Class:** Represents user-defined data types using classes. For example:\n",
    "\n",
    "   ```java\n",
    "   class Person {\n",
    "       String name;\n",
    "       int age;\n",
    "   }\n",
    "\n",
    "   // Create an instance of the class\n",
    "   Person person = new Person();\n",
    "   person.name = \"John\";\n",
    "   person.age = 30;\n",
    "   ```\n",
    "\n",
    "12. **Enum:** Represents a fixed set of constant values.\n",
    "\n",
    "   ```java\n",
    "   enum Day {\n",
    "       MONDAY, TUESDAY, WEDNESDAY, THURSDAY, FRIDAY, SATURDAY, SUNDAY\n",
    "   }\n",
    "\n",
    "   Day today = Day.MONDAY;\n",
    "   ```\n",
    "\n",
    "13. **Interface:** Represents a contract specifying methods that a class must implement.\n",
    "\n",
    "   ```java\n",
    "   interface Drawable {\n",
    "       void draw();\n",
    "   }\n",
    "\n",
    "   class Circle implements Drawable {\n",
    "       public void draw() {\n",
    "           System.out.println(\"Drawing a circle\");\n",
    "       }\n",
    "   }\n",
    "   ```\n",
    "\n",
    "These are some of the commonly used data types in Java. They are used to define the type of data that variables can hold or the structure of custom objects (classes). Choosing the appropriate data type is essential to efficiently store and manipulate data in Java programs."
   ]
  },
  {
   "cell_type": "code",
   "execution_count": 1,
   "metadata": {},
   "outputs": [
    {
     "data": {
      "text/plain": [
       "30"
      ]
     },
     "execution_count": 1,
     "metadata": {},
     "output_type": "execute_result"
    }
   ],
   "source": [
    "// class: Represents user-defined data type using class keyword\n",
    "\n",
    "class Person {\n",
    "    String name;\n",
    "    int age;\n",
    "}\n",
    "\n",
    "// Create an instance of the class\n",
    "Person person = new Person();\n",
    "person.name = \"John\";\n",
    "person.age = 30;\n"
   ]
  },
  {
   "cell_type": "code",
   "execution_count": 3,
   "metadata": {},
   "outputs": [
    {
     "name": "stdout",
     "output_type": "stream",
     "text": [
      "Today is MONDAY\n"
     ]
    }
   ],
   "source": [
    "// Enum: Represents a fixed set of constant values.\n",
    "\n",
    "enum Day {\n",
    "    MONDAY, TUESDAY, WEDNESDAY, THURSDAY, FRIDAY, SATURDAY, SUNDAY\n",
    "}\n",
    "\n",
    "Day today = Day.MONDAY;\n",
    "System.out.println(\"Today is \" + today);\n"
   ]
  },
  {
   "cell_type": "code",
   "execution_count": 4,
   "metadata": {},
   "outputs": [],
   "source": [
    "// Interface: Represents a contract specifying methods that a class must implement.\n",
    "\n",
    "interface Drawable {\n",
    "    void draw();\n",
    "}\n",
    "\n",
    "class Circle implements Drawable {\n",
    "    public void draw() {\n",
    "        System.out.println(\"Drawing a circle\");\n",
    "    }\n",
    "}\n"
   ]
  },
  {
   "cell_type": "code",
   "execution_count": null,
   "metadata": {},
   "outputs": [],
   "source": []
  }
 ],
 "metadata": {
  "kernelspec": {
   "display_name": "Java",
   "language": "java",
   "name": "java"
  },
  "language_info": {
   "codemirror_mode": "java",
   "file_extension": ".jshell",
   "mimetype": "text/x-java-source",
   "name": "java",
   "pygments_lexer": "java",
   "version": "17.0.8.1+1-Ubuntu-0ubuntu122.04"
  }
 },
 "nbformat": 4,
 "nbformat_minor": 2
}
