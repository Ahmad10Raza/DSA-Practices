{
 "cells": [
  {
   "attachments": {},
   "cell_type": "markdown",
   "metadata": {},
   "source": [
    "# Assignment 02"
   ]
  },
  {
   "attachments": {},
   "cell_type": "markdown",
   "metadata": {},
   "source": [
    "### 💡 **Question 1**\n",
    "Given an integer array nums of 2n integers, group these integers into n pairs (a1, b1), (a2, b2),..., (an, bn) such that the sum of min(ai, bi) for all i is maximized. Return the maximized sum.\n",
    "\n",
    "**Example 1:**\n",
    "Input: nums = [1,4,3,2]\n",
    "Output: 4\n",
    "\n",
    "**Explanation:** All possible pairings (ignoring the ordering of elements) are:\n",
    "\n",
    "1. (1, 4), (2, 3) -> min(1, 4) + min(2, 3) = 1 + 2 = 3\n",
    "2. (1, 3), (2, 4) -> min(1, 3) + min(2, 4) = 1 + 2 = 3\n",
    "3. (1, 2), (3, 4) -> min(1, 2) + min(3, 4) = 1 + 3 = 4\n",
    "So the maximum possible sum is 4\n"
   ]
  },
  {
   "cell_type": "code",
   "execution_count": 1,
   "metadata": {},
   "outputs": [],
   "source": [
    "public static int maxPairSum(int[] nums) {\n",
    "    // Sort the array nums in increasing order.\n",
    "    Arrays.sort(nums);\n",
    "\n",
    "    // Initialize the sum.\n",
    "    int sum = 0;\n",
    "\n",
    "    // Iterate through the array and add the minimum of each pair of adjacent elements to the sum.\n",
    "    for (int i = 0; i < nums.length / 2; i++) {\n",
    "      sum += Math.min(nums[2 * i], nums[2 * i + 1]);\n",
    "    }\n",
    "\n",
    "    // Return the final sum.\n",
    "    return sum;\n",
    "  }"
   ]
  },
  {
   "cell_type": "code",
   "execution_count": 3,
   "metadata": {},
   "outputs": [
    {
     "name": "stdout",
     "output_type": "stream",
     "text": [
      "4\n"
     ]
    }
   ],
   "source": [
    "int[] nums = {1,4,3,2};\n",
    "System.out.println(maxPairSum(nums));"
   ]
  },
  {
   "attachments": {},
   "cell_type": "markdown",
   "metadata": {},
   "source": [
    "### 💡 Question 2\n",
    "Alice has n candies, where the ith candy is of type candyType[i]. Alice noticed that she started to gain weight, so she visited a doctor. \n",
    "The doctor advised Alice to only eat n / 2 of the candies she has (n is always even). Alice likes her candies very much, and she wants to eat the maximum number of different types of candies while still following the doctor's advice. \n",
    "\n",
    "Given the integer array candyType of length n, return the maximum number of different types of candies she can eat if she only eats n / 2 of them.\n",
    "\n",
    "**Example 1:**\n",
    "Input: candyType = [1,1,2,2,3,3]\n",
    "Output: 3\n",
    "\n",
    "**Explanation:** Alice can only eat 6 / 2 = 3 candies. Since there are only 3 types, she can eat one of each type."
   ]
  },
  {
   "cell_type": "code",
   "execution_count": 4,
   "metadata": {},
   "outputs": [],
   "source": [
    "public static int maxDifferentCandies(int[] candyType) {\n",
    "    // Check that the input is valid.\n",
    "    if (candyType.length % 2 != 0) {\n",
    "      throw new IllegalArgumentException(\"The input array must have an even length.\");\n",
    "    }\n",
    "\n",
    "    // Create a set to store the unique candy types.\n",
    "    Set<Integer> candyTypes = new HashSet<>();\n",
    "\n",
    "    // Iterate through the array and add each candy type to the set.\n",
    "    for (int candy : candyType) {\n",
    "      candyTypes.add(candy);\n",
    "    }\n",
    "\n",
    "    // Return the number of candy types in the set.\n",
    "    return candyTypes.size();\n",
    "  }"
   ]
  },
  {
   "cell_type": "code",
   "execution_count": 5,
   "metadata": {},
   "outputs": [
    {
     "name": "stdout",
     "output_type": "stream",
     "text": [
      "3\n"
     ]
    }
   ],
   "source": [
    "int[] candyType = {1, 1, 2, 2, 3, 3};\n",
    "System.out.println(maxDifferentCandies(candyType));"
   ]
  },
  {
   "attachments": {},
   "cell_type": "markdown",
   "metadata": {},
   "source": [
    "### 💡 Question 3\n",
    "We define a harmonious array as an array where the difference between its maximum value\n",
    "and its minimum value is exactly 1.\n",
    "Given an integer array nums, return the length of its longest harmonious subsequence\n",
    "among all its possible subsequences.\n",
    "\n",
    "A subsequence of an array is a sequence that can be derived from the array by deleting some or no elements without changing the order of the remaining elements.\n",
    "\n",
    "**Example 1:**\n",
    "Input: nums = [1,3,2,2,5,2,3,7]\n",
    "Output: 5\n",
    "\n",
    "**Explanation:** The longest harmonious subsequence is [3,2,2,2,3]."
   ]
  },
  {
   "cell_type": "code",
   "execution_count": 6,
   "metadata": {},
   "outputs": [],
   "source": [
    "public static int longestHarmoniousSubsequence(int[] nums) {\n",
    "    // Initialize the maximum length.\n",
    "    int maxLen = 0;\n",
    "\n",
    "    // Create a map to store the number of occurrences of each number.\n",
    "    Map<Integer, Integer> countMap = new HashMap<>();\n",
    "\n",
    "    // Iterate through the array and update the map.\n",
    "    for (int num : nums) {\n",
    "      countMap.put(num, countMap.getOrDefault(num, 0) + 1);\n",
    "    }\n",
    "\n",
    "    // Iterate through the map and find the longest harmonious subsequence.\n",
    "    for (int num : countMap.keySet()) {\n",
    "      int otherNum = num + 1;\n",
    "      if (countMap.containsKey(otherNum)) {\n",
    "        maxLen = Math.max(maxLen, countMap.get(num) + countMap.get(otherNum));\n",
    "      }\n",
    "    }\n",
    "\n",
    "    // Return the maximum length.\n",
    "    return maxLen;\n",
    "  }"
   ]
  },
  {
   "cell_type": "code",
   "execution_count": 7,
   "metadata": {},
   "outputs": [
    {
     "name": "stdout",
     "output_type": "stream",
     "text": [
      "5\n"
     ]
    }
   ],
   "source": [
    "int[] nums = {1, 3, 2, 2, 5, 2, 3, 7};\n",
    "System.out.println(longestHarmoniousSubsequence(nums));"
   ]
  },
  {
   "attachments": {},
   "cell_type": "markdown",
   "metadata": {},
   "source": [
    "### 💡 Question 4\n",
    "You have a long flowerbed in which some of the plots are planted, and some are not.\n",
    "However, flowers cannot be planted in adjacent plots.\n",
    "Given an integer array flowerbed containing 0's and 1's, where 0 means empty and 1 means not empty, and an integer n, return true if n new flowers can be planted in the flowerbed without violating the no-adjacent-flowers rule and false otherwise.\n",
    "\n",
    "**Example 1:**\n",
    "Input: flowerbed = [1,0,0,0,1], n = 1\n",
    "Output: true"
   ]
  },
  {
   "cell_type": "code",
   "execution_count": 8,
   "metadata": {},
   "outputs": [],
   "source": [
    "public static boolean canPlantFlowers(int[] flowerbed, int n) {\n",
    "    // Initialize the count of empty plots.\n",
    "    int count = 0;\n",
    "\n",
    "    // Iterate through the array and count the number of empty plots.\n",
    "    for (int i = 0; i < flowerbed.length; i++) {\n",
    "      if (flowerbed[i] == 0) {\n",
    "        if (i == 0 || flowerbed[i - 1] == 0) {\n",
    "          count++;\n",
    "        } else if (i == flowerbed.length - 1 || flowerbed[i + 1] == 0) {\n",
    "          count++;\n",
    "        }\n",
    "      }\n",
    "    }\n",
    "\n",
    "    // Return true if the number of empty plots is at least n.\n",
    "    return count >= n;\n",
    "  }\n"
   ]
  },
  {
   "cell_type": "code",
   "execution_count": 11,
   "metadata": {},
   "outputs": [
    {
     "name": "stdout",
     "output_type": "stream",
     "text": [
      "true\n"
     ]
    }
   ],
   "source": [
    "int[] flowerbed = { 1, 0, 0, 0, 1};\n",
    "int n = 1;\n",
    "System.out.println(canPlantFlowers(flowerbed, n));"
   ]
  },
  {
   "attachments": {},
   "cell_type": "markdown",
   "metadata": {},
   "source": [
    "### 💡 Question 5\n",
    "Given an integer array nums, find three numbers whose product is maximum and return the maximum product.\n",
    "\n",
    "**Example 1:**\n",
    "Input: nums = [1,2,3]\n",
    "Output: 6"
   ]
  },
  {
   "cell_type": "code",
   "execution_count": 12,
   "metadata": {},
   "outputs": [],
   "source": [
    "public static int maxProductOfThree(int[] nums) {\n",
    "    // Initialize the maximum product.\n",
    "    int maxProduct = Integer.MIN_VALUE;\n",
    "\n",
    "    // Initialize the three largest numbers.\n",
    "    int first = Integer.MIN_VALUE;\n",
    "    int second = Integer.MIN_VALUE;\n",
    "    int third = Integer.MIN_VALUE;\n",
    "\n",
    "    // Iterate through the array and update the maximum product.\n",
    "    for (int num : nums) {\n",
    "      if (num > first) {\n",
    "        third = second;\n",
    "        second = first;\n",
    "        first = num;\n",
    "      } else if (num > second) {\n",
    "        third = second;\n",
    "        second = num;\n",
    "      } else if (num > third) {\n",
    "        third = num;\n",
    "      }\n",
    "\n",
    "      // Calculate the maximum product of three numbers.\n",
    "      maxProduct = Math.max(maxProduct, first * second * third);\n",
    "    }\n",
    "\n",
    "    // Return the maximum product.\n",
    "    return maxProduct;\n",
    "  }"
   ]
  },
  {
   "cell_type": "code",
   "execution_count": 13,
   "metadata": {},
   "outputs": [
    {
     "name": "stdout",
     "output_type": "stream",
     "text": [
      "6\n"
     ]
    }
   ],
   "source": [
    "int[] nums = {1, 2, 3};\n",
    "System.out.println(maxProductOfThree(nums));"
   ]
  },
  {
   "attachments": {},
   "cell_type": "markdown",
   "metadata": {},
   "source": [
    "### 💡 Question 6\n",
    "Given an array of integers nums which is sorted in ascending order, and an integer target,\n",
    "write a function to search target in nums. If target exists, then return its index. Otherwise,\n",
    "return -1.\n",
    "\n",
    "You must write an algorithm with O(log n) runtime complexity.\n",
    "\n",
    "**Input:** nums = [-1,0,3,5,9,12], target = 9\n",
    "Output: 4\n",
    "\n",
    "**Explanation:** 9 exists in nums and its index is 4"
   ]
  },
  {
   "cell_type": "code",
   "execution_count": 14,
   "metadata": {},
   "outputs": [],
   "source": [
    "public static int search(int[] nums, int target) {\n",
    "    // Initialize the left and right pointers.\n",
    "    int left = 0;\n",
    "    int right = nums.length - 1;\n",
    "\n",
    "    // Iterate until the left pointer is greater than or equal to the right pointer.\n",
    "    while (left <= right) {\n",
    "      // Calculate the middle index.\n",
    "      int mid = (left + right) / 2;\n",
    "\n",
    "      // Check if the middle element is equal to the target.\n",
    "      if (nums[mid] == target) {\n",
    "        return mid;\n",
    "      } else if (nums[mid] < target) {\n",
    "        // Update the left pointer.\n",
    "        left = mid + 1;\n",
    "      } else {\n",
    "        // Update the right pointer.\n",
    "        right = mid - 1;\n",
    "      }\n",
    "    }\n",
    "\n",
    "    // Return -1 if the target is not found.\n",
    "    return -1;\n",
    "  }"
   ]
  },
  {
   "cell_type": "code",
   "execution_count": 15,
   "metadata": {},
   "outputs": [
    {
     "name": "stdout",
     "output_type": "stream",
     "text": [
      "4\n"
     ]
    }
   ],
   "source": [
    "int[] nums = {-1,0,3,5,9,12};\n",
    "int target = 9;\n",
    "System.out.println(search(nums, target));"
   ]
  },
  {
   "attachments": {},
   "cell_type": "markdown",
   "metadata": {},
   "source": [
    "### 💡 Question 7\n",
    "An array is monotonic if it is either monotone increasing or monotone decreasing.\n",
    "An array nums is monotone increasing if for all i <= j, nums[i] <= nums[j]. An array nums is\n",
    "monotone decreasing if for all i <= j, nums[i] >= nums[j].\n",
    "\n",
    "Given an integer array nums, return true if the given array is monotonic, or false otherwise.\n",
    "\n",
    "**Example 1:**\n",
    "**Input:** nums = [1,2,2,3]\n",
    "**Output:** true"
   ]
  },
  {
   "cell_type": "code",
   "execution_count": 16,
   "metadata": {},
   "outputs": [],
   "source": [
    "public static boolean isMonotonic(int[] nums) {\n",
    "    // Initialize the increasing flag and decreasing flag.\n",
    "    boolean increasing = true;\n",
    "    boolean decreasing = true;\n",
    "\n",
    "    // Iterate through the array.\n",
    "    for (int i = 1; i < nums.length; i++) {\n",
    "      // Check if the array is increasing.\n",
    "      if (nums[i] < nums[i - 1]) {\n",
    "        increasing = false;\n",
    "      }\n",
    "\n",
    "      // Check if the array is decreasing.\n",
    "      if (nums[i] > nums[i - 1]) {\n",
    "        decreasing = false;\n",
    "      }\n",
    "\n",
    "      // If the array is not increasing and not decreasing, return false.\n",
    "      if (!increasing && !decreasing) {\n",
    "        return false;\n",
    "      }\n",
    "    }\n",
    "\n",
    "    // Return true if the array is monotonic.\n",
    "    return true;\n",
    "  }"
   ]
  },
  {
   "cell_type": "code",
   "execution_count": 17,
   "metadata": {},
   "outputs": [
    {
     "name": "stdout",
     "output_type": "stream",
     "text": [
      "true\n"
     ]
    }
   ],
   "source": [
    "int[] nums = {1, 2,2,3};\n",
    "System.out.println(isMonotonic(nums));"
   ]
  },
  {
   "attachments": {},
   "cell_type": "markdown",
   "metadata": {},
   "source": [
    "### 💡 Question 8\n",
    "You are given an integer array nums and an integer k.\n",
    "\n",
    "In one operation, you can choose any index i where 0 <= i < nums.length and change nums[i] to nums[i] + x where x is an integer from the range [-k, k]. You can apply this operation at most once for each index i.\n",
    "\n",
    "The score of nums is the difference between the maximum and minimum elements in nums.\n",
    "\n",
    "Return the minimum score of nums after applying the mentioned operation at most once for each index in it.\n",
    "\n",
    "**Example 1:**\n",
    "**Input:** nums = [1], k = 0\n",
    "**Output:** 0\n",
    "\n",
    "**Explanation:** The score is max(nums) - min(nums) = 1 - 1 = 0."
   ]
  },
  {
   "cell_type": "code",
   "execution_count": 18,
   "metadata": {},
   "outputs": [],
   "source": [
    "public static int minScore(int[] nums, int k) {\n",
    "    // Initialize the minimum score.\n",
    "    int minScore = Integer.MAX_VALUE;\n",
    "\n",
    "    // Iterate through the array.\n",
    "    for (int i = 0; i < nums.length; i++) {\n",
    "      // Calculate the minimum score after applying the operation.\n",
    "      int newScore = Math.min(nums[i] + k, nums[i] - k);\n",
    "\n",
    "      // Update the minimum score.\n",
    "      minScore = Math.min(minScore, newScore);\n",
    "    }\n",
    "\n",
    "    // Return the minimum score.\n",
    "    return minScore;\n",
    "  }"
   ]
  },
  {
   "cell_type": "code",
   "execution_count": 19,
   "metadata": {},
   "outputs": [
    {
     "name": "stdout",
     "output_type": "stream",
     "text": [
      "1\n"
     ]
    }
   ],
   "source": [
    "int[] nums = {1};\n",
    "int k = 0;\n",
    "System.out.println(minScore(nums, k));"
   ]
  },
  {
   "cell_type": "code",
   "execution_count": 20,
   "metadata": {},
   "outputs": [
    {
     "name": "stdout",
     "output_type": "stream",
     "text": [
      "-1\n"
     ]
    }
   ],
   "source": [
    "int[] nums = {1, 3, 2, 4};\n",
    "int k = 2;\n",
    "System.out.println(minScore(nums, k));"
   ]
  },
  {
   "attachments": {},
   "cell_type": "markdown",
   "metadata": {},
   "source": [
    "# Thank You!"
   ]
  }
 ],
 "metadata": {
  "kernelspec": {
   "display_name": "Java",
   "language": "java",
   "name": "java"
  },
  "language_info": {
   "codemirror_mode": "java",
   "file_extension": ".jshell",
   "mimetype": "text/x-java-source",
   "name": "java",
   "pygments_lexer": "java",
   "version": "17.0.6+10-Debian-1"
  },
  "orig_nbformat": 4
 },
 "nbformat": 4,
 "nbformat_minor": 2
}
