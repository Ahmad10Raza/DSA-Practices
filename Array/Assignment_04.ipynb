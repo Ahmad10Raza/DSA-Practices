{
 "cells": [
  {
   "attachments": {},
   "cell_type": "markdown",
   "metadata": {},
   "source": [
    "# Assignment 04"
   ]
  },
  {
   "attachments": {},
   "cell_type": "markdown",
   "metadata": {},
   "source": [
    "## 💡 **Question 1**\n",
    "Given three integer arrays arr1, arr2 and arr3 **sorted** in **strictly increasing** order, return a sorted array of **only** the integers that appeared in **all** three arrays.\n",
    "\n",
    "**Example 1:**\n",
    "\n",
    "Input: arr1 = [1,2,3,4,5], arr2 = [1,2,5,7,9], arr3 = [1,3,4,5,8]\n",
    "\n",
    "Output: [1,5]\n",
    "\n",
    "**Explanation:** Only 1 and 5 appeared in the three arrays."
   ]
  },
  {
   "cell_type": "code",
   "execution_count": 3,
   "metadata": {
    "vscode": {
     "languageId": "java"
    }
   },
   "outputs": [],
   "source": [
    "import java.util.ArrayList;\n",
    "import java.util.Arrays;\n",
    "public static ArrayList<Integer> findIntersection(int[] arr1, int[] arr2, int[] arr3) {\n",
    "    ArrayList<Integer> intersection = new ArrayList<>();\n",
    "    int i = 0, j = 0, k = 0;\n",
    "\n",
    "    while (i < arr1.length && j < arr2.length && k < arr3.length) {\n",
    "        if (arr1[i] == arr2[j] && arr2[j] == arr3[k]) {\n",
    "            intersection.add(arr1[i]);\n",
    "            i++;\n",
    "            j++;\n",
    "            k++;\n",
    "        } else if (arr1[i] < arr2[j]) {\n",
    "            i++;\n",
    "        } else if (arr2[j] < arr3[k]) {\n",
    "            j++;\n",
    "        } else {\n",
    "            k++;\n",
    "        }\n",
    "    }\n",
    "\n",
    "    return intersection;\n",
    "}"
   ]
  },
  {
   "cell_type": "code",
   "execution_count": 4,
   "metadata": {
    "vscode": {
     "languageId": "java"
    }
   },
   "outputs": [
    {
     "name": "stdout",
     "output_type": "stream",
     "text": [
      "[1, 5]\n"
     ]
    }
   ],
   "source": [
    "int[] arr1 = {1, 2, 3, 4, 5};\n",
    "int[] arr2 = {1, 2, 5, 7, 9};\n",
    "int[] arr3 = {1, 3, 4, 5, 8};\n",
    "\n",
    "ArrayList<Integer> intersection = findIntersection(arr1, arr2, arr3);\n",
    "System.out.println(intersection);"
   ]
  },
  {
   "attachments": {},
   "cell_type": "markdown",
   "metadata": {},
   "source": [
    "## 💡 **Question 2**\n",
    "\n",
    "Given two **0-indexed** integer arrays nums1 and nums2, return *a list* answer *of size* 2 *where:*\n",
    "\n",
    "- answer[0] *is a list of all **distinct** integers in* nums1 *which are **not** present in* nums2*.*\n",
    "- answer[1] *is a list of all **distinct** integers in* nums2 *which are **not** present in* nums1.\n",
    "\n",
    "**Note** that the integers in the lists may be returned in **any** order.\n",
    "\n",
    "**Example 1:**\n",
    "\n",
    "**Input:** nums1 = [1,2,3], nums2 = [2,4,6]\n",
    "\n",
    "**Output:** [[1,3],[4,6]]\n",
    "\n",
    "**Explanation:**\n",
    "\n",
    "For nums1, nums1[1] = 2 is present at index 0 of nums2, whereas nums1[0] = 1 and nums1[2] = 3 are not present in nums2. Therefore, answer[0] = [1,3].\n",
    "\n",
    "For nums2, nums2[0] = 2 is present at index 1 of nums1, whereas nums2[1] = 4 and nums2[2] = 6 are not present in nums2. Therefore, answer[1] = [4,6].\n"
   ]
  },
  {
   "cell_type": "code",
   "execution_count": 5,
   "metadata": {
    "vscode": {
     "languageId": "java"
    }
   },
   "outputs": [],
   "source": [
    "public static List<Integer> findDifference(int[] nums1, int[] nums2) {\n",
    "    List<Integer> answer = new ArrayList<>();\n",
    "    Set<Integer> set1 = new HashSet<>();\n",
    "    Set<Integer> set2 = new HashSet<>();\n",
    "\n",
    "    for (int num : nums1) {\n",
    "        set1.add(num);\n",
    "    }\n",
    "\n",
    "    for (int num : nums2) {\n",
    "        set2.add(num);\n",
    "    }\n",
    "\n",
    "    for (int num : set1) {\n",
    "        if (!set2.contains(num)) {\n",
    "            answer.add(num);\n",
    "        }\n",
    "    }\n",
    "\n",
    "    for (int num : set2) {\n",
    "        if (!set1.contains(num)) {\n",
    "            answer.add(num);\n",
    "        }\n",
    "    }\n",
    "\n",
    "    return answer;\n",
    "}\n"
   ]
  },
  {
   "cell_type": "code",
   "execution_count": 6,
   "metadata": {
    "vscode": {
     "languageId": "java"
    }
   },
   "outputs": [
    {
     "name": "stdout",
     "output_type": "stream",
     "text": [
      "[1, 3, 4, 6]\n"
     ]
    }
   ],
   "source": [
    "int[] nums1 = {1, 2, 3};\n",
    "int[] nums2 = {2,4,6};\n",
    "\n",
    "List<Integer> answer = findDifference(nums1, nums2);\n",
    "System.out.println(answer);"
   ]
  },
  {
   "attachments": {},
   "cell_type": "markdown",
   "metadata": {},
   "source": [
    "## 💡 **Question 3**\n",
    "Given a 2D integer array matrix, return *the **transpose** of* matrix.\n",
    "\n",
    "The **transpose** of a matrix is the matrix flipped over its main diagonal, switching the matrix's row and column indices.\n",
    "\n",
    "**Example 1:**\n",
    "\n",
    "Input: matrix = [[1,2,3],[4,5,6],[7,8,9]]\n",
    "\n",
    "Output: [[1,4,7],[2,5,8],[3,6,9]]\n",
    "\n",
    "![iamge_v3.png](https://s3-us-west-2.amazonaws.com/secure.notion-static.com/a54805f4-c9b5-491c-a900-8e8a94062c79/iamge_v3.png)\n"
   ]
  },
  {
   "cell_type": "code",
   "execution_count": 7,
   "metadata": {
    "vscode": {
     "languageId": "java"
    }
   },
   "outputs": [],
   "source": [
    "public static int[][] transpose(int[][] matrix) {\n",
    "    int[][] transpose = new int[matrix[0].length][matrix.length];\n",
    "\n",
    "    for (int i = 0; i < matrix.length; i++) {\n",
    "        for (int j = 0; j < matrix[0].length; j++) {\n",
    "            transpose[j][i] = matrix[i][j];\n",
    "        }\n",
    "    }\n",
    "\n",
    "    return transpose;\n",
    "}"
   ]
  },
  {
   "cell_type": "code",
   "execution_count": 9,
   "metadata": {
    "vscode": {
     "languageId": "java"
    }
   },
   "outputs": [
    {
     "name": "stdout",
     "output_type": "stream",
     "text": [
      "[[I@3734287f\n"
     ]
    }
   ],
   "source": [
    "int[][] matrix = {{1, 2, 3}, {4, 5, 6}, {7, 8, 9}};\n",
    "\n",
    "int[][] transpose = transpose(matrix);\n",
    "System.out.println(transpose); // [[1,4,7],[2,5,8],[3,6,9]]"
   ]
  },
  {
   "attachments": {},
   "cell_type": "markdown",
   "metadata": {},
   "source": [
    "[[1, 4, 7],\n",
    "\n",
    " [2, 5, 8],\n",
    " \n",
    " [3, 6, 9]]"
   ]
  },
  {
   "attachments": {},
   "cell_type": "markdown",
   "metadata": {},
   "source": [
    "## 💡 **Question 4**\n",
    "Given an integer array nums of 2n integers, group these integers into n pairs (a1, b1), (a2, b2), ..., (an, bn) such that the sum of min(ai, bi) for all i is **maximized**. Return *the maximized sum*.\n",
    "\n",
    "**Example 1:**\n",
    "\n",
    "Input: nums = [1,4,3,2]\n",
    "\n",
    "Output: 4\n",
    "\n",
    "**Explanation:** All possible pairings (ignoring the ordering of elements) are:\n",
    "\n",
    "1. (1, 4), (2, 3) -> min(1, 4) + min(2, 3) = 1 + 2 = 3\n",
    "\n",
    "2. (1, 3), (2, 4) -> min(1, 3) + min(2, 4) = 1 + 2 = 3\n",
    "\n",
    "3. (1, 2), (3, 4) -> min(1, 2) + min(3, 4) = 1 + 3 = 4\n",
    "\n",
    "So the maximum possible sum is 4.\n"
   ]
  },
  {
   "cell_type": "code",
   "execution_count": 10,
   "metadata": {
    "vscode": {
     "languageId": "java"
    }
   },
   "outputs": [],
   "source": [
    "public static int arrayPairSum(int[] nums) {\n",
    "    int sum = 0;\n",
    "    Arrays.sort(nums);\n",
    "    for (int i = 0; i < nums.length; i += 2) {\n",
    "        sum += Math.min(nums[i], nums[i + 1]);\n",
    "    }\n",
    "    return sum;\n",
    "}"
   ]
  },
  {
   "cell_type": "code",
   "execution_count": 11,
   "metadata": {
    "vscode": {
     "languageId": "java"
    }
   },
   "outputs": [
    {
     "name": "stdout",
     "output_type": "stream",
     "text": [
      "4\n"
     ]
    }
   ],
   "source": [
    "int[] nums = {1, 4, 3, 2};\n",
    "int sum = arrayPairSum(nums);\n",
    "System.out.println(sum);"
   ]
  },
  {
   "attachments": {},
   "cell_type": "markdown",
   "metadata": {},
   "source": [
    "## 💡 **Question 5**\n",
    "You have n coins and you want to build a staircase with these coins. The staircase consists of k rows where the ith row has exactly i coins. The last row of the staircase **may be** incomplete.\n",
    "\n",
    "Given the integer n, return *the number of **complete rows** of the staircase you will build*.\n",
    "\n",
    "**Example 1:**\n",
    "\n",
    "[]()\n",
    "\n",
    "![v2.jpg](https://s3-us-west-2.amazonaws.com/secure.notion-static.com/4bd91cfa-d2b1-47b3-8197-a72e8dcfff4b/v2.jpg)\n",
    "\n",
    "**Input:** n = 5\n",
    "\n",
    "**Output:** 2\n",
    "\n",
    "**Explanation:** Because the 3rd row is incomplete, we return 2."
   ]
  },
  {
   "cell_type": "code",
   "execution_count": 12,
   "metadata": {
    "vscode": {
     "languageId": "java"
    }
   },
   "outputs": [],
   "source": [
    "public static int staircase(int n) {\n",
    "    int completeRows = 0;\n",
    "    int currentRow = 1;\n",
    "\n",
    "    while (currentRow <= n) {\n",
    "        if (n >= currentRow) {\n",
    "            completeRows++;\n",
    "            n -= currentRow;\n",
    "        } else {\n",
    "            break;\n",
    "        }\n",
    "\n",
    "        currentRow++;\n",
    "    }\n",
    "\n",
    "    return completeRows;\n",
    "}\n"
   ]
  },
  {
   "cell_type": "code",
   "execution_count": 13,
   "metadata": {
    "vscode": {
     "languageId": "java"
    }
   },
   "outputs": [
    {
     "name": "stdout",
     "output_type": "stream",
     "text": [
      "2\n"
     ]
    }
   ],
   "source": [
    "int n = 5;\n",
    "int completeRows = staircase(n);\n",
    "System.out.println(completeRows);"
   ]
  },
  {
   "attachments": {},
   "cell_type": "markdown",
   "metadata": {},
   "source": [
    "## 💡 **Question 6**\n",
    "Given an integer array nums sorted in **non-decreasing** order, return *an array of **the squares of each number** sorted in non-decreasing order*.\n",
    "\n",
    "**Example 1:**\n",
    "\n",
    "Input: nums = [-4,-1,0,3,10]\n",
    "\n",
    "Output: [0,1,9,16,100]\n",
    "\n",
    "**Explanation:** After squaring, the array becomes [16,1,0,9,100].\n",
    "After sorting, it becomes [0,1,9,16,100]\n"
   ]
  },
  {
   "cell_type": "code",
   "execution_count": 14,
   "metadata": {
    "vscode": {
     "languageId": "java"
    }
   },
   "outputs": [],
   "source": [
    "public static int[] sortedSquares(int[] nums) {\n",
    "    int[] squares = new int[nums.length];\n",
    "\n",
    "    for (int i = 0; i < nums.length; i++) {\n",
    "        squares[i] = nums[i] * nums[i];\n",
    "    }\n",
    "\n",
    "    Arrays.sort(squares);\n",
    "    return squares;\n",
    "}"
   ]
  },
  {
   "cell_type": "code",
   "execution_count": 15,
   "metadata": {
    "vscode": {
     "languageId": "java"
    }
   },
   "outputs": [
    {
     "name": "stdout",
     "output_type": "stream",
     "text": [
      "[0, 1, 9, 16, 100]\n"
     ]
    }
   ],
   "source": [
    "int[] nums = {-4, -1, 0, 3, 10};\n",
    "int[] squares = sortedSquares(nums);\n",
    "System.out.println(Arrays.toString(squares));"
   ]
  },
  {
   "attachments": {},
   "cell_type": "markdown",
   "metadata": {},
   "source": [
    "## 💡 **Question 7**\n",
    "You are given an m x n matrix M initialized with all 0's and an array of operations ops, where ops[i] = [ai, bi] means M[x][y] should be incremented by one for all 0 <= x < ai and 0 <= y < bi.\n",
    "\n",
    "Count and return *the number of maximum integers in the matrix after performing all the operations*\n",
    "\n",
    "**Example 1:**\n",
    "\n",
    "![q4.jpg](https://s3-us-west-2.amazonaws.com/secure.notion-static.com/4d0890d0-7bc7-4f59-be8e-352d9f3c1c52/q4.jpg)\n",
    "\n",
    "**Input:** m = 3, n = 3, ops = [[2,2],[3,3]]\n",
    "\n",
    "**Output:** 4\n",
    "\n",
    "**Explanation:** The maximum integer in M is 2, and there are four of it in M. So return 4.\n"
   ]
  },
  {
   "cell_type": "code",
   "execution_count": 16,
   "metadata": {
    "vscode": {
     "languageId": "java"
    }
   },
   "outputs": [],
   "source": [
    "public static int maxInteger(int[][] matrix, int[][] ops) {\n",
    "    int max = 0;\n",
    "\n",
    "    for (int[] op : ops) {\n",
    "        for (int i = 0; i < op[0]; i++) {\n",
    "            for (int j = 0; j < op[1]; j++) {\n",
    "                matrix[i][j]++;\n",
    "                if (matrix[i][j] > max) {\n",
    "                    max = matrix[i][j];\n",
    "                }\n",
    "            }\n",
    "        }\n",
    "    }\n",
    "\n",
    "    int count = 0;\n",
    "    for (int[] row : matrix) {\n",
    "        for (int num : row) {\n",
    "            if (num == max) {\n",
    "                count++;\n",
    "            }\n",
    "        }\n",
    "    }\n",
    "\n",
    "    return count;\n",
    "}"
   ]
  },
  {
   "cell_type": "code",
   "execution_count": 18,
   "metadata": {
    "vscode": {
     "languageId": "java"
    }
   },
   "outputs": [
    {
     "name": "stdout",
     "output_type": "stream",
     "text": [
      "4\n"
     ]
    }
   ],
   "source": [
    "int[][] matrix = new int[][]{{0, 0, 0}, {0, 0, 0}, {0, 0, 0}};\n",
    "int[][] ops = new int[][]{{2, 2}, {3, 3}};\n",
    "\n",
    "int count = maxInteger(matrix, ops);\n",
    "System.out.println(count);"
   ]
  },
  {
   "attachments": {},
   "cell_type": "markdown",
   "metadata": {},
   "source": [
    "## 💡 **Question 8**\n",
    "\n",
    "Given the array nums consisting of 2n elements in the form [x1,x2,...,xn,y1,y2,...,yn].\n",
    "\n",
    "*Return the array in the form* [x1,y1,x2,y2,...,xn,yn].\n",
    "\n",
    "**Example 1:**\n",
    "\n",
    "**Input:** nums = [2,5,1,3,4,7], n = 3\n",
    "\n",
    "**Output:** [2,3,5,4,1,7]\n",
    "\n",
    "**Explanation:** Since x1=2, x2=5, x3=1, y1=3, y2=4, y3=7 then the answer is [2,3,5,4,1,7].\n"
   ]
  },
  {
   "cell_type": "code",
   "execution_count": 20,
   "metadata": {
    "vscode": {
     "languageId": "java"
    }
   },
   "outputs": [],
   "source": [
    "public static int[] rearrangeArray(int[] nums, int n) {\n",
    "    int[] result = new int[2 * n];\n",
    "\n",
    "    for (int i = 0; i < n; i++) {\n",
    "        result[2 * i] = nums[i];\n",
    "        result[2 * i + 1] = nums[n + i];\n",
    "    }\n",
    "\n",
    "    return result;\n",
    "}"
   ]
  },
  {
   "cell_type": "code",
   "execution_count": 21,
   "metadata": {
    "vscode": {
     "languageId": "java"
    }
   },
   "outputs": [
    {
     "name": "stdout",
     "output_type": "stream",
     "text": [
      "[2, 3, 5, 4, 1, 7]\n"
     ]
    }
   ],
   "source": [
    "int[] nums = {2, 5, 1, 3, 4, 7};\n",
    "int n = 3;\n",
    "\n",
    "int[] result = rearrangeArray(nums, n);\n",
    "System.out.println(Arrays.toString(result));\n"
   ]
  },
  {
   "attachments": {},
   "cell_type": "markdown",
   "metadata": {},
   "source": [
    "# Thank You!"
   ]
  }
 ],
 "metadata": {
  "kernelspec": {
   "display_name": "Java",
   "language": "java",
   "name": "java"
  },
  "language_info": {
   "codemirror_mode": "java",
   "file_extension": ".jshell",
   "mimetype": "text/x-java-source",
   "name": "Java",
   "pygments_lexer": "java",
   "version": "17.0.6+10-Debian-1"
  },
  "orig_nbformat": 4
 },
 "nbformat": 4,
 "nbformat_minor": 2
}
