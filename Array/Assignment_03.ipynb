{
 "cells": [
  {
   "attachments": {},
   "cell_type": "markdown",
   "metadata": {},
   "source": [
    "# Assignment 02"
   ]
  },
  {
   "attachments": {},
   "cell_type": "markdown",
   "metadata": {},
   "source": [
    "\n",
    "## 💡 **Question 1**\n",
    "**Given an integer array nums of length n and an integer target, find three integers\n",
    "in nums such that the sum is closest to the target.\n",
    "Return the sum of the three integers.**\n",
    "\n",
    "You may assume that each input would have exactly one solution.\n",
    "\n",
    "**Example 1:**\n",
    "Input: nums = [-1,2,1,-4], target = 1\n",
    "Output: 2\n",
    "\n",
    "**Explanation:** The sum that is closest to the target is 2. (-1 + 2 + 1 = 2)."
   ]
  },
  {
   "cell_type": "code",
   "execution_count": 1,
   "metadata": {
    "vscode": {
     "languageId": "java"
    }
   },
   "outputs": [],
   "source": [
    "public static int closestSum(int[] nums, int target) {\n",
    "    int closestSum = Integer.MAX_VALUE;\n",
    "    for (int i = 0; i < nums.length; i++) {\n",
    "        for (int j = i + 1; j < nums.length; j++) {\n",
    "            for (int k = j + 1; k < nums.length; k++) {\n",
    "                int currentSum = nums[i] + nums[j] + nums[k];\n",
    "                if (Math.abs(currentSum - target) < Math.abs(closestSum - target)) {\n",
    "                    closestSum = currentSum;\n",
    "                }\n",
    "            }\n",
    "        }\n",
    "    }\n",
    "    return closestSum;\n",
    "}"
   ]
  },
  {
   "cell_type": "code",
   "execution_count": 2,
   "metadata": {
    "vscode": {
     "languageId": "java"
    }
   },
   "outputs": [
    {
     "name": "stdout",
     "output_type": "stream",
     "text": [
      "2\n"
     ]
    }
   ],
   "source": [
    "int[] nums = {-1,2,1,-4};\n",
    "int target = 1;\n",
    "System.out.println(closestSum(nums, target));"
   ]
  },
  {
   "attachments": {},
   "cell_type": "markdown",
   "metadata": {},
   "source": [
    "##  💡 Question 2\n",
    "Given an array nums of n integers, return an array of all the unique quadruplets\n",
    "[nums[a], nums[b], nums[c], nums[d]] such that:\n",
    "           ● 0 <= a, b, c, d < n\n",
    "           ● a, b, c, and d are distinct.\n",
    "           ● nums[a] + nums[b] + nums[c] + nums[d] == target\n",
    "\n",
    "You may return the answer in any order.\n",
    "\n",
    "Example 1:\n",
    "Input: nums = [1,0,-1,0,-2,2], target = 0\n",
    "Output: [[-2,-1,1,2],[-2,0,0,2],[-1,0,0,1]]"
   ]
  },
  {
   "cell_type": "code",
   "execution_count": 3,
   "metadata": {
    "vscode": {
     "languageId": "java"
    }
   },
   "outputs": [],
   "source": [
    "public static List<int[]> fourSum(int[] nums, int target) {\n",
    "    List<int[]> quadruplets = new ArrayList<>();\n",
    "    Arrays.sort(nums);\n",
    "    for (int i = 0; i < nums.length - 3; i++) {\n",
    "        for (int j = i + 1; j < nums.length - 2; j++) {\n",
    "            int target2 = target - nums[i] - nums[j];\n",
    "            int left = j + 1;\n",
    "            int right = nums.length - 1;\n",
    "            while (left < right) {\n",
    "                int sum = nums[left] + nums[right];\n",
    "                if (sum == target2) {\n",
    "                    quadruplets.add(new int[]{nums[i], nums[j], nums[left], nums[right]});\n",
    "                    left++;\n",
    "                    right--;\n",
    "                } else if (sum < target2) {\n",
    "                    left++;\n",
    "                } else {\n",
    "                    right--;\n",
    "                }\n",
    "            }\n",
    "        }\n",
    "    }\n",
    "    return quadruplets;\n",
    "}"
   ]
  },
  {
   "cell_type": "code",
   "execution_count": 4,
   "metadata": {
    "vscode": {
     "languageId": "java"
    }
   },
   "outputs": [
    {
     "name": "stdout",
     "output_type": "stream",
     "text": [
      "[-2, -1, 1, 2]\n",
      "[-2, 0, 0, 2]\n",
      "[-1, 0, 0, 1]\n"
     ]
    }
   ],
   "source": [
    "int[] nums = {1,0,-1,0,-2,2};\n",
    "int target = 0;\n",
    "List<int[]> quadruplets = fourSum(nums, target);\n",
    "for (int[] quadruplet : quadruplets) {\n",
    "    System.out.println(Arrays.toString(quadruplet));\n",
    "}"
   ]
  },
  {
   "attachments": {},
   "cell_type": "markdown",
   "metadata": {},
   "source": [
    "\n",
    "## 💡 **Question 3**\n",
    "A permutation of an array of integers is an arrangement of its members into a\n",
    "sequence or linear order.\n",
    "\n",
    "For example, for arr = [1,2,3], the following are all the permutations of arr:\n",
    "[1,2,3], [1,3,2], [2, 1, 3], [2, 3, 1], [3,1,2], [3,2,1].\n",
    "\n",
    "The next permutation of an array of integers is the next lexicographically greater\n",
    "permutation of its integer. More formally, if all the permutations of the array are\n",
    "sorted in one container according to their lexicographical order, then the next\n",
    "permutation of that array is the permutation that follows it in the sorted container.\n",
    "\n",
    "If such an arrangement is not possible, the array must be rearranged as the\n",
    "lowest possible order (i.e., sorted in ascending order).\n",
    "\n",
    "● For example, the next permutation of arr = [1,2,3] is [1,3,2].\n",
    "● Similarly, the next permutation of arr = [2,3,1] is [3,1,2].\n",
    "● While the next permutation of arr = [3,2,1] is [1,2,3] because [3,2,1] does not\n",
    "have a lexicographical larger rearrangement.\n",
    "\n",
    "Given an array of integers nums, find the next permutation of nums.\n",
    "The replacement must be in place and use only constant extra memory.\n",
    "\n",
    "**Example 1:**\n",
    "Input: nums = [1,2,3]\n",
    "Output: [1,3,2]\n"
   ]
  },
  {
   "cell_type": "code",
   "execution_count": 11,
   "metadata": {
    "vscode": {
     "languageId": "java"
    }
   },
   "outputs": [],
   "source": [
    "\n",
    "    public static int[] swap(int data[], int left, int right) {\n",
    "        // Swap the data\n",
    "        int temp = data[left];\n",
    "        data[left] = data[right];\n",
    "        data[right] = temp;\n",
    "        // Return the updated array\n",
    "        return data;\n",
    "    }\n",
    "    public static int[] reverse(int data[], int left, int right) {\n",
    "        // Reverse the sub-array\n",
    "        while (left < right) {\n",
    "            int temp = data[left];\n",
    "            data[left++] = data[right];\n",
    "            data[right--] = temp;\n",
    "        }\n",
    "        // Return the updated array\n",
    "        return data;\n",
    "    }\n",
    "    public static boolean findNextPermutation(int data[]) {\n",
    "        if (data.length <= 1) return false;        \n",
    "        int last = data.length - 2;        \n",
    "         while (last >= 0) {\n",
    "            if (data[last] < data[last + 1]) {\n",
    "                break;\n",
    "            }\n",
    "            last--;\n",
    "        }\n",
    "        if (last < 0) return false;        \n",
    "        int nextGreater = data.length - 1;      \n",
    "       // Find the rightmost successor to the pivot        \n",
    "        for (int i = data.length - 1; i > last; i--) {\n",
    "            if (data[i] > data[last]) {\n",
    "                nextGreater = i;\n",
    "                break;\n",
    "            }\n",
    "        }\n",
    "        data = swap(data, nextGreater, last);\n",
    "        data = reverse(data, last + 1, data.length - 1);\n",
    "        return true;\n",
    "    }\n"
   ]
  },
  {
   "cell_type": "code",
   "execution_count": 13,
   "metadata": {
    "vscode": {
     "languageId": "java"
    }
   },
   "outputs": [
    {
     "name": "stdout",
     "output_type": "stream",
     "text": [
      "[1, 3, 2]\n"
     ]
    }
   ],
   "source": [
    "int data[] = {1, 2, 3};\n",
    "        if (!findNextPermutation(data))\n",
    "            System.out.println(\"There is no higher\" + \" order permutation \" +\n",
    "                               \"for the given data.\");\n",
    "        else {\n",
    "            System.out.println(Arrays.toString(data));\n",
    "        }"
   ]
  },
  {
   "attachments": {},
   "cell_type": "markdown",
   "metadata": {},
   "source": [
    "\n",
    "## 💡 **Question 4**\n",
    "Given a sorted array of distinct integers and a target value, return the index if the\n",
    "target is found. If not, return the index where it would be if it were inserted in\n",
    "order.\n",
    "\n",
    "You must write an algorithm with O(log n) runtime complexity.\n",
    "\n",
    "**Example 1:**\n",
    "Input: nums = [1,3,5,6], target = 5\n",
    "Output: 2\n",
    "\n"
   ]
  },
  {
   "cell_type": "code",
   "execution_count": 17,
   "metadata": {
    "vscode": {
     "languageId": "java"
    }
   },
   "outputs": [],
   "source": [
    "    public static int searchInsertPosition(int[] nums, int target) {\n",
    "        int low = 0;\n",
    "        int high = nums.length - 1;\n",
    "        while (low <= high) {\n",
    "            int mid = low + (high - low) / 2;\n",
    "            if (nums[mid] == target) {\n",
    "                return mid;\n",
    "            } else if (nums[mid] < target) {\n",
    "                low = mid + 1;\n",
    "            } else {\n",
    "                high = mid - 1;\n",
    "            }\n",
    "        }\n",
    "        return low;\n",
    "    }"
   ]
  },
  {
   "cell_type": "code",
   "execution_count": 18,
   "metadata": {
    "vscode": {
     "languageId": "java"
    }
   },
   "outputs": [
    {
     "name": "stdout",
     "output_type": "stream",
     "text": [
      "2\n"
     ]
    }
   ],
   "source": [
    "int[] nums = {1,  3, 5,6};\n",
    "int target = 5;\n",
    "int index = searchInsertPosition(nums, target);\n",
    "System.out.println(index); // 2"
   ]
  },
  {
   "attachments": {},
   "cell_type": "markdown",
   "metadata": {},
   "source": [
    "\n",
    "## 💡 **Question 5**\n",
    "You are given a large integer represented as an integer array digits, where each\n",
    "digits[i] is the ith digit of the integer. The digits are ordered from most significant\n",
    "to least significant in left-to-right order. The large integer does not contain any\n",
    "leading 0's.\n",
    "\n",
    "Increment the large integer by one and return the resulting array of digits.\n",
    "\n",
    "**Example 1:**\n",
    "Input: digits = [1,2,3]\n",
    "Output: [1,2,4]\n",
    "\n",
    "**Explanation:** The array represents the integer 123.\n",
    "Incrementing by one gives 123 + 1 = 124.\n",
    "Thus, the result should be [1,2,4].\n"
   ]
  },
  {
   "cell_type": "code",
   "execution_count": 19,
   "metadata": {
    "vscode": {
     "languageId": "java"
    }
   },
   "outputs": [],
   "source": [
    "public static int[] incrementInteger(int[] digits) {\n",
    "    int n = digits.length;\n",
    "    int carry = 1;\n",
    "    for (int i = n - 1; i >= 0; i--) {\n",
    "        int sum = digits[i] + carry;\n",
    "        digits[i] = sum % 10;\n",
    "        carry = sum / 10;\n",
    "    }\n",
    "    if (carry > 0) {\n",
    "        int[] newDigits = new int[n + 1];\n",
    "        newDigits[0] = carry;\n",
    "        for (int i = 1; i < n + 1; i++) {\n",
    "            newDigits[i] = digits[i - 1];\n",
    "        }\n",
    "        return newDigits;\n",
    "    } else {\n",
    "        return digits;\n",
    "    }\n",
    "}"
   ]
  },
  {
   "cell_type": "code",
   "execution_count": 20,
   "metadata": {
    "vscode": {
     "languageId": "java"
    }
   },
   "outputs": [
    {
     "name": "stdout",
     "output_type": "stream",
     "text": [
      "[1, 2, 4]\n"
     ]
    }
   ],
   "source": [
    "int[] digits = {1,2,3};\n",
    "int[] newDigits = incrementInteger(digits);\n",
    "System.out.println(Arrays.toString(newDigits)); "
   ]
  },
  {
   "attachments": {},
   "cell_type": "markdown",
   "metadata": {},
   "source": [
    "## 💡 **Question 6**\n",
    "Given a non-empty array of integers nums, every element appears twice except\n",
    "for one. Find that single one.\n",
    "\n",
    "You must implement a solution with a linear runtime complexity and use only\n",
    "constant extra space.\n",
    "\n",
    "**Example 1:**\n",
    "Input: nums = [2,2,1]\n",
    "Output: 1\n",
    "\n"
   ]
  },
  {
   "cell_type": "code",
   "execution_count": 21,
   "metadata": {
    "vscode": {
     "languageId": "java"
    }
   },
   "outputs": [],
   "source": [
    "public static int singleNumber(int[] nums) {\n",
    "    int result = 0;\n",
    "    for (int i = 0; i < nums.length; i++) {\n",
    "        result ^= nums[i];\n",
    "    }\n",
    "    return result;\n",
    "}"
   ]
  },
  {
   "cell_type": "code",
   "execution_count": 22,
   "metadata": {
    "vscode": {
     "languageId": "java"
    }
   },
   "outputs": [
    {
     "name": "stdout",
     "output_type": "stream",
     "text": [
      "1\n"
     ]
    }
   ],
   "source": [
    "int[] nums = {2,2,1};\n",
    "int singleNumber = singleNumber(nums);\n",
    "System.out.println(singleNumber); "
   ]
  },
  {
   "attachments": {},
   "cell_type": "markdown",
   "metadata": {},
   "source": [
    "## 💡 **Question 7**\n",
    "You are given an inclusive range [lower, upper] and a sorted unique integer array\n",
    "nums, where all elements are within the inclusive range.\n",
    "\n",
    "A number x is considered missing if x is in the range [lower, upper] and x is not in\n",
    "nums.\n",
    "\n",
    "Return the shortest sorted list of ranges that exactly covers all the missing\n",
    "numbers. That is, no element of nums is included in any of the ranges, and each\n",
    "missing number is covered by one of the ranges.\n",
    "\n",
    "**Example 1:**\n",
    "Input: nums = [0,1,3,50,75], lower = 0, upper = 99\n",
    "Output: [[2,2],[4,49],[51,74],[76,99]]\n",
    "\n",
    "**Explanation:** The ranges are:\n",
    "[2,2]\n",
    "[4,49]\n",
    "[51,74]\n",
    "[76,99]\n"
   ]
  },
  {
   "cell_type": "code",
   "execution_count": 32,
   "metadata": {
    "vscode": {
     "languageId": "java"
    }
   },
   "outputs": [],
   "source": [
    "import java.util.*;\n",
    "\n",
    "public class MissingRanges {\n",
    "\n",
    "    public static List<Range> findMissingRanges(int[] nums, int lower, int upper) {\n",
    "        List<Range> ranges = new ArrayList<>();\n",
    "        int prev = lower - 1;\n",
    "        for (int i = 0; i < nums.length; i++) {\n",
    "            if (nums[i] < lower) {\n",
    "                continue;\n",
    "            }\n",
    "            if (nums[i] == prev + 1) {\n",
    "                prev = nums[i];\n",
    "            } else {\n",
    "                if (prev + 1 != lower) {\n",
    "                    ranges.add(new Range(prev + 1, nums[i] - 1));\n",
    "                }\n",
    "                prev = nums[i];\n",
    "            }\n",
    "        }\n",
    "        if (prev != upper) {\n",
    "            ranges.add(new Range(prev + 1, upper));\n",
    "        }\n",
    "        return ranges;\n",
    "    }\n",
    "\n",
    "    public static class Range {\n",
    "\n",
    "        int start;\n",
    "        int end;\n",
    "\n",
    "        public Range(int start, int end) {\n",
    "            this.start = start;\n",
    "            this.end = end;\n",
    "        }\n",
    "\n",
    "        @Override\n",
    "        public String toString() {\n",
    "            return \"[\" + start + \",\" + end + \"]\";\n",
    "        }\n",
    "    }\n",
    "\n",
    "    public static void main(String[] args) {\n",
    "        int[] nums = {0, 1, 3, 50, 75};\n",
    "        int lower = 0;\n",
    "        int upper = 99;\n",
    "        List<Range> ranges = findMissingRanges(nums, lower, upper);\n",
    "        System.out.println(ranges); // [[2,2],[4,49],[51,74],[76,99]]\n",
    "    }\n",
    "}\n"
   ]
  },
  {
   "attachments": {},
   "cell_type": "markdown",
   "metadata": {},
   "source": [
    "## 💡 **Question 8**\n",
    "Given an array of meeting time intervals where intervals[i] = [starti, endi],\n",
    "determine if a person could attend all meetings.\n",
    "\n",
    "**Example 1:**\n",
    "Input: intervals = [[0,30],[5,10],[15,20]]\n",
    "Output: false\n"
   ]
  },
  {
   "cell_type": "code",
   "execution_count": 33,
   "metadata": {
    "vscode": {
     "languageId": "java"
    }
   },
   "outputs": [],
   "source": [
    "import java.util.*;\n",
    "\n",
    "public class MeetingAttendance {\n",
    "\n",
    "    public static boolean canAttendAllMeetings(Interval[] intervals) {\n",
    "        Arrays.sort(intervals, (a, b) -> a.start - b.start);\n",
    "        for (int i = 1; i < intervals.length; i++) {\n",
    "            if (intervals[i].start < intervals[i - 1].end) {\n",
    "                return false;\n",
    "            }\n",
    "        }\n",
    "        return true;\n",
    "    }\n",
    "\n",
    "    public static class Interval {\n",
    "\n",
    "        int start;\n",
    "        int end;\n",
    "\n",
    "        public Interval(int start, int end) {\n",
    "            this.start = start;\n",
    "            this.end = end;\n",
    "        }\n",
    "    }\n",
    "\n",
    "    public static void main(String[] args) {\n",
    "        Interval[] intervals = new Interval[] {\n",
    "            new Interval(0, 30),\n",
    "            new Interval(5, 10),\n",
    "            new Interval(15, 20),\n",
    "            new Interval(30, 40)\n",
    "        };\n",
    "        boolean canAttend = canAttendAllMeetings(intervals);\n",
    "        System.out.println(canAttend); // true\n",
    "    }\n",
    "}\n"
   ]
  },
  {
   "attachments": {},
   "cell_type": "markdown",
   "metadata": {},
   "source": [
    "# Thank You!"
   ]
  }
 ],
 "metadata": {
  "kernelspec": {
   "display_name": "Java",
   "language": "java",
   "name": "java"
  },
  "language_info": {
   "codemirror_mode": "java",
   "file_extension": ".jshell",
   "mimetype": "text/x-java-source",
   "name": "Java",
   "pygments_lexer": "java",
   "version": "17.0.6+10-Debian-1"
  },
  "orig_nbformat": 4
 },
 "nbformat": 4,
 "nbformat_minor": 2
}
