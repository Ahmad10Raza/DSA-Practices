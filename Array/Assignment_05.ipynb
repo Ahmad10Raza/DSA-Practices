{
 "cells": [
  {
   "attachments": {},
   "cell_type": "markdown",
   "metadata": {},
   "source": [
    "# Assignment 05"
   ]
  },
  {
   "attachments": {},
   "cell_type": "markdown",
   "metadata": {},
   "source": [
    "## 💡 **Question 1**\n",
    "\n",
    "Convert 1D Array Into 2D Array\n",
    "\n",
    "You are given a **0-indexed** 1-dimensional (1D) integer array original, and two integers, m and n. You are tasked with creating a 2-dimensional (2D) array with  m rows and n columns using **all** the elements from original.\n",
    "\n",
    "The elements from indices 0 to n - 1 (**inclusive**) of original should form the first row of the constructed 2D array, the elements from indices n to 2 * n - 1 (**inclusive**) should form the second row of the constructed 2D array, and so on.\n",
    "\n",
    "Return *an* m x n *2D array constructed according to the above procedure, or an empty 2D array if it is impossible*.\n",
    "\n",
    "**Example 1:**\n",
    "\n",
    "![Screenshot 2023-05-29 004311.png](https://s3-us-west-2.amazonaws.com/secure.notion-static.com/de7ec927-9e60-4545-9475-f3ee31116192/Screenshot_2023-05-29_004311.png)\n",
    "\n",
    "**Input:** original = [1,2,3,4], m = 2, n = 2\n",
    "\n",
    "**Output:** [[1,2],[3,4]]\n",
    "\n",
    "**Explanation:** The constructed 2D array should contain 2 rows and 2 columns.\n",
    "\n",
    "The first group of n=2 elements in original, [1,2], becomes the first row in the constructed 2D array.\n",
    "\n",
    "The second group of n=2 elements in original, [3,4], becomes the second row in the constructed 2D array.\n"
   ]
  },
  {
   "cell_type": "code",
   "execution_count": 2,
   "metadata": {
    "vscode": {
     "languageId": "java"
    }
   },
   "outputs": [],
   "source": [
    "public static int[][] convert(int[] original, int m, int n) {\n",
    "    if (original.length != m * n) {\n",
    "        return new int[0][0];\n",
    "    }\n",
    "\n",
    "    int[][] result = new int[m][n];\n",
    "\n",
    "    for (int i = 0; i < m; i++) {\n",
    "        for (int j = 0; j < n; j++) {\n",
    "            result[i][j] = original[i * n + j];\n",
    "        }\n",
    "    }\n",
    "\n",
    "    return result;\n",
    "}\n"
   ]
  },
  {
   "cell_type": "code",
   "execution_count": 4,
   "metadata": {
    "vscode": {
     "languageId": "java"
    }
   },
   "outputs": [
    {
     "name": "stdout",
     "output_type": "stream",
     "text": [
      "[[1, 2], [3, 4]]\n"
     ]
    }
   ],
   "source": [
    "int[] original = {1, 2, 3, 4};\n",
    "int m = 2;\n",
    "int n = 2;\n",
    "\n",
    "int[][] result = convert(original, m, n);\n",
    "System.out.println(Arrays.deepToString(result));"
   ]
  },
  {
   "attachments": {},
   "cell_type": "markdown",
   "metadata": {},
   "source": [
    "## 💡 **Question 2**\n",
    "\n",
    "You have n coins and you want to build a staircase with these coins. The staircase consists of k rows where the ith row has exactly i coins. The last row of the staircase **may be** incomplete.\n",
    "\n",
    "Given the integer n, return *the number of **complete rows** of the staircase you will build*.\n",
    "\n",
    "**Example 1:**\n",
    "\n",
    "![Screenshot 2023-05-29 004404.png](https://s3-us-west-2.amazonaws.com/secure.notion-static.com/0649438a-417e-4a97-ad4a-5d576ecbfee6/Screenshot_2023-05-29_004404.png)\n",
    "\n",
    "**Input:** n = 5\n",
    "\n",
    "**Output:** 2\n",
    "\n",
    "**Explanation:** Because the 3rd row is incomplete, we return 2."
   ]
  },
  {
   "cell_type": "code",
   "execution_count": 1,
   "metadata": {
    "vscode": {
     "languageId": "java"
    }
   },
   "outputs": [],
   "source": [
    "public static int staircase(int n) {\n",
    "    int completeRows = 0;\n",
    "    int currentRow = 1;\n",
    "\n",
    "    while (currentRow <= n) {\n",
    "        if (n >= currentRow) {\n",
    "            completeRows++;\n",
    "            n -= currentRow;\n",
    "        } else {\n",
    "            break;\n",
    "        }\n",
    "\n",
    "        currentRow++;\n",
    "    }\n",
    "\n",
    "    return completeRows;\n",
    "}"
   ]
  },
  {
   "cell_type": "code",
   "execution_count": 2,
   "metadata": {
    "vscode": {
     "languageId": "java"
    }
   },
   "outputs": [
    {
     "name": "stdout",
     "output_type": "stream",
     "text": [
      "2\n"
     ]
    }
   ],
   "source": [
    "int n = 5;\n",
    "int completeRows = staircase(n);\n",
    "System.out.println(completeRows);"
   ]
  },
  {
   "attachments": {},
   "cell_type": "markdown",
   "metadata": {},
   "source": [
    "## 💡 **Question 3**\n",
    "\n",
    "Given an integer array nums sorted in **non-decreasing** order, return *an array of **the squares of each number** sorted in non-decreasing order*.\n",
    "\n",
    "**Example 1:**\n",
    "\n",
    "**Input:** nums = [-4,-1,0,3,10]\n",
    "\n",
    "**Output:** [0,1,9,16,100]\n",
    "\n",
    "**Explanation:** After squaring, the array becomes [16,1,0,9,100].\n",
    "\n",
    "After sorting, it becomes [0,1,9,16,100].\n"
   ]
  },
  {
   "cell_type": "code",
   "execution_count": 3,
   "metadata": {
    "vscode": {
     "languageId": "java"
    }
   },
   "outputs": [],
   "source": [
    "public static int[] sortedSquares(int[] nums) {\n",
    "    int[] squares = new int[nums.length];\n",
    "\n",
    "    for (int i = 0; i < nums.length; i++) {\n",
    "        squares[i] = nums[i] * nums[i];\n",
    "    }\n",
    "\n",
    "    Arrays.sort(squares);\n",
    "    return squares;\n",
    "}\n"
   ]
  },
  {
   "cell_type": "code",
   "execution_count": 6,
   "metadata": {
    "vscode": {
     "languageId": "java"
    }
   },
   "outputs": [
    {
     "name": "stdout",
     "output_type": "stream",
     "text": [
      "[0, 1, 9, 16, 100]\n"
     ]
    }
   ],
   "source": [
    "int[] nums = {-4, -1, 0, 3, 10};\n",
    "int[] squares = sortedSquares(nums);\n",
    "System.out.println(Arrays.toString(squares));"
   ]
  },
  {
   "attachments": {},
   "cell_type": "markdown",
   "metadata": {},
   "source": [
    "## 💡 **Question 4**\n",
    "\n",
    "Given two **0-indexed** integer arrays nums1 and nums2, return *a list* answer *of size* 2 *where:*\n",
    "\n",
    "- answer[0] *is a list of all **distinct** integers in* nums1 *which are **not** present in* nums2*.*\n",
    "- answer[1] *is a list of all **distinct** integers in* nums2 *which are **not** present in* nums1.\n",
    "\n",
    "**Note** that the integers in the lists may be returned in **any** order.\n",
    "\n",
    "**Example 1:**\n",
    "\n",
    "**Input:** nums1 = [1,2,3], nums2 = [2,4,6]\n",
    "\n",
    "**Output:** [[1,3],[4,6]]\n",
    "\n",
    "**Explanation:**\n",
    "\n",
    "For nums1, nums1[1] = 2 is present at index 0 of nums2, whereas nums1[0] = 1 and nums1[2] = 3 are not present in nums2. Therefore, answer[0] = [1,3].\n",
    "\n",
    "For nums2, nums2[0] = 2 is present at index 1 of nums1, whereas nums2[1] = 4 and nums2[2] = 6 are not present in nums2. Therefore, answer[1] = [4,6].\n"
   ]
  },
  {
   "cell_type": "code",
   "execution_count": 7,
   "metadata": {
    "vscode": {
     "languageId": "java"
    }
   },
   "outputs": [],
   "source": [
    "public static List<Integer>[] distinctIntegers(int[] nums1, int[] nums2) {\n",
    "    Set<Integer> set1 = new HashSet<>();\n",
    "    Set<Integer> set2 = new HashSet<>();\n",
    "\n",
    "    for (int num : nums1) {\n",
    "        set1.add(num);\n",
    "    }\n",
    "\n",
    "    for (int num : nums2) {\n",
    "        set2.add(num);\n",
    "    }\n",
    "\n",
    "    List<Integer> list1 = new ArrayList<>();\n",
    "    List<Integer> list2 = new ArrayList<>();\n",
    "\n",
    "    for (int num : set1) {\n",
    "        if (!set2.contains(num)) {\n",
    "            list1.add(num);\n",
    "        }\n",
    "    }\n",
    "\n",
    "    for (int num : set2) {\n",
    "        if (!set1.contains(num)) {\n",
    "            list2.add(num);\n",
    "        }\n",
    "    }\n",
    "\n",
    "    List<Integer>[] answer = new List[]{list1, list2};\n",
    "    return answer;\n",
    "}\n"
   ]
  },
  {
   "cell_type": "code",
   "execution_count": 8,
   "metadata": {
    "vscode": {
     "languageId": "java"
    }
   },
   "outputs": [
    {
     "name": "stdout",
     "output_type": "stream",
     "text": [
      "[1, 3]\n",
      "[4, 6]\n"
     ]
    }
   ],
   "source": [
    "int[] nums1 = {1, 2, 3};\n",
    "int[] nums2 = {2, 4, 6};\n",
    "\n",
    "List<Integer>[] answer = distinctIntegers(nums1, nums2);\n",
    "System.out.println(answer[0]);\n",
    "System.out.println(answer[1]);"
   ]
  },
  {
   "attachments": {},
   "cell_type": "markdown",
   "metadata": {},
   "source": [
    "## 💡 **Question 5**\n",
    "\n",
    "Given two integer arrays arr1 and arr2, and the integer d, *return the distance value between the two arrays*.\n",
    "\n",
    "The distance value is defined as the number of elements arr1[i] such that there is not any element arr2[j] where |arr1[i]-arr2[j]| <= d.\n",
    "\n",
    "**Example 1:**\n",
    "\n",
    "**Input:** arr1 = [4,5,8], arr2 = [10,9,1,8], d = 2\n",
    "\n",
    "**Output:** 2\n",
    "\n",
    "**Explanation:**\n",
    "\n",
    "For arr1[0]=4 we have:\n",
    "\n",
    "|4-10|=6 > d=2\n",
    "\n",
    "|4-9|=5 > d=2\n",
    "\n",
    "|4-1|=3 > d=2\n",
    "\n",
    "|4-8|=4 > d=2\n",
    "\n",
    "For arr1[1]=5 we have:\n",
    "\n",
    "|5-10|=5 > d=2\n",
    "\n",
    "|5-9|=4 > d=2\n",
    "\n",
    "|5-1|=4 > d=2\n",
    "\n",
    "|5-8|=3 > d=2\n",
    "\n",
    "For arr1[2]=8 we have:\n",
    "\n",
    "**|8-10|=2 <= d=2**\n",
    "\n",
    "**|8-9|=1 <= d=2**\n",
    "\n",
    "|8-1|=7 > d=2\n",
    "\n",
    "**|8-8|=0 <= d=2**\n"
   ]
  },
  {
   "cell_type": "code",
   "execution_count": 9,
   "metadata": {
    "vscode": {
     "languageId": "java"
    }
   },
   "outputs": [],
   "source": [
    "public static int distanceValue(int[] arr1, int[] arr2, int d) {\n",
    "    int count = 0;\n",
    "\n",
    "    for (int num : arr1) {\n",
    "        boolean found = false;\n",
    "\n",
    "        for (int otherNum : arr2) {\n",
    "            if (Math.abs(num - otherNum) <= d) {\n",
    "                found = true;\n",
    "                break;\n",
    "            }\n",
    "        }\n",
    "\n",
    "        if (!found) {\n",
    "            count++;\n",
    "        }\n",
    "    }\n",
    "\n",
    "    return count;\n",
    "}"
   ]
  },
  {
   "cell_type": "code",
   "execution_count": 10,
   "metadata": {
    "vscode": {
     "languageId": "java"
    }
   },
   "outputs": [
    {
     "name": "stdout",
     "output_type": "stream",
     "text": [
      "2\n"
     ]
    }
   ],
   "source": [
    "int[] arr1 = {4, 5, 8};\n",
    "int[] arr2 = {10, 9, 1, 8};\n",
    "int d = 2;\n",
    "\n",
    "int count = distanceValue(arr1, arr2, d);\n",
    "System.out.println(count);"
   ]
  },
  {
   "attachments": {},
   "cell_type": "markdown",
   "metadata": {},
   "source": [
    "## 💡 **Question 6**\n",
    "\n",
    "Given an integer array nums of length n where all the integers of nums are in the range [1, n] and each integer appears **once** or **twice**, return *an array of all the integers that appears **twice***.\n",
    "\n",
    "You must write an algorithm that runs in O(n) time and uses only constant extra space.\n",
    "\n",
    "**Example 1:**\n",
    "\n",
    "**Input:** nums = [4,3,2,7,8,2,3,1]\n",
    "\n",
    "**Output:**\n",
    "\n",
    "[2,3]\n"
   ]
  },
  {
   "cell_type": "code",
   "execution_count": 11,
   "metadata": {
    "vscode": {
     "languageId": "java"
    }
   },
   "outputs": [],
   "source": [
    "public static List<Integer> findDuplicates(int[] nums) {\n",
    "    List<Integer> duplicates = new ArrayList<>();\n",
    "    int[] seen = new int[nums.length];\n",
    "\n",
    "    for (int num : nums) {\n",
    "        if (seen[num - 1] == 1) {\n",
    "            duplicates.add(num);\n",
    "        } else {\n",
    "            seen[num - 1] = 1;\n",
    "        }\n",
    "    }\n",
    "\n",
    "    return duplicates;\n",
    "}"
   ]
  },
  {
   "cell_type": "code",
   "execution_count": 13,
   "metadata": {
    "vscode": {
     "languageId": "java"
    }
   },
   "outputs": [
    {
     "name": "stdout",
     "output_type": "stream",
     "text": [
      "[2, 3]\n"
     ]
    }
   ],
   "source": [
    "int[] nums = {4,3,2,7,8,2,3,1};\n",
    "List<Integer> duplicates = findDuplicates(nums);\n",
    "System.out.println(duplicates);"
   ]
  },
  {
   "attachments": {},
   "cell_type": "markdown",
   "metadata": {},
   "source": [
    "## 💡 **Question 7**\n",
    "\n",
    "Suppose an array of length n sorted in ascending order is **rotated** between 1 and n times. For example, the array nums = [0,1,2,4,5,6,7] might become:\n",
    "\n",
    "- [4,5,6,7,0,1,2] if it was rotated 4 times.\n",
    "- [0,1,2,4,5,6,7] if it was rotated 7 times.\n",
    "\n",
    "Notice that **rotating** an array [a[0], a[1], a[2], ..., a[n-1]] 1 time results in the array [a[n-1], a[0], a[1], a[2], ..., a[n-2]].\n",
    "\n",
    "Given the sorted rotated array nums of **unique** elements, return *the minimum element of this array*.\n",
    "\n",
    "You must write an algorithm that runs in O(log n) time.\n",
    "\n",
    "**Example 1:**\n",
    "\n",
    "**Input:** nums = [3,4,5,1,2]\n",
    "\n",
    "**Output:** 1\n",
    "\n",
    "**Explanation:**\n",
    "\n",
    "The original array was [1,2,3,4,5] rotated 3 times.\n"
   ]
  },
  {
   "cell_type": "code",
   "execution_count": 14,
   "metadata": {
    "vscode": {
     "languageId": "java"
    }
   },
   "outputs": [],
   "source": [
    "public static int findMinimum(int[] nums) {\n",
    "    int low = 0;\n",
    "    int high = nums.length - 1;\n",
    "\n",
    "    while (low < high) {\n",
    "        int mid = (low + high) / 2;\n",
    "\n",
    "        if (nums[mid] > nums[high]) {\n",
    "            low = mid + 1;\n",
    "        } else {\n",
    "            high = mid;\n",
    "        }\n",
    "    }\n",
    "\n",
    "    return nums[low];\n",
    "}"
   ]
  },
  {
   "cell_type": "code",
   "execution_count": 15,
   "metadata": {
    "vscode": {
     "languageId": "java"
    }
   },
   "outputs": [
    {
     "name": "stdout",
     "output_type": "stream",
     "text": [
      "1\n"
     ]
    }
   ],
   "source": [
    "int[] nums = {3, 4, 5, 1, 2};\n",
    "int minimum = findMinimum(nums);\n",
    "System.out.println(minimum);"
   ]
  },
  {
   "attachments": {},
   "cell_type": "markdown",
   "metadata": {},
   "source": [
    "## 💡 **Question 8**\n",
    "\n",
    "An integer array original is transformed into a **doubled** array changed by appending **twice the value** of every element in original, and then randomly **shuffling** the resulting array.\n",
    "\n",
    "Given an array changed, return original *if* changed *is a **doubled** array. If* changed *is not a **doubled** array, return an empty array. The elements in* original *may be returned in **any** order*.\n",
    "\n",
    "**Example 1:**\n",
    "\n",
    "**Input:** changed = [1,3,4,2,6,8]\n",
    "\n",
    "**Output:** [1,3,4]\n",
    "\n",
    "**Explanation:** One possible original array could be [1,3,4]:\n",
    "\n",
    "- Twice the value of 1 is 1 * 2 = 2.\n",
    "- Twice the value of 3 is 3 * 2 = 6.\n",
    "- Twice the value of 4 is 4 * 2 = 8.\n",
    "\n",
    "Other original arrays could be [4,3,1] or [3,1,4].\n"
   ]
  },
  {
   "cell_type": "code",
   "execution_count": 30,
   "metadata": {
    "vscode": {
     "languageId": "java"
    }
   },
   "outputs": [],
   "source": [
    "public static List<Integer> findOriginal(int[] arr)  \n",
    "{  \n",
    "//storing the numbers and their frequency into Map  \n",
    "Map<Integer, Integer> numFreq = new HashMap<>();  \n",
    "//add number with their frequencies in the hashmap  \n",
    "for (int i = 0; i < arr.length; i++)   \n",
    "{  \n",
    "numFreq.put(arr[i], numFreq.getOrDefault(arr[i], 0)+ 1);  \n",
    "}  \n",
    "//sort the array  \n",
    "Arrays.sort(arr);  \n",
    "//initialize an array list for storing the resultant array  \n",
    "List<Integer> res = new ArrayList<>();  \n",
    "for (int i = 0; i < arr.length; i++)   \n",
    "{  \n",
    "//getting the frequency of the number in the given array  \n",
    "int freq = numFreq.get(arr[i]);  \n",
    "if (freq > 0)   \n",
    "{  \n",
    "//element is of original array  \n",
    "res.add(arr[i]);  \n",
    "//decrement the frequency of the number  \n",
    "numFreq.put(arr[i], freq - 1);  \n",
    "//twice the array element   \n",
    "int twice = 2 * arr[i];  \n",
    "//decrement the frequency of the number that have double value  \n",
    "numFreq.put(twice, numFreq.get(twice) - 1);  \n",
    "}  \n",
    "}  \n",
    "//return the resultant string  \n",
    "return res;  \n",
    "}  "
   ]
  },
  {
   "cell_type": "code",
   "execution_count": 32,
   "metadata": {
    "vscode": {
     "languageId": "java"
    }
   },
   "outputs": [
    {
     "name": "stdout",
     "output_type": "stream",
     "text": [
      "The original array is: 1 3 4 "
     ]
    }
   ],
   "source": [
    "List<Integer> res = findOriginal(new int[] { 1,3,4,2,6,8});  \n",
    "//print the result list  \n",
    "System.out.print(\"The original array is: \");  \n",
    "for (int i = 0; i < res.size(); i++)   \n",
    "{  \n",
    "System.out.print(res.get(i) + \" \");  \n",
    "}  "
   ]
  },
  {
   "attachments": {},
   "cell_type": "markdown",
   "metadata": {},
   "source": [
    "# Thank you!"
   ]
  }
 ],
 "metadata": {
  "kernelspec": {
   "display_name": "Java",
   "language": "java",
   "name": "java"
  },
  "language_info": {
   "codemirror_mode": "java",
   "file_extension": ".jshell",
   "mimetype": "text/x-java-source",
   "name": "Java",
   "pygments_lexer": "java",
   "version": "17.0.6+10-Debian-1"
  },
  "orig_nbformat": 4
 },
 "nbformat": 4,
 "nbformat_minor": 2
}
