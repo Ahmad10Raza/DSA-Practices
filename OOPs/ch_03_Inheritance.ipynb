{
 "cells": [
  {
   "cell_type": "markdown",
   "metadata": {},
   "source": [
    "# 3. **Inheritance:**\n",
    "   - The concept of inheritance and its advantages.\n",
    "   - Syntax for extending a class.\n",
    "   - Overriding methods and using the `super` keyword.\n",
    "   - The difference between classes and interfaces."
   ]
  },
  {
   "cell_type": "markdown",
   "metadata": {},
   "source": [
    "# The concept of inheritance and its advantages.\n",
    "\n",
    "Inheritance is one of the core concepts in object-oriented programming (OOP) that allows a new class (subclass or derived class) to inherit attributes and behaviors from an existing class (superclass or base class). The subclass can extend or modify the functionality of the superclass, promoting code reuse and creating a hierarchy of classes.\n",
    "\n",
    "### Key Concepts in Inheritance:\n",
    "\n",
    "1. **Superclass (Base Class):**\n",
    "   - The existing class from which properties and behaviors are inherited.\n",
    "   - Also known as the parent class or base class.\n",
    "\n",
    "2. **Subclass (Derived Class):**\n",
    "   - The new class that inherits properties and behaviors from the superclass.\n",
    "   - Also known as the child class or derived class.\n",
    "\n",
    "3. **\"is-a\" Relationship:**\n",
    "   - Inheritance establishes an \"is-a\" relationship between the subclass and superclass. For example, a `Dog` is a type of `Animal`.\n",
    "\n",
    "4. **Access to Superclass Members:**\n",
    "   - The subclass can access public and protected members (fields and methods) of the superclass.\n",
    "\n",
    "5. **Method Overriding:**\n",
    "   - The subclass can provide its own implementation for methods defined in the superclass. This is known as method overriding.\n",
    "\n",
    "### Syntax in Java:\n",
    "\n",
    "```java\n",
    "// Superclass\n",
    "public class Animal {\n",
    "    // Fields and methods\n",
    "}\n",
    "\n",
    "// Subclass inheriting from Animal\n",
    "public class Dog extends Animal {\n",
    "    // Additional fields and methods specific to Dog\n",
    "    // Can also override methods from the Animal class\n",
    "}\n",
    "```\n",
    "\n",
    "### Advantages of Inheritance:\n",
    "\n",
    "1. **Code Reusability:**\n",
    "   - Inheritance allows the reuse of code from existing classes, reducing redundancy and promoting a modular design.\n",
    "\n",
    "2. **Extensibility:**\n",
    "   - New functionality can be added to a subclass without modifying the existing code in the superclass. This promotes extensibility and flexibility.\n",
    "\n",
    "3. **Polymorphism:**\n",
    "   - Inheritance supports polymorphism, where objects of the subclass can be treated as objects of the superclass. This facilitates flexibility in programming.\n",
    "\n",
    "4. **Structuring Code:**\n",
    "   - Inheritance helps in organizing and structuring code by creating a hierarchy of classes that reflects the relationships between different entities.\n",
    "\n",
    "5. **Maintenance:**\n",
    "   - Changes made in the superclass are automatically reflected in all subclasses. This simplifies maintenance and updates to the codebase.\n",
    "\n",
    "6. **Code Understandability:**\n",
    "   - Inheritance enhances code readability and understandability by creating a natural and intuitive structure based on real-world relationships.\n",
    "\n",
    "### Example:\n",
    "\n",
    "```java\n",
    "// Superclass\n",
    "public class Shape {\n",
    "    protected String color;\n",
    "\n",
    "    public Shape(String color) {\n",
    "        this.color = color;\n",
    "    }\n",
    "\n",
    "    public void draw() {\n",
    "        System.out.println(\"Drawing a shape of color: \" + color);\n",
    "    }\n",
    "}\n",
    "\n",
    "// Subclass\n",
    "public class Circle extends Shape {\n",
    "    private double radius;\n",
    "\n",
    "    public Circle(String color, double radius) {\n",
    "        super(color); // Call to superclass constructor\n",
    "        this.radius = radius;\n",
    "    }\n",
    "\n",
    "    // Overriding the draw method from the superclass\n",
    "    @Override\n",
    "    public void draw() {\n",
    "        System.out.println(\"Drawing a circle of color: \" + color + \" and radius: \" + radius);\n",
    "    }\n",
    "}\n",
    "```\n",
    "\n",
    "In this example, `Circle` is a subclass of `Shape`. The `Circle` class inherits the `color` field and the `draw` method from the `Shape` class and provides its own implementation of the `draw` method. Instances of `Circle` can be treated as instances of `Shape` due to inheritance."
   ]
  },
  {
   "cell_type": "code",
   "execution_count": 1,
   "metadata": {
    "vscode": {
     "languageId": "java"
    }
   },
   "outputs": [],
   "source": [
    "// Superclass\n",
    "public class Shape {\n",
    "    protected String color;\n",
    "\n",
    "    public Shape(String color) {\n",
    "        this.color = color;\n",
    "    }\n",
    "\n",
    "    public void draw() {\n",
    "        System.out.println(\"Drawing a shape of color: \" + color);\n",
    "    }\n",
    "}\n",
    "\n",
    "// Subclass\n",
    "public class Circle extends Shape {\n",
    "    private double radius;\n",
    "\n",
    "    public Circle(String color, double radius) {\n",
    "        super(color); // Call to superclass constructor\n",
    "        this.radius = radius;\n",
    "    }\n",
    "\n",
    "    // Overriding the draw method from the superclass\n",
    "    @Override\n",
    "    public void draw() {\n",
    "        System.out.println(\"Drawing a circle of color: \" + color + \" and radius: \" + radius);\n",
    "    }\n",
    "}\n"
   ]
  },
  {
   "cell_type": "code",
   "execution_count": 7,
   "metadata": {
    "vscode": {
     "languageId": "java"
    }
   },
   "outputs": [
    {
     "name": "stdout",
     "output_type": "stream",
     "text": [
      "Drawing a shape of color: blue\n"
     ]
    }
   ],
   "source": [
    "Shape s=new Shape(\"blue\");\n",
    "s.draw();"
   ]
  },
  {
   "cell_type": "code",
   "execution_count": 12,
   "metadata": {
    "vscode": {
     "languageId": "java"
    }
   },
   "outputs": [
    {
     "name": "stdout",
     "output_type": "stream",
     "text": [
      "Drawing a circle of color: Red and radius: 5.0\n"
     ]
    }
   ],
   "source": [
    "Circle sc=new Circle(\"Red\",5);\n",
    "sc.draw();"
   ]
  },
  {
   "cell_type": "code",
   "execution_count": 13,
   "metadata": {
    "vscode": {
     "languageId": "java"
    }
   },
   "outputs": [
    {
     "name": "stdout",
     "output_type": "stream",
     "text": [
      "Drawing a circle of color: Green and radius: 6.0\n"
     ]
    }
   ],
   "source": [
    "Shape ss=new Circle(\"Green\",6);\n",
    "ss.draw();"
   ]
  },
  {
   "cell_type": "markdown",
   "metadata": {},
   "source": [
    "# Syntax for extending a class.\n",
    "\n",
    "In Java, you extend a class using the `extends` keyword. Here's the basic syntax for extending a class:\n",
    "\n",
    "```java\n",
    "public class Subclass extends Superclass {\n",
    "    // Additional members and methods specific to the subclass\n",
    "}\n",
    "```\n",
    "\n",
    "- `Subclass`: The name of the new class that you are creating (the subclass).\n",
    "- `Superclass`: The name of the existing class that you want to extend (the superclass).\n",
    "\n",
    "For example, let's say you have a `Vehicle` class, and you want to create a `Car` class that extends the `Vehicle` class:\n",
    "\n",
    "```java\n",
    "public class Vehicle {\n",
    "    // Members and methods of the Vehicle class\n",
    "}\n",
    "\n",
    "public class Car extends Vehicle {\n",
    "    // Additional members and methods specific to the Car class\n",
    "}\n",
    "```\n",
    "\n",
    "In this example, `Car` is the subclass that extends the `Vehicle` superclass. The `Car` class inherits all the members and methods from the `Vehicle` class and can also have additional members and methods specific to cars.\n",
    "\n",
    "Remember that in Java, a class can only extend a single superclass (single inheritance). If you need to reuse code from multiple sources, you can use interfaces or leverage composition to achieve similar benefits."
   ]
  },
  {
   "cell_type": "markdown",
   "metadata": {},
   "source": []
  },
  {
   "cell_type": "markdown",
   "metadata": {},
   "source": [
    "# Function `Override`\n",
    "\n",
    "Function overriding, also known as method overriding, is a fundamental concept in object-oriented programming (OOP) that allows a subclass to provide a specific implementation for a method that is already defined in its superclass. In other words, the subclass redefines or overrides a method that is already present in its superclass.\n",
    "\n",
    "### Key Points about Method Overriding:\n",
    "\n",
    "1. **Same Method Signature:**\n",
    "   - The overridden method in the subclass must have the same method signature (name, return type, and parameters) as the method in the superclass.\n",
    "\n",
    "2. **Inheritance Relationship:**\n",
    "   - Method overriding occurs in the context of an inheritance relationship, where the subclass extends the superclass.\n",
    "\n",
    "3. **@Override Annotation:**\n",
    "   - While it's not strictly required, using the `@Override` annotation in the subclass helps ensure that the method is intended to override a superclass method. It also helps the compiler catch errors if the method signature does not match any method in the superclass.\n",
    "\n",
    "### Example:\n",
    "\n",
    "Let's consider a simple example with a superclass `Animal` and a subclass `Dog`:\n",
    "\n",
    "```java\n",
    "// Superclass\n",
    "public class Animal {\n",
    "    public void makeSound() {\n",
    "        System.out.println(\"Generic animal sound\");\n",
    "    }\n",
    "}\n",
    "\n",
    "// Subclass\n",
    "public class Dog extends Animal {\n",
    "    // Method overriding\n",
    "    @Override\n",
    "    public void makeSound() {\n",
    "        System.out.println(\"Bark, bark!\");\n",
    "    }\n",
    "}\n",
    "```\n",
    "\n",
    "In this example, the `Dog` class overrides the `makeSound` method inherited from the `Animal` class. Now, if you create an instance of `Dog` and call the `makeSound` method, the overridden method in the `Dog` class will be executed:\n",
    "\n",
    "```java\n",
    "public class Main {\n",
    "    public static void main(String[] args) {\n",
    "        // Create an instance of Dog\n",
    "        Dog myDog = new Dog();\n",
    "\n",
    "        // Call the overridden method\n",
    "        myDog.makeSound();  // Output: Bark, bark!\n",
    "    }\n",
    "}\n",
    "```\n",
    "\n",
    "### Advantages of Method Overriding:\n",
    "\n",
    "1. **Polymorphism:**\n",
    "   - Method overriding is a key mechanism for achieving polymorphism in OOP. It allows a subclass to be treated as an object of its superclass, providing flexibility in programming.\n",
    "\n",
    "2. **Code Reusability:**\n",
    "   - It promotes code reusability by allowing a subclass to reuse or extend the behavior of its superclass.\n",
    "\n",
    "3. **Flexibility:**\n",
    "   - Method overriding enables the customization of behavior in subclasses, providing flexibility in adapting and extending functionality.\n",
    "\n",
    "4. **Maintenance:**\n",
    "   - Changes made to the overridden method in the superclass automatically affect all the subclasses, simplifying maintenance.\n",
    "\n",
    "5. **Clear Hierarchy:**\n",
    "   - Method overriding helps in creating a clear and intuitive hierarchy of classes, reflecting real-world relationships.\n",
    "\n",
    "In summary, method overriding is a powerful feature in OOP that allows subclasses to provide specific implementations for methods inherited from their superclass, enabling polymorphism and enhancing code flexibility and reusability."
   ]
  },
  {
   "cell_type": "code",
   "execution_count": 14,
   "metadata": {
    "vscode": {
     "languageId": "java"
    }
   },
   "outputs": [],
   "source": [
    "// Superclass\n",
    "public class Animal {\n",
    "    public void makeSound() {\n",
    "        System.out.println(\"Generic animal sound\");\n",
    "    }\n",
    "}\n",
    "\n",
    "// Subclass\n",
    "public class Dog extends Animal {\n",
    "    // Method overriding\n",
    "    @Override\n",
    "    public void makeSound() {\n",
    "        System.out.println(\"Bark, bark!\");\n",
    "    }\n",
    "}\n"
   ]
  },
  {
   "cell_type": "code",
   "execution_count": 15,
   "metadata": {
    "vscode": {
     "languageId": "java"
    }
   },
   "outputs": [
    {
     "name": "stdout",
     "output_type": "stream",
     "text": [
      "Bark, bark!\n"
     ]
    }
   ],
   "source": [
    "// Create an instance of Dog\n",
    "Dog myDog = new Dog();\n",
    "\n",
    "// Call the overridden method\n",
    "myDog.makeSound();  // Output: Bark, bark!"
   ]
  },
  {
   "cell_type": "markdown",
   "metadata": {},
   "source": []
  }
 ],
 "metadata": {
  "kernelspec": {
   "display_name": "Java",
   "language": "java",
   "name": "java"
  },
  "language_info": {
   "codemirror_mode": "java",
   "file_extension": ".jshell",
   "mimetype": "text/x-java-source",
   "name": "Java",
   "pygments_lexer": "java",
   "version": "17.0.8.1+1-Ubuntu-0ubuntu122.04"
  }
 },
 "nbformat": 4,
 "nbformat_minor": 2
}
