{
 "cells": [
  {
   "cell_type": "markdown",
   "metadata": {},
   "source": [
    "# 6. **Interfaces:**\n",
    "   - Defining and implementing interfaces.\n",
    "   - Default and static methods in interfaces.\n",
    "   - Multiple inheritance through interfaces.\n",
    "   - Functional interfaces and lambda expressions."
   ]
  },
  {
   "cell_type": "markdown",
   "metadata": {},
   "source": []
  }
 ],
 "metadata": {
  "kernelspec": {
   "display_name": "Java",
   "language": "java",
   "name": "java"
  },
  "language_info": {
   "name": "java"
  }
 },
 "nbformat": 4,
 "nbformat_minor": 2
}
