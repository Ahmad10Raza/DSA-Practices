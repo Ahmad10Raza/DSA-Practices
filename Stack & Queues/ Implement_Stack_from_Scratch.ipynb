{
 "cells": [
  {
   "cell_type": "markdown",
   "metadata": {},
   "source": [
    "#  Implement Stack From Scratch"
   ]
  },
  {
   "cell_type": "markdown",
   "metadata": {},
   "source": [
    "A stack is a linear data structure that follows the Last-In-First-Out (LIFO) principle. It is an abstract data type with two main operations: push (inserting an element onto the stack) and pop (removing the top element from the stack).\n",
    "\n",
    "Advantages of using a stack compared to other data structures include:\n",
    "\n",
    "1. Simplicity: Stacks have a simple and intuitive interface, making them easy to understand and use.\n",
    "\n",
    "2. Efficiency: The push and pop operations in a stack have a time complexity of O(1), making them very efficient.\n",
    "\n",
    "3. Memory management: Stacks use a fixed amount of memory, making them suitable for situations where memory usage needs to be controlled.\n",
    "\n",
    "4. Function call management: Stacks are commonly used to manage function calls in programming languages, allowing for efficient recursion and backtracking.\n",
    "\n",
    "5. Undo/Redo functionality: Stacks are often used to implement undo and redo functionality in applications, allowing users to revert or repeat actions.\n",
    "\n",
    "Overall, stacks are a versatile data structure that can be used in various applications, providing efficient and convenient operations for managing data."
   ]
  },
  {
   "cell_type": "code",
   "execution_count": 1,
   "metadata": {
    "vscode": {
     "languageId": "java"
    }
   },
   "outputs": [],
   "source": [
    "public class Stack {\n",
    "    private int maxSize;\n",
    "    private int top;\n",
    "    private int[] stackArray;\n",
    "\n",
    "    public Stack(int size) {\n",
    "        maxSize = size;\n",
    "        stackArray = new int[maxSize];\n",
    "        top = -1;\n",
    "    }\n",
    "\n",
    "    public void push(int value) {\n",
    "        if (isFull()) {\n",
    "            System.out.println(\"Stack is full. Cannot push element.\");\n",
    "            return;\n",
    "        }\n",
    "        stackArray[++top] = value;\n",
    "    }\n",
    "\n",
    "    public int pop() {\n",
    "        if (isEmpty()) {\n",
    "            System.out.println(\"Stack is empty. Cannot pop element.\");\n",
    "            return -1;\n",
    "        }\n",
    "        return stackArray[top--];\n",
    "    }\n",
    "\n",
    "    public int peek() {\n",
    "        if (isEmpty()) {\n",
    "            System.out.println(\"Stack is empty. Cannot peek element.\");\n",
    "            return -1;\n",
    "        }\n",
    "        return stackArray[top];\n",
    "    }\n",
    "\n",
    "    public boolean isEmpty() {\n",
    "        return top == -1;\n",
    "    }\n",
    "\n",
    "    public boolean isFull() {\n",
    "        return top == maxSize - 1;\n",
    "    }\n",
    "}"
   ]
  },
  {
   "cell_type": "code",
   "execution_count": 2,
   "metadata": {
    "vscode": {
     "languageId": "java"
    }
   },
   "outputs": [],
   "source": [
    "Stack stack = new Stack(10);\n",
    "stack.push(10);\n",
    "stack.push(20);\n",
    "stack.push(30);\n",
    "stack.push(40);\n",
    "stack.push(50);\n",
    "stack.push(60);"
   ]
  },
  {
   "cell_type": "code",
   "execution_count": 3,
   "metadata": {
    "vscode": {
     "languageId": "java"
    }
   },
   "outputs": [
    {
     "name": "stdout",
     "output_type": "stream",
     "text": [
      "Peek: 60\n",
      "Pop: 60\n",
      "Peek: 50\n"
     ]
    }
   ],
   "source": [
    "System.out.println(\"Peek: \" + stack.peek());\n",
    "System.out.println(\"Pop: \" + stack.pop());\n",
    "System.out.println(\"Peek: \" + stack.peek());"
   ]
  }
 ],
 "metadata": {
  "kernelspec": {
   "display_name": "Java",
   "language": "java",
   "name": "java"
  },
  "language_info": {
   "codemirror_mode": "java",
   "file_extension": ".jshell",
   "mimetype": "text/x-java-source",
   "name": "Java",
   "pygments_lexer": "java",
   "version": "17.0.9+9-Ubuntu-122.04"
  }
 },
 "nbformat": 4,
 "nbformat_minor": 2
}
