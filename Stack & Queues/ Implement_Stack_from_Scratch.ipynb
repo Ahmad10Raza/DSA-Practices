{
 "cells": [
  {
   "cell_type": "markdown",
   "metadata": {},
   "source": [
    "#  Implement Stack From Scratch"
   ]
  },
  {
   "cell_type": "markdown",
   "metadata": {},
   "source": [
    "A stack is a linear data structure that follows the Last-In-First-Out (LIFO) principle. It is an abstract data type with two main operations: push (inserting an element onto the stack) and pop (removing the top element from the stack).\n",
    "\n",
    "Advantages of using a stack compared to other data structures include:\n",
    "\n",
    "1. Simplicity: Stacks have a simple and intuitive interface, making them easy to understand and use.\n",
    "\n",
    "2. Efficiency: The push and pop operations in a stack have a time complexity of O(1), making them very efficient.\n",
    "\n",
    "3. Memory management: Stacks use a fixed amount of memory, making them suitable for situations where memory usage needs to be controlled.\n",
    "\n",
    "4. Function call management: Stacks are commonly used to manage function calls in programming languages, allowing for efficient recursion and backtracking.\n",
    "\n",
    "5. Undo/Redo functionality: Stacks are often used to implement undo and redo functionality in applications, allowing users to revert or repeat actions.\n",
    "\n",
    "Overall, stacks are a versatile data structure that can be used in various applications, providing efficient and convenient operations for managing data."
   ]
  },
  {
   "cell_type": "code",
   "execution_count": 1,
   "metadata": {
    "vscode": {
     "languageId": "java"
    }
   },
   "outputs": [],
   "source": [
    "public class Stack {\n",
    "    private int maxSize;\n",
    "    private int top;\n",
    "    private int[] stackArray;\n",
    "\n",
    "    public Stack(int size) {\n",
    "        maxSize = size;\n",
    "        stackArray = new int[maxSize];\n",
    "        top = -1;\n",
    "    }\n",
    "\n",
    "    public void push(int value) {\n",
    "        if (isFull()) {\n",
    "            System.out.println(\"Stack is full. Cannot push element.\");\n",
    "            return;\n",
    "        }\n",
    "        stackArray[++top] = value;\n",
    "    }\n",
    "\n",
    "    public int pop() {\n",
    "        if (isEmpty()) {\n",
    "            System.out.println(\"Stack is empty. Cannot pop element.\");\n",
    "            return -1;\n",
    "        }\n",
    "        return stackArray[top--];\n",
    "    }\n",
    "\n",
    "    public int peek() {\n",
    "        if (isEmpty()) {\n",
    "            System.out.println(\"Stack is empty. Cannot peek element.\");\n",
    "            return -1;\n",
    "        }\n",
    "        return stackArray[top];\n",
    "    }\n",
    "\n",
    "    public boolean isEmpty() {\n",
    "        return top == -1;\n",
    "    }\n",
    "\n",
    "    public boolean isFull() {\n",
    "        return top == maxSize - 1;\n",
    "    }\n",
    "}"
   ]
  },
  {
   "cell_type": "code",
   "execution_count": 2,
   "metadata": {
    "vscode": {
     "languageId": "java"
    }
   },
   "outputs": [],
   "source": [
    "Stack stack = new Stack(10);\n",
    "stack.push(10);\n",
    "stack.push(20);\n",
    "stack.push(30);\n",
    "stack.push(40);\n",
    "stack.push(50);\n",
    "stack.push(60);"
   ]
  },
  {
   "cell_type": "code",
   "execution_count": 4,
   "metadata": {
    "vscode": {
     "languageId": "java"
    }
   },
   "outputs": [
    {
     "name": "stdout",
     "output_type": "stream",
     "text": [
      "Peek: 50\n",
      "Pop: 50\n"
     ]
    },
    {
     "name": "stdout",
     "output_type": "stream",
     "text": [
      "Is stack empty? false\n",
      "Is stack full? false\n",
      "Peek: 90\n",
      "Pop: 90\n",
      "Is stack empty? false\n",
      "Is stack full? false\n"
     ]
    }
   ],
   "source": [
    "System.out.println(\"Peek: \" + stack.peek());\n",
    "System.out.println(\"Pop: \" + stack.pop());\n",
    "\n",
    "System.out.println(\"Is stack empty? \" + stack.isEmpty());\n",
    "System.out.println(\"Is stack full? \" + stack.isFull());\n",
    "\n",
    "stack.push(70);\n",
    "stack.push(80);\n",
    "stack.push(90);\n",
    "\n",
    "System.out.println(\"Peek: \" + stack.peek());\n",
    "System.out.println(\"Pop: \" + stack.pop());\n",
    "\n",
    "System.out.println(\"Is stack empty? \" + stack.isEmpty());\n",
    "System.out.println(\"Is stack full? \" + stack.isFull());\n"
   ]
  },
  {
   "cell_type": "markdown",
   "metadata": {},
   "source": [
    " here's an example of a simple stack implementation in Java, including the main operations: push, pop, peek, isEmpty, and isFull.\n",
    "\n"
   ]
  },
  {
   "cell_type": "code",
   "execution_count": null,
   "metadata": {
    "vscode": {
     "languageId": "java"
    }
   },
   "outputs": [],
   "source": [
    "class Stack {\n",
    "    private int maxSize;\n",
    "    private int top;\n",
    "    private int[] stackArray;\n",
    "\n",
    "    public Stack(int size) {\n",
    "        maxSize = size;\n",
    "        stackArray = new int[maxSize];\n",
    "        top = -1;\n",
    "    }\n",
    "\n",
    "    public void push(int value) {\n",
    "        if (top < maxSize - 1) {\n",
    "            stackArray[++top] = value;\n",
    "            System.out.println(\"Pushed \" + value + \" to the stack\");\n",
    "        } else {\n",
    "            System.out.println(\"Stack is full. Can't push \" + value);\n",
    "        }\n",
    "    }\n",
    "\n",
    "    public int pop() {\n",
    "        if (top >= 0) {\n",
    "            System.out.println(\"Popped \" + stackArray[top] + \" from the stack\");\n",
    "            return stackArray[top--];\n",
    "        } else {\n",
    "            System.out.println(\"Stack is empty. Can't pop\");\n",
    "            return -1;\n",
    "        }\n",
    "    }\n",
    "\n",
    "    public int peek() {\n",
    "        if (top >= 0) {\n",
    "            System.out.println(\"Peek: \" + stackArray[top]);\n",
    "            return stackArray[top];\n",
    "        } else {\n",
    "            System.out.println(\"Stack is empty. Can't peek\");\n",
    "            return -1;\n",
    "        }\n",
    "    }\n",
    "\n",
    "    public boolean isEmpty() {\n",
    "        return (top == -1);\n",
    "    }\n",
    "\n",
    "    public boolean isFull() {\n",
    "        return (top == maxSize - 1);\n",
    "    }\n",
    "}\n",
    "\n",
    "public class Main {\n",
    "    public static void main(String[] args) {\n",
    "        Stack stack = new Stack(3);\n",
    "\n",
    "        stack.push(10);\n",
    "        stack.push(20);\n",
    "        stack.push(30);\n",
    "\n",
    "        stack.peek();\n",
    "\n",
    "        stack.pop();\n",
    "\n",
    "        System.out.println(\"Is stack empty? \" + stack.isEmpty());\n",
    "        System.out.println(\"Is stack full? \" + stack.isFull());\n",
    "    }\n",
    "}"
   ]
  },
  {
   "cell_type": "markdown",
   "metadata": {},
   "source": [
    "Stacks are used in a variety of applications in programming, including:\n",
    "\n",
    "1. **Function Call Stack**: Stacks are used to manage function calls and returns. When a function is called, its details (like return address, local variables) are pushed onto a stack. When the function returns, these details are popped from the stack.\n",
    "\n",
    "2. **Expression Evaluation and Syntax Parsing**: Stacks are used in compilers for syntax checking of expressions and their evaluation. They help in checking the proper opening and closing of brackets, parsing postfix expressions, etc.\n",
    "\n",
    "3. **Backtracking**: Stacks are used to solve problems where you need to perform actions and then undo them, such as in depth-first search, finding paths in a maze, the \"undo\" feature in text editors, and backtracking in algorithms.\n",
    "\n",
    "4. **Memory Management**: Stacks are used in managing memory in modern operating systems. Each thread has a stack associated with it.\n",
    "\n",
    "5. **Browser History**: Web browsers use stacks to manage the history of visited web pages. The \"back\" button pops the top page from the stack.\n",
    "\n",
    "These are just a few examples. Stacks are a fundamental data structure and are used in many more scenarios."
   ]
  },
  {
   "cell_type": "markdown",
   "metadata": {},
   "source": [
    "\n",
    "\n",
    "This code creates a stack of size 3, pushes three integers onto it, peeks at the top element, pops an element, and checks if the stack is empty or full."
   ]
  },
  {
   "cell_type": "markdown",
   "metadata": {},
   "source": [
    "Sure, here's a brief explanation of the stack operations:\n",
    "\n",
    "1. `push`: This operation adds an element to the top of the stack. In the provided code, `stack.push(70);` is pushing the integer 70 onto the top of the stack.\n",
    "\n",
    "2. `pop`: This operation removes the top element from the stack and returns it. In the code, `stack.pop();` is removing the top element from the stack.\n",
    "\n",
    "3. `peek` or `top`: This operation returns the top element of the stack without removing it. In the code, `stack.peek();` is returning the top element of the stack.\n",
    "\n",
    "4. `isEmpty`: This operation checks if the stack is empty. If the stack is empty, it returns true; otherwise, it returns false. In the code, `stack.isEmpty();` is checking if the stack is empty.\n",
    "\n",
    "5. `isFull`: This operation checks if the stack is full. If the stack is full, it returns true; otherwise, it returns false. In the code, `stack.isFull();` is checking if the stack is full.\n",
    "\n",
    "These are the basic operations that can be performed on a stack. They allow us to add, remove, and inspect elements in a Last-In-First-Out (LIFO) manner."
   ]
  }
 ],
 "metadata": {
  "kernelspec": {
   "display_name": "Java",
   "language": "java",
   "name": "java"
  },
  "language_info": {
   "codemirror_mode": "java",
   "file_extension": ".jshell",
   "mimetype": "text/x-java-source",
   "name": "Java",
   "pygments_lexer": "java",
   "version": "17.0.9+9-Ubuntu-122.04"
  }
 },
 "nbformat": 4,
 "nbformat_minor": 2
}
