{
 "cells": [
  {
   "cell_type": "markdown",
   "metadata": {},
   "source": [
    "#  Implement Stack From Scratch"
   ]
  },
  {
   "cell_type": "markdown",
   "metadata": {},
   "source": [
    "A stack is a linear data structure that follows the Last-In-First-Out (LIFO) principle. It is an abstract data type with two main operations: push (inserting an element onto the stack) and pop (removing the top element from the stack).\n",
    "\n",
    "Advantages of using a stack compared to other data structures include:\n",
    "\n",
    "1. Simplicity: Stacks have a simple and intuitive interface, making them easy to understand and use.\n",
    "\n",
    "2. Efficiency: The push and pop operations in a stack have a time complexity of O(1), making them very efficient.\n",
    "\n",
    "3. Memory management: Stacks use a fixed amount of memory, making them suitable for situations where memory usage needs to be controlled.\n",
    "\n",
    "4. Function call management: Stacks are commonly used to manage function calls in programming languages, allowing for efficient recursion and backtracking.\n",
    "\n",
    "5. Undo/Redo functionality: Stacks are often used to implement undo and redo functionality in applications, allowing users to revert or repeat actions.\n",
    "\n",
    "Overall, stacks are a versatile data structure that can be used in various applications, providing efficient and convenient operations for managing data."
   ]
  },
  {
   "cell_type": "markdown",
   "metadata": {},
   "source": [
    "# What are the Way to implements Stack?"
   ]
  },
  {
   "cell_type": "markdown",
   "metadata": {},
   "source": [
    "There are several ways to implement a stack in programming:\n",
    "\n",
    "1. **Array-Based Implementation**: This is a simple and direct method where an array is used to store the stack elements. The index of the array can act as the stack pointer. However, the size of the stack is fixed in this case and needs to be defined at the start.\n",
    "\n",
    "2. **Linked List Implementation**: In this method, a linked list is used to implement a stack. The head of the list can act as the top of the stack. This method allows for a dynamic size of the stack.\n",
    "\n",
    "3. **Standard Library**: Most programming languages have built-in data types or classes for stack implementation. For example, in Java, you can use the Stack class; in Python, you can use a list as a stack with append() for push operation and pop() for pop operation.\n",
    "\n",
    "4. **Using Queues**: A stack can also be implemented using two queues. The push operation is done by enqueue operation and the pop operation is done by making the dequeue operation costly.\n",
    "\n",
    "5. **Wrapper Class**: You can also create a wrapper class around any of the above implementations, providing methods like push(), pop(), peek(), isEmpty(), and isFull().\n",
    "\n",
    "Remember, the choice of implementation depends on the specific requirements and constraints of your program."
   ]
  },
  {
   "cell_type": "markdown",
   "metadata": {},
   "source": [
    "## Stack Implementation Using Array"
   ]
  },
  {
   "cell_type": "markdown",
   "metadata": {},
   "source": [
    "Sure, here's a simple implementation of a stack using an array in Java:\n",
    "\n"
   ]
  },
  {
   "cell_type": "code",
   "execution_count": 1,
   "metadata": {
    "vscode": {
     "languageId": "java"
    }
   },
   "outputs": [],
   "source": [
    "public class Stack {\n",
    "    private int maxSize;\n",
    "    private int top;\n",
    "    private int[] stackArray;\n",
    "\n",
    "    public Stack(int size) {\n",
    "        maxSize = size;\n",
    "        stackArray = new int[maxSize];\n",
    "        top = -1;\n",
    "    }\n",
    "\n",
    "    public void push(int value) {\n",
    "        if (!isFull()) {\n",
    "            stackArray[++top] = value;\n",
    "        } else {\n",
    "            System.out.println(\"The stack is full, can't insert value \" + value);\n",
    "        }\n",
    "    }\n",
    "\n",
    "    public void pop() {\n",
    "        if (!isEmpty()) {\n",
    "            top--;\n",
    "        } else {\n",
    "            System.out.println(\"The stack is empty, can't pop a value\");\n",
    "        }\n",
    "    }\n",
    "\n",
    "    public int peek() {\n",
    "        if (!isEmpty()) {\n",
    "            return stackArray[top];\n",
    "        } else {\n",
    "            System.out.println(\"The stack is empty, can't peek\");\n",
    "            return -1;\n",
    "        }\n",
    "    }\n",
    "\n",
    "    public boolean isEmpty() {\n",
    "        return (top == -1);\n",
    "    }\n",
    "\n",
    "    public boolean isFull() {\n",
    "        return (top == maxSize - 1);\n",
    "    }\n",
    "}"
   ]
  },
  {
   "cell_type": "markdown",
   "metadata": {},
   "source": [
    "\n",
    "\n",
    "In this code:\n",
    "\n",
    "- The `push` method inserts a value at the top of the stack.\n",
    "- The `pop` method removes the value at the top of the stack.\n",
    "- The `peek` method returns the value at the top of the stack without removing it.\n",
    "- The `isEmpty` method checks if the stack is empty.\n",
    "- The `isFull` method checks if the stack is full."
   ]
  },
  {
   "cell_type": "markdown",
   "metadata": {},
   "source": [
    "## Stack Implementation Using ArrayList"
   ]
  },
  {
   "cell_type": "markdown",
   "metadata": {},
   "source": [
    "Here's an implementation of a stack using an ArrayList in Java:\n",
    "\n"
   ]
  },
  {
   "cell_type": "code",
   "execution_count": null,
   "metadata": {
    "vscode": {
     "languageId": "java"
    }
   },
   "outputs": [],
   "source": [
    "import java.util.ArrayList;\n",
    "\n",
    "public class Stack {\n",
    "    private ArrayList<Integer> stackList;\n",
    "\n",
    "    public Stack() {\n",
    "        stackList = new ArrayList<Integer>();\n",
    "    }\n",
    "\n",
    "    public void push(int value) {\n",
    "        stackList.add(value);\n",
    "    }\n",
    "\n",
    "    public int pop() {\n",
    "        if (!isEmpty()) {\n",
    "            return stackList.remove(stackList.size() - 1);\n",
    "        } else {\n",
    "            System.out.println(\"The stack is empty\");\n",
    "            return -1;\n",
    "        }\n",
    "    }\n",
    "\n",
    "    public boolean isEmpty() {\n",
    "        return stackList.isEmpty();\n",
    "    }\n",
    "\n",
    "    public int size() {\n",
    "        return stackList.size();\n",
    "    }\n",
    "\n",
    "    public int peek() {\n",
    "        if (!isEmpty()) {\n",
    "            return stackList.get(stackList.size() - 1);\n",
    "        } else {\n",
    "            System.out.println(\"The stack is empty\");\n",
    "            return -1;\n",
    "        }\n",
    "    }\n",
    "}\n",
    "\n",
    "public class Main \n",
    "{\n",
    "    public static void main(String[] args) {\n",
    "        Stack stack = new Stack();\n",
    "\n",
    "        stack.push(10);\n",
    "        stack.push(20);\n",
    "        stack.push(30);\n",
    "\n",
    "        System.out.println(\"Size of stack: \" + stack.size());\n",
    "\n",
    "        System.out.println(\"Top element: \" + stack.peek());\n",
    "\n",
    "        System.out.println(\"Pop element: \" + stack.pop());\n",
    "\n",
    "        System.out.println(\"Size of stack after pop: \" + stack.size());\n",
    "    }\n",
    "}"
   ]
  },
  {
   "cell_type": "markdown",
   "metadata": {},
   "source": [
    "\n",
    "\n",
    "This code will output:\n",
    "\n"
   ]
  },
  {
   "cell_type": "code",
   "execution_count": null,
   "metadata": {
    "vscode": {
     "languageId": ""
    }
   },
   "outputs": [],
   "source": [
    "Size of stack: 3\n",
    "Top element: 30\n",
    "Pop element: 30\n",
    "Size of stack after pop: 2"
   ]
  },
  {
   "cell_type": "markdown",
   "metadata": {},
   "source": [
    "\n",
    "\n",
    "In this code:\n",
    "\n",
    "- The `push` method adds a value to the end of the ArrayList.\n",
    "- The `pop` method removes the last value from the ArrayList.\n",
    "- The `peek` method returns the last value in the ArrayList without removing it.\n",
    "- The `isEmpty` method checks if the ArrayList is empty.\n",
    "- The `size` method returns the number of elements in the ArrayList."
   ]
  },
  {
   "cell_type": "markdown",
   "metadata": {},
   "source": [
    "## Using LinkedList"
   ]
  },
  {
   "cell_type": "code",
   "execution_count": 2,
   "metadata": {
    "vscode": {
     "languageId": "java"
    }
   },
   "outputs": [],
   "source": [
    "// Java Code for Linked List Implementation \n",
    "\n",
    "public class StackAsLinkedList { \n",
    "\n",
    "\tStackNode root; \n",
    "\n",
    "\tstatic class StackNode { \n",
    "\t\tint data; \n",
    "\t\tStackNode next; \n",
    "\n",
    "\t\tStackNode(int data) { this.data = data; } \n",
    "\t} \n",
    "\n",
    "\tpublic boolean isEmpty() \n",
    "\t{ \n",
    "\t\tif (root == null) { \n",
    "\t\t\treturn true; \n",
    "\t\t} \n",
    "\t\telse\n",
    "\t\t\treturn false; \n",
    "\t} \n",
    "\n",
    "\tpublic void push(int data) \n",
    "\t{ \n",
    "\t\tStackNode newNode = new StackNode(data); \n",
    "\n",
    "\t\tif (root == null) { \n",
    "\t\t\troot = newNode; \n",
    "\t\t} \n",
    "\t\telse { \n",
    "\t\t\tStackNode temp = root; \n",
    "\t\t\troot = newNode; \n",
    "\t\t\tnewNode.next = temp; \n",
    "\t\t} \n",
    "\t\tSystem.out.println(data + \" pushed to stack\"); \n",
    "\t} \n",
    "\n",
    "\tpublic int pop() \n",
    "\t{ \n",
    "\t\tint popped = Integer.MIN_VALUE; \n",
    "\t\tif (root == null) { \n",
    "\t\t\tSystem.out.println(\"Stack is Empty\"); \n",
    "\t\t} \n",
    "\t\telse { \n",
    "\t\t\tpopped = root.data; \n",
    "\t\t\troot = root.next; \n",
    "\t\t} \n",
    "\t\treturn popped; \n",
    "\t} \n",
    "\n",
    "\tpublic int peek() \n",
    "\t{ \n",
    "\t\tif (root == null) { \n",
    "\t\t\tSystem.out.println(\"Stack is empty\"); \n",
    "\t\t\treturn Integer.MIN_VALUE; \n",
    "\t\t} \n",
    "\t\telse { \n",
    "\t\t\treturn root.data; \n",
    "\t\t} \n",
    "\t} \n",
    "\n",
    "\t// Driver code \n",
    "\tpublic static void main(String[] args) \n",
    "\t{ \n",
    "\n",
    "\t\tStackAsLinkedList sll = new StackAsLinkedList(); \n",
    "\n",
    "\t\tsll.push(10); \n",
    "\t\tsll.push(20); \n",
    "\t\tsll.push(30); \n",
    "\n",
    "\t\tSystem.out.println(sll.pop() \n",
    "\t\t\t\t\t\t+ \" popped from stack\"); \n",
    "\n",
    "\t\tSystem.out.println(\"Top element is \" + sll.peek()); \n",
    "\t} \n",
    "}\n"
   ]
  },
  {
   "cell_type": "code",
   "execution_count": 1,
   "metadata": {
    "vscode": {
     "languageId": "java"
    }
   },
   "outputs": [],
   "source": [
    "public class Stack {\n",
    "    private int maxSize;\n",
    "    private int top;\n",
    "    private int[] stackArray;\n",
    "\n",
    "    public Stack(int size) {\n",
    "        maxSize = size;\n",
    "        stackArray = new int[maxSize];\n",
    "        top = -1;\n",
    "    }\n",
    "\n",
    "    public void push(int value) {\n",
    "        if (isFull()) {\n",
    "            System.out.println(\"Stack is full. Cannot push element.\");\n",
    "            return;\n",
    "        }\n",
    "        stackArray[++top] = value;\n",
    "    }\n",
    "\n",
    "    public int pop() {\n",
    "        if (isEmpty()) {\n",
    "            System.out.println(\"Stack is empty. Cannot pop element.\");\n",
    "            return -1;\n",
    "        }\n",
    "        return stackArray[top--];\n",
    "    }\n",
    "\n",
    "    public int peek() {\n",
    "        if (isEmpty()) {\n",
    "            System.out.println(\"Stack is empty. Cannot peek element.\");\n",
    "            return -1;\n",
    "        }\n",
    "        return stackArray[top];\n",
    "    }\n",
    "\n",
    "    public boolean isEmpty() {\n",
    "        return top == -1;\n",
    "    }\n",
    "\n",
    "    public boolean isFull() {\n",
    "        return top == maxSize - 1;\n",
    "    }\n",
    "}"
   ]
  },
  {
   "cell_type": "code",
   "execution_count": 2,
   "metadata": {
    "vscode": {
     "languageId": "java"
    }
   },
   "outputs": [],
   "source": [
    "Stack stack = new Stack(10);\n",
    "stack.push(10);\n",
    "stack.push(20);\n",
    "stack.push(30);\n",
    "stack.push(40);\n",
    "stack.push(50);\n",
    "stack.push(60);"
   ]
  },
  {
   "cell_type": "code",
   "execution_count": 4,
   "metadata": {
    "vscode": {
     "languageId": "java"
    }
   },
   "outputs": [
    {
     "name": "stdout",
     "output_type": "stream",
     "text": [
      "Peek: 50\n",
      "Pop: 50\n"
     ]
    },
    {
     "name": "stdout",
     "output_type": "stream",
     "text": [
      "Is stack empty? false\n",
      "Is stack full? false\n",
      "Peek: 90\n",
      "Pop: 90\n",
      "Is stack empty? false\n",
      "Is stack full? false\n"
     ]
    }
   ],
   "source": [
    "System.out.println(\"Peek: \" + stack.peek());\n",
    "System.out.println(\"Pop: \" + stack.pop());\n",
    "\n",
    "System.out.println(\"Is stack empty? \" + stack.isEmpty());\n",
    "System.out.println(\"Is stack full? \" + stack.isFull());\n",
    "\n",
    "stack.push(70);\n",
    "stack.push(80);\n",
    "stack.push(90);\n",
    "\n",
    "System.out.println(\"Peek: \" + stack.peek());\n",
    "System.out.println(\"Pop: \" + stack.pop());\n",
    "\n",
    "System.out.println(\"Is stack empty? \" + stack.isEmpty());\n",
    "System.out.println(\"Is stack full? \" + stack.isFull());\n"
   ]
  },
  {
   "cell_type": "markdown",
   "metadata": {},
   "source": [
    " here's an example of a simple stack implementation in Java, including the main operations: push, pop, peek, isEmpty, and isFull.\n",
    "\n"
   ]
  },
  {
   "cell_type": "code",
   "execution_count": null,
   "metadata": {
    "vscode": {
     "languageId": "java"
    }
   },
   "outputs": [],
   "source": [
    "class Stack {\n",
    "    private int maxSize;\n",
    "    private int top;\n",
    "    private int[] stackArray;\n",
    "\n",
    "    public Stack(int size) {\n",
    "        maxSize = size;\n",
    "        stackArray = new int[maxSize];\n",
    "        top = -1;\n",
    "    }\n",
    "\n",
    "    public void push(int value) {\n",
    "        if (top < maxSize - 1) {\n",
    "            stackArray[++top] = value;\n",
    "            System.out.println(\"Pushed \" + value + \" to the stack\");\n",
    "        } else {\n",
    "            System.out.println(\"Stack is full. Can't push \" + value);\n",
    "        }\n",
    "    }\n",
    "\n",
    "    public int pop() {\n",
    "        if (top >= 0) {\n",
    "            System.out.println(\"Popped \" + stackArray[top] + \" from the stack\");\n",
    "            return stackArray[top--];\n",
    "        } else {\n",
    "            System.out.println(\"Stack is empty. Can't pop\");\n",
    "            return -1;\n",
    "        }\n",
    "    }\n",
    "\n",
    "    public int peek() {\n",
    "        if (top >= 0) {\n",
    "            System.out.println(\"Peek: \" + stackArray[top]);\n",
    "            return stackArray[top];\n",
    "        } else {\n",
    "            System.out.println(\"Stack is empty. Can't peek\");\n",
    "            return -1;\n",
    "        }\n",
    "    }\n",
    "\n",
    "    public boolean isEmpty() {\n",
    "        return (top == -1);\n",
    "    }\n",
    "\n",
    "    public boolean isFull() {\n",
    "        return (top == maxSize - 1);\n",
    "    }\n",
    "}\n",
    "\n",
    "public class Main {\n",
    "    public static void main(String[] args) {\n",
    "        Stack stack = new Stack(3);\n",
    "\n",
    "        stack.push(10);\n",
    "        stack.push(20);\n",
    "        stack.push(30);\n",
    "\n",
    "        stack.peek();\n",
    "\n",
    "        stack.pop();\n",
    "\n",
    "        System.out.println(\"Is stack empty? \" + stack.isEmpty());\n",
    "        System.out.println(\"Is stack full? \" + stack.isFull());\n",
    "    }\n",
    "}"
   ]
  },
  {
   "cell_type": "markdown",
   "metadata": {},
   "source": [
    "Stacks are used in a variety of applications in programming, including:\n",
    "\n",
    "1. **Function Call Stack**: Stacks are used to manage function calls and returns. When a function is called, its details (like return address, local variables) are pushed onto a stack. When the function returns, these details are popped from the stack.\n",
    "\n",
    "2. **Expression Evaluation and Syntax Parsing**: Stacks are used in compilers for syntax checking of expressions and their evaluation. They help in checking the proper opening and closing of brackets, parsing postfix expressions, etc.\n",
    "\n",
    "3. **Backtracking**: Stacks are used to solve problems where you need to perform actions and then undo them, such as in depth-first search, finding paths in a maze, the \"undo\" feature in text editors, and backtracking in algorithms.\n",
    "\n",
    "4. **Memory Management**: Stacks are used in managing memory in modern operating systems. Each thread has a stack associated with it.\n",
    "\n",
    "5. **Browser History**: Web browsers use stacks to manage the history of visited web pages. The \"back\" button pops the top page from the stack.\n",
    "\n",
    "These are just a few examples. Stacks are a fundamental data structure and are used in many more scenarios."
   ]
  },
  {
   "cell_type": "markdown",
   "metadata": {},
   "source": [
    "\n",
    "\n",
    "This code creates a stack of size 3, pushes three integers onto it, peeks at the top element, pops an element, and checks if the stack is empty or full."
   ]
  },
  {
   "cell_type": "markdown",
   "metadata": {},
   "source": [
    "Here's a brief explanation of the stack operations:\n",
    "\n",
    "1. `push`: This operation adds an element to the top of the stack. In the provided code, `stack.push(70);` is pushing the integer 70 onto the top of the stack.\n",
    "\n",
    "2. `pop`: This operation removes the top element from the stack and returns it. In the code, `stack.pop();` is removing the top element from the stack.\n",
    "\n",
    "3. `peek` or `top`: This operation returns the top element of the stack without removing it. In the code, `stack.peek();` is returning the top element of the stack.\n",
    "\n",
    "4. `isEmpty`: This operation checks if the stack is empty. If the stack is empty, it returns true; otherwise, it returns false. In the code, `stack.isEmpty();` is checking if the stack is empty.\n",
    "\n",
    "5. `isFull`: This operation checks if the stack is full. If the stack is full, it returns true; otherwise, it returns false. In the code, `stack.isFull();` is checking if the stack is full.\n",
    "\n",
    "These are the basic operations that can be performed on a stack. They allow us to add, remove, and inspect elements in a Last-In-First-Out (LIFO) manner."
   ]
  },
  {
   "cell_type": "markdown",
   "metadata": {},
   "source": [
    "# Stack Using Java Collection FrameWork"
   ]
  },
  {
   "cell_type": "markdown",
   "metadata": {},
   "source": [
    "In Java, the `java.util.Stack` class is part of the Java Collection Framework and extends the `Vector` class. It provides the basic push, pop, and peek operations, as well as several methods for searching for elements in the stack.\n",
    "\n",
    "Here's an example of how to use it:\n",
    "\n"
   ]
  },
  {
   "cell_type": "code",
   "execution_count": 20,
   "metadata": {
    "vscode": {
     "languageId": "java"
    }
   },
   "outputs": [
    {
     "ename": "CompilationException",
     "evalue": "",
     "output_type": "error",
     "traceback": [
      "\u001b[1m\u001b[30m|   \u001b[1m\u001b[30m        \u001b[0m\u001b[1m\u001b[30m\u001b[41mStack<Integer>\u001b[0m\u001b[1m\u001b[30m stack = new Stack<>();\u001b[0m",
      "\u001b[1m\u001b[31mtype Stack does not take parameters\u001b[0m",
      "",
      "\u001b[1m\u001b[30m|   \u001b[1m\u001b[30m        Stack<Integer> stack = new \u001b[0m\u001b[1m\u001b[30m\u001b[41mStack<>\u001b[0m\u001b[1m\u001b[30m();\u001b[0m",
      "\u001b[1m\u001b[31mcannot infer type arguments for Stack\u001b[0m",
      "\u001b[1m\u001b[31m  reason: cannot use '<>' with non-generic class Stack\u001b[0m",
      ""
     ]
    }
   ],
   "source": [
    "import java.util.*;\n",
    "\n",
    "public class Stack {\n",
    "    public static void main(String[] args) {\n",
    "        Stack<Integer> stack = new Stack<>();\n",
    "\n",
    "        stack.push(10);\n",
    "        stack.push(20);\n",
    "        stack.push(30);\n",
    "\n",
    "        System.out.println(\"Current stack: \" + stack);\n",
    "\n",
    "        int poppedElement = stack.pop();\n",
    "        System.out.println(\"Popped element: \" + poppedElement);\n",
    "\n",
    "        int topElement = stack.peek();\n",
    "        System.out.println(\"Top element: \" + topElement);\n",
    "\n",
    "        System.out.println(\"Final stack: \" + stack);\n",
    "    }\n",
    "}"
   ]
  },
  {
   "cell_type": "markdown",
   "metadata": {},
   "source": [
    "It seems like there's a naming conflict in your code. You have a class named `Stack` and you're also trying to use `java.util.Stack`. \n",
    "\n",
    "The `Stack` in `Stack<Integer> stack = new Stack<>();` is referring to your own class `Stack`, not `java.util.Stack`. \n",
    "\n",
    "To fix this, you can either rename your class to something else, or you can use the fully qualified class name for `java.util.Stack` when declaring your stack. Here's how you can do it:\n",
    "\n"
   ]
  },
  {
   "cell_type": "code",
   "execution_count": 19,
   "metadata": {
    "vscode": {
     "languageId": "java"
    }
   },
   "outputs": [],
   "source": [
    "import java.util.Stack;\n",
    "\n",
    "public class MyStack {\n",
    "    public static void main(String[] args) {\n",
    "        java.util.Stack<Integer> stack = new java.util.Stack<>();\n",
    "\n",
    "        stack.push(10);\n",
    "        stack.push(20);\n",
    "        stack.push(30);\n",
    "\n",
    "        System.out.println(\"Current stack: \" + stack);\n",
    "\n",
    "        int poppedElement = stack.pop();\n",
    "        System.out.println(\"Popped element: \" + poppedElement);\n",
    "\n",
    "        int topElement = stack.peek();\n",
    "        System.out.println(\"Top element: \" + topElement);\n",
    "\n",
    "        System.out.println(\"Final stack: \" + stack);\n",
    "    }\n",
    "}\n",
    "\n",
    "MyStack stack = new MyStack();"
   ]
  },
  {
   "cell_type": "markdown",
   "metadata": {},
   "source": [
    "\n",
    "\n",
    "In this code, I've renamed your class to `MyStack` to avoid the naming conflict."
   ]
  },
  {
   "cell_type": "markdown",
   "metadata": {},
   "source": [
    "\n",
    "\n",
    "This code will output:\n",
    "\n"
   ]
  },
  {
   "cell_type": "code",
   "execution_count": null,
   "metadata": {
    "vscode": {
     "languageId": ""
    }
   },
   "outputs": [],
   "source": [
    "Current stack: [10, 20, 30]\n",
    "Popped element: 30\n",
    "Top element: 20\n",
    "Final stack: [10, 20]"
   ]
  },
  {
   "cell_type": "markdown",
   "metadata": {},
   "source": [
    "\n",
    "\n",
    "In this code:\n",
    "\n",
    "- The `push` method adds an element to the top of the stack.\n",
    "- The `pop` method removes the top element from the stack and returns it.\n",
    "- The `peek` method returns the top element from the stack without removing it."
   ]
  },
  {
   "cell_type": "markdown",
   "metadata": {},
   "source": [
    "# **Thank You!**"
   ]
  }
 ],
 "metadata": {
  "kernelspec": {
   "display_name": "Java",
   "language": "java",
   "name": "java"
  },
  "language_info": {
   "codemirror_mode": "java",
   "file_extension": ".jshell",
   "mimetype": "text/x-java-source",
   "name": "Java",
   "pygments_lexer": "java",
   "version": "17.0.9+9-Ubuntu-122.04"
  }
 },
 "nbformat": 4,
 "nbformat_minor": 2
}
