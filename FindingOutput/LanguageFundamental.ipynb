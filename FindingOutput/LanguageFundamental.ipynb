{
 "cells": [
  {
   "cell_type": "code",
   "execution_count": 1,
   "metadata": {
    "vscode": {
     "languageId": "java"
    }
   },
   "outputs": [],
   "source": [
    "public class CommandArgsThree \n",
    "{\n",
    "    public static void main(String [] args) \n",
    "    {\n",
    "        String [][] argCopy = new String[2][2];\n",
    "        int x;\n",
    "        argCopy[0] = args;\n",
    "        x = argCopy[0].length;\n",
    "        for (int y = 0; y < x; y++) \n",
    "        {\n",
    "            System.out.print(\" \" + argCopy[0][y]);\n",
    "        }\n",
    "    }\n",
    "}"
   ]
  },
  {
   "cell_type": "markdown",
   "metadata": {},
   "source": [
    "This Java code demonstrates how to access and print the command-line arguments passed to a program.\n",
    "\n",
    "The `CommandArgsThree` class contains a `main` method, which is the entry point of the program. The `main` method takes an array of strings, `args`, as a parameter. This array represents the command-line arguments provided when running the program.\n",
    "\n",
    "Inside the `main` method, a two-dimensional array of strings, `argCopy`, is declared and initialized with a size of 2x2. This array will be used to store a copy of the `args` array.\n",
    "\n",
    "Next, the `args` array is assigned to the first element of the `argCopy` array using the statement `argCopy[0] = args;`. This means that the `argCopy[0]` array now references the same memory as the `args` array.\n",
    "\n",
    "Then, the length of the `argCopy[0]` array is assigned to the variable `x` using the statement `x = argCopy[0].length;`. This gives us the number of command-line arguments passed to the program.\n",
    "\n",
    "Finally, a `for` loop is used to iterate over the elements of the `argCopy[0]` array. Each element is printed using the `System.out.print` method. The loop runs `x` times, where `x` is the length of the `argCopy[0]` array.\n",
    "\n",
    "In summary, this code copies the command-line arguments into a two-dimensional array and then prints them out."
   ]
  },
  {
   "cell_type": "code",
   "execution_count": 3,
   "metadata": {
    "vscode": {
     "languageId": "java"
    }
   },
   "outputs": [
    {
     "name": "stdout",
     "output_type": "stream",
     "text": [
      " 1 2 3"
     ]
    }
   ],
   "source": [
    "CommandArgsThree.main(new String[] {\"1\", \"2\", \"3\"});"
   ]
  },
  {
   "cell_type": "code",
   "execution_count": 4,
   "metadata": {
    "vscode": {
     "languageId": "java"
    }
   },
   "outputs": [],
   "source": [
    "public class CommandArgs \n",
    "{\n",
    "    public static void main(String [] args) \n",
    "    {\n",
    "        String s1 = args[1];\n",
    "        String s2 = args[2];\n",
    "        String s3 = args[3];\n",
    "        String s4 = args[4];\n",
    "        System.out.print(\" args[2] = \" + s2);\n",
    "    }\n",
    "}"
   ]
  },
  {
   "cell_type": "code",
   "execution_count": 5,
   "metadata": {
    "vscode": {
     "languageId": "java"
    }
   },
   "outputs": [
    {
     "ename": "EvalException",
     "evalue": "Index 4 out of bounds for length 4",
     "output_type": "error",
     "traceback": [
      "\u001b[1m\u001b[31m---------------------------------------------------------------------------\u001b[0m",
      "\u001b[1m\u001b[31mjava.lang.ArrayIndexOutOfBoundsException: Index 4 out of bounds for length 4\u001b[0m",
      "\u001b[1m\u001b[31m\tat CommandArgs.main(#15:8)\u001b[0m",
      "\u001b[1m\u001b[31m\tat .(#16:1)\u001b[0m"
     ]
    }
   ],
   "source": [
    "CommandArgs.main(new String[] {\"1\", \"2\", \"3\", \"4\"});"
   ]
  },
  {
   "cell_type": "markdown",
   "metadata": {},
   "source": [
    "**Explanation:**\n",
    "An exception is thrown because in the code String s4 = args[4];, the array index (the fifth element) is out of bounds. The exception thrown is the cleverly named ArrayIndexOutOfBoundsException."
   ]
  },
  {
   "cell_type": "markdown",
   "metadata": {},
   "source": [
    "# Q3 What will be the output of the program, if this code is executed with the command line:\n",
    "\n",
    "> java F0091 world"
   ]
  },
  {
   "cell_type": "code",
   "execution_count": 6,
   "metadata": {
    "vscode": {
     "languageId": "java"
    }
   },
   "outputs": [],
   "source": [
    "public class F0091 \n",
    "{    \n",
    "    public void main( String[] args ) \n",
    "    {  \n",
    "        System.out.println( \"Hello\" + args[0] ); \n",
    "    } \n",
    "}"
   ]
  },
  {
   "cell_type": "code",
   "execution_count": 7,
   "metadata": {
    "vscode": {
     "languageId": "java"
    }
   },
   "outputs": [
    {
     "ename": "CompilationException",
     "evalue": "",
     "output_type": "error",
     "traceback": [
      "\u001b[1m\u001b[30m|   \u001b[1m\u001b[30m\u001b[0m\u001b[1m\u001b[30m\u001b[41mF0091.main\u001b[0m\u001b[1m\u001b[30m(new String[] {\"World\"});\u001b[0m",
      "\u001b[1m\u001b[31mnon-static method main(java.lang.String[]) cannot be referenced from a static context\u001b[0m",
      ""
     ]
    }
   ],
   "source": [
    "F0091.main(new String[] {\"World\"});"
   ]
  },
  {
   "cell_type": "markdown",
   "metadata": {},
   "source": [
    "A runtime error will occur owning to the main method of the code fragment not being declared static:\n",
    "\n",
    "Exception in thread \"main\" java.lang.NoSuchMethodError: main\n",
    "\n",
    "The Java Language Specification clearly states: \"The main method must be declared public, static, and void. It must accept a single argument that is an array of strings.\""
   ]
  },
  {
   "cell_type": "markdown",
   "metadata": {},
   "source": [
    "# Q4"
   ]
  },
  {
   "cell_type": "code",
   "execution_count": 8,
   "metadata": {
    "vscode": {
     "languageId": "java"
    }
   },
   "outputs": [],
   "source": [
    "public class TestDogs \n",
    "{\n",
    "    public static void main(String [] args) \n",
    "    {\n",
    "        Dog [][] theDogs = new Dog[3][];\n",
    "        System.out.println(theDogs[2][0].toString());\n",
    "    }\n",
    "}\n",
    "class Dog { }"
   ]
  },
  {
   "cell_type": "markdown",
   "metadata": {},
   "source": [
    "The second dimension of the array referenced by theDogs has not been initialized. Attempting to access an uninitialized object element (System.out.println(theDogs[2][0].toString());) raises a NullPointerException."
   ]
  },
  {
   "cell_type": "markdown",
   "metadata": {},
   "source": [
    "# Q5"
   ]
  },
  {
   "cell_type": "code",
   "execution_count": 9,
   "metadata": {
    "vscode": {
     "languageId": "java"
    }
   },
   "outputs": [
    {
     "ename": "CompilationException",
     "evalue": "",
     "output_type": "error",
     "traceback": [
      "\u001b[1m\u001b[30m|   \u001b[1m\u001b[30m        \u001b[0m\u001b[1m\u001b[30m\u001b[41msigned\u001b[0m\u001b[1m\u001b[30m int x = 10;\u001b[0m",
      "\u001b[1m\u001b[31mnot a statement\u001b[0m",
      "",
      "\u001b[1m\u001b[30m|   \u001b[1m\u001b[30m        signed\u001b[0m\u001b[1m\u001b[30m\u001b[41m\u001b[0m\u001b[1m\u001b[30m int x = 10;\u001b[0m",
      "\u001b[1m\u001b[31m';' expected\u001b[0m",
      ""
     ]
    }
   ],
   "source": [
    "public class Test \n",
    "{\n",
    "    public static void main(String [] args) \n",
    "    {\n",
    "        signed int x = 10;\n",
    "        for (int y=0; y<5; y++, x--)\n",
    "            System.out.print(x + \", \");\n",
    "    }\n",
    "}"
   ]
  },
  {
   "cell_type": "markdown",
   "metadata": {},
   "source": [
    "The word \"signed\" is not a valid modifier keyword in the Java language. All number primitives in Java are signed. Hence the Compilation will fails."
   ]
  }
 ],
 "metadata": {
  "kernelspec": {
   "display_name": "Java",
   "language": "java",
   "name": "java"
  },
  "language_info": {
   "codemirror_mode": "java",
   "file_extension": ".jshell",
   "mimetype": "text/x-java-source",
   "name": "Java",
   "pygments_lexer": "java",
   "version": "22.0.1+8-16"
  }
 },
 "nbformat": 4,
 "nbformat_minor": 2
}
