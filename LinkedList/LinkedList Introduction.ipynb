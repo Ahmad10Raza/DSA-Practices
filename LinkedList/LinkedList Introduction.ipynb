{
 "cells": [
  {
   "cell_type": "markdown",
   "metadata": {},
   "source": [
    "# LinkedList "
   ]
  },
  {
   "cell_type": "markdown",
   "metadata": {},
   "source": [
    "# What is linked list?"
   ]
  },
  {
   "cell_type": "markdown",
   "metadata": {},
   "source": [
    "A linked list is a linear data structure where each element is a separate object, known as a node. Each node contains two fields: data and a reference (in other words, a link) to the next node in the sequence. This structure allows for efficient insertions or removals of elements from any position in the sequence during iteration.\n",
    "\n",
    "There are three common types of linked lists:\n",
    "\n",
    "1. **Singly Linked List:** Each node contains data and a link to the next node in the sequence. The last node points to null, indicating the end of the list.\n",
    "\n",
    "2. **Doubly Linked List:** Each node contains data and two links pointing to the next and previous node in the sequence. The head node's previous link and the tail node's next link point to null.\n",
    "\n",
    "3. **Circular Linked List:** Similar to a singly or doubly linked list, but the last node in the list points back to the first node (in a singly circular linked list) or to itself (in a doubly circular linked list), creating a loop.\n",
    "\n",
    "Here's a simple example of a singly linked list node in Java:\n",
    "\n"
   ]
  },
  {
   "cell_type": "code",
   "execution_count": 10,
   "metadata": {
    "vscode": {
     "languageId": "java"
    }
   },
   "outputs": [],
   "source": [
    "public class Node {\n",
    "    int data;\n",
    "    Node next;\n",
    "\n",
    "    Node(int data) {\n",
    "        this.data = data;\n",
    "        this.next = null;\n",
    "    }\n",
    "}"
   ]
  },
  {
   "cell_type": "code",
   "execution_count": 11,
   "metadata": {
    "vscode": {
     "languageId": "java"
    }
   },
   "outputs": [
    {
     "name": "stdout",
     "output_type": "stream",
     "text": [
      "1\n",
      "2\n"
     ]
    },
    {
     "name": "stdout",
     "output_type": "stream",
     "text": [
      "3\n"
     ]
    }
   ],
   "source": [
    "Node a = new Node(1);\n",
    "Node b = new Node(2);\n",
    "Node c = new Node(3);\n",
    "a.next = b;\n",
    "b.next = c;\n",
    "System.out.println(a.data); // 1\n",
    "System.out.println(a.next.data); // 2\n",
    "System.out.println(a.next.next.data); // 3\n"
   ]
  },
  {
   "cell_type": "markdown",
   "metadata": {},
   "source": [
    "\n",
    "\n",
    "In this example, `Node` is a class that represents a node in a singly linked list. It has an integer data field to hold the data (which could be any type), and a `Node` reference to point to the next node in the list. The `next` field is initialized as `null`, which would be the case for the last node in the list."
   ]
  },
  {
   "cell_type": "markdown",
   "metadata": {},
   "source": [
    "# Traversing In LL"
   ]
  },
  {
   "cell_type": "markdown",
   "metadata": {},
   "source": [
    "There are several ways to traverse a linked list. Here are three common methods:\n",
    "\n",
    "1. **Iterative Method:** This is the most common method. You start from the head of the list and move to the next node in a loop until you reach a node that points to `null`.\n",
    "\n"
   ]
  },
  {
   "cell_type": "code",
   "execution_count": 4,
   "metadata": {
    "vscode": {
     "languageId": "java"
    }
   },
   "outputs": [],
   "source": [
    "public void printListIterative(Node node) {\n",
    "    while (node != null) {\n",
    "        System.out.print(node.data + \" \");\n",
    "        node = node.next;\n",
    "    }\n",
    "}"
   ]
  },
  {
   "cell_type": "markdown",
   "metadata": {},
   "source": [
    "\n",
    "\n",
    "2. **Recursive Method:** In this method, you print the current node's data and then call the same function for the next node.\n",
    "\n"
   ]
  },
  {
   "cell_type": "code",
   "execution_count": 5,
   "metadata": {
    "vscode": {
     "languageId": "java"
    }
   },
   "outputs": [],
   "source": [
    "public void printListRecursive(Node node) {\n",
    "    if (node == null) {\n",
    "        return;\n",
    "    }\n",
    "    System.out.print(node.data + \" \");\n",
    "    printListRecursive(node.next);\n",
    "}"
   ]
  },
  {
   "cell_type": "markdown",
   "metadata": {},
   "source": [
    "\n",
    "\n",
    "3. **Using Java's built-in LinkedList class:** Java's `LinkedList` class provides a method called `iterator()` that returns an `Iterator` for the list. You can use this to traverse the list.\n",
    "\n"
   ]
  },
  {
   "cell_type": "code",
   "execution_count": 5,
   "metadata": {
    "vscode": {
     "languageId": "java"
    }
   },
   "outputs": [],
   "source": [
    "public void printListJavaLinkedList(LinkedList<Integer> list) {\n",
    "    Iterator<Integer> iterator = list.iterator();\n",
    "    while (iterator.hasNext()) {\n",
    "        System.out.print(iterator.next() + \" \");\n",
    "    }\n",
    "}"
   ]
  },
  {
   "cell_type": "markdown",
   "metadata": {},
   "source": [
    "\n",
    "\n",
    "In these examples, `Node` is assumed to be a class with `data` and `next` fields, and `LinkedList` is Java's built-in `LinkedList` class. The `printListIterative` and `printListRecursive` methods take the head of a custom linked list as a parameter, while `printListJavaLinkedList` takes a `LinkedList` object. Each method prints the data of each node in the list."
   ]
  },
  {
   "cell_type": "code",
   "execution_count": 6,
   "metadata": {
    "vscode": {
     "languageId": "java"
    }
   },
   "outputs": [
    {
     "name": "stdout",
     "output_type": "stream",
     "text": [
      "1 2 3 "
     ]
    }
   ],
   "source": [
    "printListIterative(a); // 1 2 3"
   ]
  },
  {
   "cell_type": "code",
   "execution_count": 7,
   "metadata": {
    "vscode": {
     "languageId": "java"
    }
   },
   "outputs": [
    {
     "name": "stdout",
     "output_type": "stream",
     "text": [
      "1 2 3 "
     ]
    }
   ],
   "source": [
    "printListRecursive(a); // 1 2 3"
   ]
  },
  {
   "cell_type": "code",
   "execution_count": 8,
   "metadata": {
    "vscode": {
     "languageId": "java"
    }
   },
   "outputs": [
    {
     "name": "stdout",
     "output_type": "stream",
     "text": [
      "1 2 3 "
     ]
    }
   ],
   "source": [
    "printListJavaLinkedList(new LinkedList<>(Arrays.asList(1, 2, 3))); // 1 2 3"
   ]
  },
  {
   "cell_type": "markdown",
   "metadata": {},
   "source": [
    "## Reverse Order"
   ]
  },
  {
   "cell_type": "code",
   "execution_count": 12,
   "metadata": {
    "vscode": {
     "languageId": "java"
    }
   },
   "outputs": [],
   "source": [
    "public void printListRecursiveReverse(Node node) {\n",
    "    if (node == null) {\n",
    "        return;\n",
    "    }\n",
    "   \n",
    "    printListRecursive(node.next);\n",
    "    System.out.print(node.data + \" \");\n",
    "}"
   ]
  },
  {
   "cell_type": "code",
   "execution_count": 13,
   "metadata": {
    "vscode": {
     "languageId": "java"
    }
   },
   "outputs": [
    {
     "name": "stdout",
     "output_type": "stream",
     "text": [
      "2 3 1 "
     ]
    }
   ],
   "source": [
    "printListRecursiveReverse(a); // 3 2 1"
   ]
  },
  {
   "cell_type": "code",
   "execution_count": 6,
   "metadata": {
    "vscode": {
     "languageId": "java"
    }
   },
   "outputs": [],
   "source": [
    "public Node reverseList(Node node) {\n",
    "    Node prev = null;\n",
    "    Node current = node;\n",
    "    Node next = null;\n",
    "    while (current != null) {\n",
    "        next = current.next;\n",
    "        current.next = prev;\n",
    "        prev = current;\n",
    "        current = next;\n",
    "    }\n",
    "    return prev;\n",
    "}"
   ]
  },
  {
   "cell_type": "code",
   "execution_count": 7,
   "metadata": {
    "vscode": {
     "languageId": "java"
    }
   },
   "outputs": [
    {
     "data": {
      "text/plain": [
       "REPL.$JShell$13$Node@7dc72919"
      ]
     },
     "execution_count": 7,
     "metadata": {},
     "output_type": "execute_result"
    }
   ],
   "source": [
    "reverseList(a);"
   ]
  },
  {
   "cell_type": "markdown",
   "metadata": {},
   "source": [
    "## Length Count"
   ]
  },
  {
   "cell_type": "markdown",
   "metadata": {},
   "source": [
    "There are several ways to count the length of a linked list. Here are three common methods:\n",
    "\n",
    "1. **Iterative Method:** This is the most common method. You start from the head of the list and move to the next node in a loop until you reach a node that points to `null`, incrementing a counter at each step.\n",
    "\n"
   ]
  },
  {
   "cell_type": "code",
   "execution_count": 12,
   "metadata": {
    "vscode": {
     "languageId": "java"
    }
   },
   "outputs": [],
   "source": [
    "public int getLengthIterative(Node node) {\n",
    "    int count = 0;\n",
    "    while (node != null) {\n",
    "        count++;\n",
    "        node = node.next;\n",
    "    }\n",
    "    return count;\n",
    "}"
   ]
  },
  {
   "cell_type": "markdown",
   "metadata": {},
   "source": [
    "\n",
    "\n",
    "2. **Recursive Method:** In this method, you increment a count for each node and then call the same function for the next node.\n",
    "\n"
   ]
  },
  {
   "cell_type": "code",
   "execution_count": 13,
   "metadata": {
    "vscode": {
     "languageId": "java"
    }
   },
   "outputs": [],
   "source": [
    "public int getLengthRecursive(Node node) {\n",
    "    if (node == null) {\n",
    "        return 0;\n",
    "    }\n",
    "    return 1 + getLengthRecursive(node.next);\n",
    "}"
   ]
  },
  {
   "cell_type": "markdown",
   "metadata": {},
   "source": [
    "\n",
    "\n",
    "3. **Using Java's built-in LinkedList class:** Java's `LinkedList` class provides a method called `size()` that returns the number of elements in the list.\n",
    "\n"
   ]
  },
  {
   "cell_type": "code",
   "execution_count": 14,
   "metadata": {
    "vscode": {
     "languageId": "java"
    }
   },
   "outputs": [],
   "source": [
    "public int getLengthJavaLinkedList(LinkedList<Integer> list) {\n",
    "    return list.size();\n",
    "}"
   ]
  },
  {
   "cell_type": "markdown",
   "metadata": {},
   "source": [
    "\n",
    "\n",
    "In these examples, `Node` is assumed to be a class with `data` and `next` fields, and `LinkedList` is Java's built-in `LinkedList` class. The `getLengthIterative` and `getLengthRecursive` methods take the head of a custom linked list as a parameter, while `getLengthJavaLinkedList` takes a `LinkedList` object. Each method returns the number of nodes in the list."
   ]
  },
  {
   "cell_type": "code",
   "execution_count": 15,
   "metadata": {
    "vscode": {
     "languageId": "java"
    }
   },
   "outputs": [
    {
     "data": {
      "text/plain": [
       "3"
      ]
     },
     "execution_count": 15,
     "metadata": {},
     "output_type": "execute_result"
    }
   ],
   "source": [
    "getLengthIterative(a); // 3"
   ]
  },
  {
   "cell_type": "code",
   "execution_count": 16,
   "metadata": {
    "vscode": {
     "languageId": "java"
    }
   },
   "outputs": [
    {
     "data": {
      "text/plain": [
       "3"
      ]
     },
     "execution_count": 16,
     "metadata": {},
     "output_type": "execute_result"
    }
   ],
   "source": [
    "getLengthRecursive(a); // 3"
   ]
  },
  {
   "cell_type": "code",
   "execution_count": 17,
   "metadata": {
    "vscode": {
     "languageId": "java"
    }
   },
   "outputs": [
    {
     "data": {
      "text/plain": [
       "3"
      ]
     },
     "execution_count": 17,
     "metadata": {},
     "output_type": "execute_result"
    }
   ],
   "source": [
    "getLengthJavaLinkedList(new LinkedList<>(Arrays.asList(1, 2, 3))); // 3"
   ]
  },
  {
   "cell_type": "markdown",
   "metadata": {},
   "source": [
    "## InsertAtEnd "
   ]
  },
  {
   "cell_type": "markdown",
   "metadata": {},
   "source": [
    "There are several ways to add a node at the end of a linked list. Here are three common methods:\n",
    "\n",
    "1. **Iterative Method:** In this method, you start from the head of the list and move to the next node in a loop until you reach a node that points to `null`, then you add the new node.\n",
    "\n"
   ]
  },
  {
   "cell_type": "code",
   "execution_count": 24,
   "metadata": {
    "vscode": {
     "languageId": "java"
    }
   },
   "outputs": [],
   "source": [
    "public void addNodeAtEndIterative(Node head, int data) {\n",
    "    Node newNode = new Node(data);\n",
    "    if (head == null) {\n",
    "        head = newNode;\n",
    "    } else {\n",
    "        Node tail = head;\n",
    "        while (tail.next != null) {\n",
    "            tail = tail.next;\n",
    "        }\n",
    "        tail.next = newNode;\n",
    "    }\n",
    "}"
   ]
  },
  {
   "cell_type": "markdown",
   "metadata": {},
   "source": [
    "In the provided code, line number 10 is the following line:\n",
    "\n"
   ]
  },
  {
   "cell_type": "code",
   "execution_count": null,
   "metadata": {
    "vscode": {
     "languageId": "java"
    }
   },
   "outputs": [],
   "source": [
    "tail.next = newNode;"
   ]
  },
  {
   "cell_type": "markdown",
   "metadata": {},
   "source": [
    "\n",
    "\n",
    "This line is responsible for adding a new node at the end of the linked list.\n",
    "\n",
    "Let's break down what this line does:\n",
    "\n",
    "1. `tail` is a reference to the last node in the linked list. It is initially set to the `head` node.\n",
    "2. `newNode` is the new node that we want to add at the end of the linked list.\n",
    "3. `tail.next` refers to the `next` field of the `tail` node, which is initially `null`.\n",
    "4. By assigning `newNode` to `tail.next`, we are effectively making the `next` field of the `tail` node point to the `newNode`. This connects the new node to the end of the linked list.\n",
    "\n",
    "Here's an example to illustrate the process:\n",
    "\n",
    "Let's say we have a linked list with three nodes: `1 -> 2 -> 3`. The `head` points to the first node (`1`), and the `tail` initially points to the same node (`1`).\n",
    "\n",
    "When we call the `addNodeAtEndIterative` method with `data` value `4`, the following steps occur:\n",
    "\n",
    "1. A new node is created with the `data` value `4`.\n",
    "2. Since the linked list is not empty (`head != null`), we enter the `else` block.\n",
    "3. The `tail` starts at the `head` node (`1`).\n",
    "4. The `while` loop iterates until the `tail` reaches the last node (`3`), where `tail.next` is `null`.\n",
    "5. After the loop, the `tail` is pointing to the last node (`3`).\n",
    "6. The line `tail.next = newNode;` sets the `next` field of the last node (`3`) to the `newNode` with `data` value `4`.\n",
    "7. The linked list is now `1 -> 2 -> 3 -> 4`.\n",
    "\n",
    "It's important to note that this code assumes that the `head` node is passed as a parameter to the method. If the `head` node is `null`, indicating an empty linked list, the `newNode` becomes the new `head` node."
   ]
  },
  {
   "cell_type": "markdown",
   "metadata": {},
   "source": [
    "\n",
    "\n",
    "2. **Recursive Method:** In this method, if the list is empty or if you've reached the end of the list, you add the new node. Otherwise, you call the same function for the next node.\n",
    "\n"
   ]
  },
  {
   "cell_type": "code",
   "execution_count": 19,
   "metadata": {
    "vscode": {
     "languageId": "java"
    }
   },
   "outputs": [],
   "source": [
    "public Node addNodeAtEndRecursive(Node node, int data) {\n",
    "    if (node == null) {\n",
    "        return new Node(data);\n",
    "    } else if (node.next == null) {\n",
    "        node.next = new Node(data);\n",
    "    } else {\n",
    "        addNodeAtEndRecursive(node.next, data);\n",
    "    }\n",
    "    return node;\n",
    "}"
   ]
  },
  {
   "cell_type": "markdown",
   "metadata": {},
   "source": [
    "This code snippet is an implementation of a recursive function called `addNodeAtEndRecursive` that adds a new node with the given data at the end of a linked list. Let's break it down step by step:\n",
    "\n",
    "1. The function takes two parameters: `node` and `data`. `node` represents the current node in the linked list, and `data` is the value to be added to the new node.\n",
    "\n",
    "2. The first condition checks if the current node is `null`. If it is, it means that the linked list is empty, so a new node is created with the given data and returned.\n",
    "\n",
    "3. If the current node is not `null`, the function checks if the `next` reference of the current node is `null`. If it is, it means that the current node is the last node in the linked list. In this case, a new node is created with the given data and assigned to the `next` reference of the current node.\n",
    "\n",
    "4. If neither of the above conditions is met, it means that the current node is not the last node in the linked list. The function calls itself recursively, passing the `next` node as the new `node` parameter. This recursive call continues until the last node is reached.\n",
    "\n",
    "5. Finally, the function returns the `node` parameter, which represents the head of the linked list. This is necessary to maintain the reference to the first node in the linked list after adding the new node.\n",
    "\n",
    "Overall, this recursive function traverses the linked list until it reaches the last node, and then adds a new node with the given data at the end."
   ]
  },
  {
   "cell_type": "markdown",
   "metadata": {},
   "source": [
    "\n",
    "\n",
    "3. **Using Java's built-in LinkedList class:** Java's `LinkedList` class provides a method called `add()` that adds an element to the end of the list.\n",
    "\n"
   ]
  },
  {
   "cell_type": "code",
   "execution_count": 20,
   "metadata": {
    "vscode": {
     "languageId": "java"
    }
   },
   "outputs": [],
   "source": [
    "public void addNodeAtEndJavaLinkedList(LinkedList<Integer> list, int data) {\n",
    "    list.add(data);\n",
    "}"
   ]
  },
  {
   "cell_type": "markdown",
   "metadata": {},
   "source": [
    "\n",
    "\n",
    "In these examples, `Node` is assumed to be a class with `data` and `next` fields, and `LinkedList` is Java's built-in `LinkedList` class. The `addNodeAtEndIterative` and `addNodeAtEndRecursive` methods take the head of a custom linked list and the data for the new node as parameters, while `addNodeAtEndJavaLinkedList` takes a `LinkedList` object and the data for the new node. Each method adds a new node with the given data to the end of the list."
   ]
  },
  {
   "cell_type": "code",
   "execution_count": 25,
   "metadata": {
    "vscode": {
     "languageId": "java"
    }
   },
   "outputs": [
    {
     "name": "stdout",
     "output_type": "stream",
     "text": [
      "1 2 3 4 5 4 "
     ]
    }
   ],
   "source": [
    "addNodeAtEndIterative(a, 4);\n",
    "printListIterative(a); // 1 2 3 4"
   ]
  },
  {
   "cell_type": "code",
   "execution_count": 22,
   "metadata": {
    "vscode": {
     "languageId": "java"
    }
   },
   "outputs": [
    {
     "name": "stdout",
     "output_type": "stream",
     "text": [
      "1 2 3 4 5 "
     ]
    }
   ],
   "source": [
    "addNodeAtEndRecursive(a, 5);\n",
    "printListIterative(a); // 1 2 3 4 5"
   ]
  },
  {
   "cell_type": "code",
   "execution_count": 23,
   "metadata": {
    "vscode": {
     "languageId": "java"
    }
   },
   "outputs": [
    {
     "name": "stdout",
     "output_type": "stream",
     "text": [
      "1 2 3 4 "
     ]
    }
   ],
   "source": [
    "addNodeAtEndJavaLinkedList(new LinkedList<>(Arrays.asList(1, 2, 3)), 4);\n",
    "printListJavaLinkedList(new LinkedList<>(Arrays.asList(1, 2, 3, 4))); // 1 2 3 4"
   ]
  },
  {
   "cell_type": "markdown",
   "metadata": {},
   "source": [
    "## InsertAtBeginning"
   ]
  },
  {
   "cell_type": "markdown",
   "metadata": {},
   "source": [
    "There are several ways to add a node at the beginning of a linked list. Here are three common methods:\n",
    "\n",
    "1. **Iterative Method:** In this method, you create a new node and set its `next` field to point to the current head of the list. Then, you update the head of the list to be the new node.\n",
    "\n"
   ]
  },
  {
   "cell_type": "code",
   "execution_count": 31,
   "metadata": {
    "vscode": {
     "languageId": "java"
    }
   },
   "outputs": [],
   "source": [
    "public Node addNodeAtBeginningIterative(Node head, int data) {\n",
    "    Node newNode = new Node(data);\n",
    "    if(head == null) {\n",
    "        head = newNode;\n",
    "    } else {\n",
    "        newNode.next = head;\n",
    "        head = newNode;\n",
    "    }\n",
    "    return head;\n",
    "}"
   ]
  },
  {
   "cell_type": "markdown",
   "metadata": {},
   "source": [
    "\n",
    "\n",
    "2. **Recursive Method:** In this method, you create a new node and set its `next` field to point to the current head of the list. Then, you return the new node as the new head of the list.\n",
    "\n"
   ]
  },
  {
   "cell_type": "code",
   "execution_count": 27,
   "metadata": {
    "vscode": {
     "languageId": "java"
    }
   },
   "outputs": [],
   "source": [
    "public Node addNodeAtBeginningRecursive(Node head, int data) {\n",
    "    Node newNode = new Node(data);\n",
    "    if (head != null) {\n",
    "        newNode.next = head;\n",
    "    }\n",
    "    return newNode;\n",
    "}"
   ]
  },
  {
   "cell_type": "markdown",
   "metadata": {},
   "source": [
    "\n",
    "\n",
    "3. **Using Java's built-in LinkedList class:** Java's `LinkedList` class provides a method called `addFirst()` that adds an element to the beginning of the list.\n",
    "\n"
   ]
  },
  {
   "cell_type": "code",
   "execution_count": 28,
   "metadata": {
    "vscode": {
     "languageId": "java"
    }
   },
   "outputs": [],
   "source": [
    "public void addNodeAtBeginningJavaLinkedList(LinkedList<Integer> list, int data) {\n",
    "    list.addFirst(data);\n",
    "}"
   ]
  },
  {
   "cell_type": "markdown",
   "metadata": {},
   "source": [
    "\n",
    "\n",
    "In these examples, `Node` is assumed to be a class with `data` and `next` fields, and `LinkedList` is Java's built-in `LinkedList` class. The `addNodeAtBeginningIterative` and `addNodeAtBeginningRecursive` methods take the head of a custom linked list and the data for the new node as parameters, while `addNodeAtBeginningJavaLinkedList` takes a `LinkedList` object and the data for the new node. Each method adds a new node with the given data to the beginning of the list."
   ]
  },
  {
   "cell_type": "code",
   "execution_count": 32,
   "metadata": {
    "vscode": {
     "languageId": "java"
    }
   },
   "outputs": [
    {
     "name": "stdout",
     "output_type": "stream",
     "text": [
      "1 2 3 4 5 4 "
     ]
    }
   ],
   "source": [
    "addNodeAtBeginningIterative(a, 0);\n",
    "printListIterative(a); // 0 1 2 3 4 5"
   ]
  },
  {
   "cell_type": "markdown",
   "metadata": {},
   "source": [
    "## InsertAtIndex"
   ]
  },
  {
   "cell_type": "markdown",
   "metadata": {},
   "source": [
    "There are several ways to add a node at a specific index in a linked list. Here are three common methods:\n",
    "\n",
    "1. **Iterative Method:** In this method, you traverse the list until you reach the desired index, then insert the new node.\n",
    "\n"
   ]
  },
  {
   "cell_type": "code",
   "execution_count": null,
   "metadata": {
    "vscode": {
     "languageId": "java"
    }
   },
   "outputs": [],
   "source": [
    "public Node addNodeAtIndexIterative(Node head, int data, int index) {\n",
    "    Node newNode = new Node(data);\n",
    "    if (index == 0) {\n",
    "        newNode.next = head;\n",
    "        head = newNode;\n",
    "    } else {\n",
    "        Node current = head;\n",
    "        for (int i = 0; current != null && i < index - 1; i++) {\n",
    "            current = current.next;\n",
    "        }\n",
    "        if (current != null) {\n",
    "            newNode.next = current.next;\n",
    "            current.next = newNode;\n",
    "        }\n",
    "    }\n",
    "    return head;\n",
    "}"
   ]
  },
  {
   "cell_type": "markdown",
   "metadata": {},
   "source": [
    "\n",
    "\n",
    "2. **Recursive Method:** In this method, you decrement the index until it reaches 0, then insert the new node.\n",
    "\n"
   ]
  },
  {
   "cell_type": "code",
   "execution_count": null,
   "metadata": {
    "vscode": {
     "languageId": "java"
    }
   },
   "outputs": [],
   "source": [
    "public Node addNodeAtIndexRecursive(Node node, int data, int index) {\n",
    "    if (index == 0) {\n",
    "        Node newNode = new Node(data);\n",
    "        newNode.next = node;\n",
    "        return newNode;\n",
    "    }\n",
    "    if (node != null) {\n",
    "        node.next = addNodeAtIndexRecursive(node.next, data, index - 1);\n",
    "    }\n",
    "    return node;\n",
    "}"
   ]
  },
  {
   "cell_type": "markdown",
   "metadata": {},
   "source": [
    "\n",
    "\n",
    "3. **Using Java's built-in LinkedList class:** Java's `LinkedList` class provides a method called `add(int index, E element)` that inserts the specified element at the specified position in this list.\n",
    "\n"
   ]
  },
  {
   "cell_type": "code",
   "execution_count": null,
   "metadata": {
    "vscode": {
     "languageId": "java"
    }
   },
   "outputs": [],
   "source": [
    "public void addNodeAtIndexJavaLinkedList(LinkedList<Integer> list, int data, int index) {\n",
    "    list.add(index, data);\n",
    "}"
   ]
  },
  {
   "cell_type": "markdown",
   "metadata": {},
   "source": [
    "\n",
    "\n",
    "In these examples, `Node` is assumed to be a class with `data` and `next` fields, and `LinkedList` is Java's built-in `LinkedList` class. The `addNodeAtIndexIterative` and `addNodeAtIndexRecursive` methods take the head of a custom linked list, the data for the new node, and the index as parameters, while `addNodeAtIndexJavaLinkedList` takes a `LinkedList` object, the data for the new node, and the index. Each method adds a new node with the given data at the specified index in the list."
   ]
  },
  {
   "cell_type": "markdown",
   "metadata": {},
   "source": [
    "## getElementsAtIndex"
   ]
  },
  {
   "cell_type": "markdown",
   "metadata": {},
   "source": [
    "There are several ways to get a node at a specific index in a linked list. Here are three common methods:\n",
    "\n",
    "1. **Iterative Method:** In this method, you traverse the list until you reach the desired index, then return the node.\n",
    "\n"
   ]
  },
  {
   "cell_type": "code",
   "execution_count": null,
   "metadata": {
    "vscode": {
     "languageId": "java"
    }
   },
   "outputs": [],
   "source": [
    "public Node getNodeAtIndexIterative(Node head, int index) {\n",
    "    Node current = head;\n",
    "    int count = 0;\n",
    "    while (current != null) {\n",
    "        if (count == index) {\n",
    "            return current;\n",
    "        }\n",
    "        count++;\n",
    "        current = current.next;\n",
    "    }\n",
    "    return null; // index is out of bounds of the list\n",
    "}"
   ]
  },
  {
   "cell_type": "markdown",
   "metadata": {},
   "source": [
    "\n",
    "\n",
    "2. **Recursive Method:** In this method, you decrement the index until it reaches 0, then return the node.\n",
    "\n"
   ]
  },
  {
   "cell_type": "code",
   "execution_count": null,
   "metadata": {
    "vscode": {
     "languageId": "java"
    }
   },
   "outputs": [],
   "source": [
    "public Node getNodeAtIndexRecursive(Node node, int index) {\n",
    "    if (index == 0) {\n",
    "        return node;\n",
    "    }\n",
    "    if (node != null) {\n",
    "        return getNodeAtIndexRecursive(node.next, index - 1);\n",
    "    }\n",
    "    return null; // index is out of bounds of the list\n",
    "}"
   ]
  },
  {
   "cell_type": "markdown",
   "metadata": {},
   "source": [
    "\n",
    "\n",
    "3. **Using Java's built-in LinkedList class:** Java's `LinkedList` class provides a method called `get(int index)` that returns the element at the specified position in this list.\n",
    "\n"
   ]
  },
  {
   "cell_type": "code",
   "execution_count": null,
   "metadata": {
    "vscode": {
     "languageId": "java"
    }
   },
   "outputs": [],
   "source": [
    "public Integer getNodeAtIndexJavaLinkedList(LinkedList<Integer> list, int index) {\n",
    "    return list.get(index);\n",
    "}"
   ]
  },
  {
   "cell_type": "markdown",
   "metadata": {},
   "source": [
    "\n",
    "\n",
    "In these examples, `Node` is assumed to be a class with `data` and `next` fields, and `LinkedList` is Java's built-in `LinkedList` class. The `getNodeAtIndexIterative` and `getNodeAtIndexRecursive` methods take the head of a custom linked list and the index as parameters, while `getNodeAtIndexJavaLinkedList` takes a `LinkedList` object and the index. Each method returns the node or element at the specified index in the list."
   ]
  },
  {
   "cell_type": "markdown",
   "metadata": {},
   "source": [
    "## DeleteNode"
   ]
  },
  {
   "cell_type": "markdown",
   "metadata": {},
   "source": [
    "There are several ways to remove a node from a linked list. Here are three common methods:\n",
    "\n",
    "1. **Iterative Method:** In this method, you traverse the list until you reach the node before the one you want to remove, then update its `next` field to skip the node to be removed.\n",
    "\n"
   ]
  },
  {
   "cell_type": "code",
   "execution_count": null,
   "metadata": {
    "vscode": {
     "languageId": "java"
    }
   },
   "outputs": [],
   "source": [
    "public Node removeNodeIterative(Node head, int key) {\n",
    "    Node current = head, prev = null;\n",
    "    if (current != null && current.data == key) {\n",
    "        head = current.next; // Changed head\n",
    "        return head;\n",
    "    }\n",
    "    while (current != null && current.data != key) {\n",
    "        prev = current;\n",
    "        current = current.next;\n",
    "    }   \n",
    "    if (current != null) {\n",
    "        prev.next = current.next;\n",
    "    }\n",
    "    return head;\n",
    "}"
   ]
  },
  {
   "cell_type": "markdown",
   "metadata": {},
   "source": [
    "This code snippet is written in Java and defines a method called `removeNodeIterative`. This method is used to remove a node with a specific value from a linked list.\n",
    "\n",
    "Let's break down the code step by step:\n",
    "\n",
    "1. The method takes two parameters: `head`, which represents the head (first node) of the linked list, and `key`, which is the value of the node that needs to be removed.\n",
    "\n",
    "2. Two variables are declared: `current` and `prev`. `current` is initialized with the value of `head`, and `prev` is set to `null`. These variables will be used to traverse the linked list and keep track of the previous node.\n",
    "\n",
    "3. The code checks if the `current` node is not null and if its data (value) is equal to the `key` value. If this condition is true, it means that the first node needs to be removed. In that case, the `head` is updated to the next node (`current.next`) and the new `head` is returned.\n",
    "\n",
    "4. If the first node is not the one to be removed, a while loop is used to iterate through the linked list until either the end of the list is reached or a node with the `key` value is found. Inside the loop, the `prev` variable is updated to hold the value of the current node, and the `current` variable is moved to the next node (`current.next`).\n",
    "\n",
    "5. After the loop ends, the code checks if the `current` node is not null. If it is not null, it means that a node with the `key` value has been found. In that case, the `prev.next` is updated to skip the `current` node and point directly to the next node, effectively removing the `current` node from the linked list.\n",
    "\n",
    "6. Finally, the `head` of the modified linked list is returned.\n",
    "\n",
    "This code implements an iterative approach to remove a node from a linked list based on its value. It traverses the linked list until it finds the node to be removed, updates the necessary pointers, and returns the modified linked list."
   ]
  },
  {
   "cell_type": "markdown",
   "metadata": {},
   "source": [
    "\n",
    "\n",
    "2. **Recursive Method:** In this method, you decrement the index until it reaches 0, then update the `next` field of the previous node to skip the node to be removed.\n",
    "\n"
   ]
  },
  {
   "cell_type": "code",
   "execution_count": null,
   "metadata": {
    "vscode": {
     "languageId": "java"
    }
   },
   "outputs": [],
   "source": [
    "public Node removeNodeRecursive(Node node, int key) {\n",
    "    if (node == null) {\n",
    "        return null;\n",
    "    }\n",
    "    if (node.data == key) {\n",
    "        return node.next;\n",
    "    }\n",
    "    node.next = removeNodeRecursive(node.next, key);\n",
    "    return node;\n",
    "}"
   ]
  },
  {
   "cell_type": "markdown",
   "metadata": {},
   "source": [
    "\n",
    "\n",
    "3. **Using Java's built-in LinkedList class:** Java's `LinkedList` class provides a method called `remove(Object o)` that removes the first occurrence of the specified element from this list, if it is present.\n",
    "\n"
   ]
  },
  {
   "cell_type": "code",
   "execution_count": null,
   "metadata": {
    "vscode": {
     "languageId": "java"
    }
   },
   "outputs": [],
   "source": [
    "public void removeNodeJavaLinkedList(LinkedList<Integer> list, int key) {\n",
    "    list.removeFirstOccurrence(key);\n",
    "}"
   ]
  },
  {
   "cell_type": "markdown",
   "metadata": {},
   "source": [
    "\n",
    "\n",
    "In these examples, `Node` is assumed to be a class with `data` and `next` fields, and `LinkedList` is Java's built-in `LinkedList` class. The `removeNodeIterative` and `removeNodeRecursive` methods take the head of a custom linked list and the key of the node to be removed as parameters, while `removeNodeJavaLinkedList` takes a `LinkedList` object and the key of the node to be removed. Each method removes the node with the given key from the list."
   ]
  },
  {
   "cell_type": "markdown",
   "metadata": {},
   "source": [
    "# LinkedList Class"
   ]
  },
  {
   "cell_type": "markdown",
   "metadata": {},
   "source": [
    "Here is a simple implementation of a LinkedList class in Java that includes methods for various operations:\n",
    "\n"
   ]
  },
  {
   "cell_type": "code",
   "execution_count": null,
   "metadata": {
    "vscode": {
     "languageId": "java"
    }
   },
   "outputs": [],
   "source": [
    "public class LinkedList {\n",
    "    Node head; // head of list\n",
    "\n",
    "    // Node class\n",
    "    static class Node {\n",
    "        int data;\n",
    "        Node next;\n",
    "\n",
    "        // Constructor\n",
    "        Node(int d) {\n",
    "            data = d;\n",
    "            next = null;\n",
    "        }\n",
    "    }\n",
    "\n",
    "    // Method to insert a new node at the beginning\n",
    "    public void insertAtBeginning(int data) {\n",
    "        Node newNode = new Node(data);\n",
    "        newNode.next = head;\n",
    "        head = newNode;\n",
    "    }\n",
    "\n",
    "    // Method to insert a new node at the end\n",
    "    public void insertAtEnd(int data) {\n",
    "        Node newNode = new Node(data);\n",
    "        if (head == null) {\n",
    "            head = newNode;\n",
    "        } else {\n",
    "            Node last = head;\n",
    "            while (last.next != null) {\n",
    "                last = last.next;\n",
    "            }\n",
    "            last.next = newNode;\n",
    "        }\n",
    "    }\n",
    "\n",
    "    // Method to insert a new node at a specific position\n",
    "    public void insertAtPosition(int data, int position) {\n",
    "        Node newNode = new Node(data);\n",
    "        if (position == 0) {\n",
    "            newNode.next = head;\n",
    "            head = newNode;\n",
    "        } else {\n",
    "            Node previous = head;\n",
    "            for (int i = 0; i < position - 1; i++) {\n",
    "                previous = previous.next;\n",
    "            }\n",
    "            newNode.next = previous.next;\n",
    "            previous.next = newNode;\n",
    "        }\n",
    "    }\n",
    "\n",
    "    // Method to delete a node by key\n",
    "    public void deleteByKey(int key) {\n",
    "        Node temp = head, prev = null;\n",
    "        if (temp != null && temp.data == key) {\n",
    "            head = temp.next;\n",
    "            return;\n",
    "        }\n",
    "        while (temp != null && temp.data != key) {\n",
    "            prev = temp;\n",
    "            temp = temp.next;\n",
    "        }\n",
    "        if (temp != null) {\n",
    "            prev.next = temp.next;\n",
    "        }\n",
    "    }\n",
    "\n",
    "    // Method to get a node at a specific index\n",
    "    public int get(int index) {\n",
    "        Node current = head;\n",
    "        int count = 0;\n",
    "        while (current != null) {\n",
    "            if (count == index) {\n",
    "                return current.data;\n",
    "            }\n",
    "            count++;\n",
    "            current = current.next;\n",
    "        }\n",
    "        return -1; // index is out of bounds of the list\n",
    "    }\n",
    "\n",
    "    // Method to get the size of the list\n",
    "    public int size() {\n",
    "        Node current = head;\n",
    "        int count = 0;\n",
    "        while (current != null) {\n",
    "            count++;\n",
    "            current = current.next;\n",
    "        }\n",
    "        return count;\n",
    "    }\n",
    "\n",
    "    // Method to print the LinkedList.\n",
    "    public void printList() {\n",
    "        Node tNode = head;\n",
    "        while (tNode != null) {\n",
    "            System.out.print(tNode.data + \" \");\n",
    "            tNode = tNode.next;\n",
    "        }\n",
    "    }\n",
    "}"
   ]
  },
  {
   "cell_type": "markdown",
   "metadata": {},
   "source": [
    "\n",
    "\n",
    "This `LinkedList` class includes methods to insert nodes at the beginning, end, and a specific position, delete a node by key, get a node at a specific index, get the size of the list, and print the list. Each node in the list is represented by a `Node` object that contains an integer data and a reference to the next node. The `head` of the list is the first node."
   ]
  },
  {
   "cell_type": "markdown",
   "metadata": {},
   "source": [
    "# Copy List With Random Pointer"
   ]
  },
  {
   "cell_type": "code",
   "execution_count": 2,
   "metadata": {
    "vscode": {
     "languageId": "java"
    }
   },
   "outputs": [],
   "source": [
    "public Node copyRandomLL(Node head) {\n",
    "    if (head == null) {\n",
    "        return null;\n",
    "    }\n",
    "    Node h = new Node(head.val);\n",
    "    Node prev = h;\n",
    "    Node p = head;\n",
    "    head = head.next;\n",
    "    Map<Node, Node> hm = new HashMap<>();\n",
    "    hm.put(p, h);\n",
    "    int i = 1;\n",
    "    while (head != null) {\n",
    "        Node n = new Node(head.val);\n",
    "        prev.next = n;\n",
    "        prev = n;\n",
    "        hm.put(head, n);\n",
    "        i++;\n",
    "        head = head.next;\n",
    "    }\n",
    "    Node h1 = h;\n",
    "    while (p != null) {\n",
    "        if (p.random != null) {\n",
    "            h1.random = hm.get(p.random);\n",
    "        }\n",
    "        h1 = h1.next;\n",
    "        p = p.next;\n",
    "    }\n",
    "    return h;\n",
    "}\n"
   ]
  },
  {
   "cell_type": "markdown",
   "metadata": {},
   "source": [
    "Sure! Let's go through the code step by step:\n",
    "\n",
    "1. The function `copyRandomLL` takes a parameter `head`, which represents the head node of a linked list. It returns a new linked list that is a copy of the original linked list.\n",
    "\n",
    "2. The first line of the function checks if the `head` is `null`. If it is, it means the original linked list is empty, so the function returns `null`.\n",
    "\n",
    "3. If the `head` is not `null`, a new node `h` is created with the same value as the `head` node. This node will be the head of the copied linked list.\n",
    "\n",
    "4. Two more nodes, `prev` and `p`, are created and initialized with the value of `h` and `head` respectively. These nodes will be used to iterate through the original linked list.\n",
    "\n",
    "5. The `head` node is then moved to the next node using `head = head.next`. This is done to prepare for the iteration through the original linked list.\n",
    "\n",
    "6. A `HashMap` called `hm` is created to store the mapping between nodes of the original linked list and the copied linked list. The key-value pairs in the `HashMap` will be used to set the `random` pointers of the copied linked list.\n",
    "\n",
    "7. The `head` node is added as a key and the `h` node is added as a value to the `HashMap` using `hm.put(p, h)`. This establishes the mapping between the first node of the original linked list and the first node of the copied linked list.\n",
    "\n",
    "8. A variable `i` is initialized with a value of 1. This variable will be used to keep track of the number of nodes in the original linked list.\n",
    "\n",
    "9. The code enters a `while` loop that iterates through the remaining nodes of the original linked list. The loop continues as long as the `head` node is not `null`.\n",
    "\n",
    "10. Inside the loop, a new node `n` is created with the same value as the `head` node.\n",
    "\n",
    "11. The `next` pointer of the `prev` node is set to the newly created node `n` using `prev.next = n`. This connects the previous node in the copied linked list to the current node.\n",
    "\n",
    "12. The `prev` node is updated to the newly created node `n` using `prev = n`. This prepares for the next iteration.\n",
    "\n",
    "13. The `head` node is added as a key and the newly created node `n` is added as a value to the `HashMap` using `hm.put(head, n)`. This establishes the mapping between the current node of the original linked list and the current node of the copied linked list.\n",
    "\n",
    "14. The variable `i` is incremented by 1 using `i++`. This keeps track of the number of nodes in the original linked list.\n",
    "\n",
    "15. The `head` node is moved to the next node using `head = head.next`. This prepares for the next iteration.\n",
    "\n",
    "16. After the loop, a new node `h1` is created and initialized with the value of `h`. This node will be used to iterate through the copied linked list.\n",
    "\n",
    "17. Another loop is entered that iterates through the nodes of the original linked list using the `p` node.\n",
    "\n",
    "18. Inside the loop, it checks if the `random` pointer of the `p` node is not `null`.\n",
    "\n",
    "19. If the `random` pointer is not `null`, it retrieves the corresponding copied node from the `HashMap` using `hm.get(p.random)`. This copied node is then assigned as the `random` pointer of the `h1` node.\n",
    "\n",
    "20. The `h1` node is moved to the next node using `h1 = h1.next`. This prepares for the next iteration.\n",
    "\n",
    "21. The `p` node is moved to the next node using `p = p.next`. This prepares for the next iteration.\n",
    "\n",
    "22. Finally, the function returns the head node `h` of the copied linked list.\n",
    "\n",
    "This code essentially creates a deep copy of a linked list, including the `random` pointers, by iterating through the original linked list and creating a new node for each node in the original list. It uses a `HashMap` to keep track of the mapping between the nodes of the original and copied linked lists."
   ]
  }
 ],
 "metadata": {
  "kernelspec": {
   "display_name": "Java",
   "language": "java",
   "name": "java"
  },
  "language_info": {
   "codemirror_mode": "java",
   "file_extension": ".jshell",
   "mimetype": "text/x-java-source",
   "name": "Java",
   "pygments_lexer": "java",
   "version": "17.0.10+7-Ubuntu-122.04.1"
  }
 },
 "nbformat": 4,
 "nbformat_minor": 2
}
