{
 "cells": [
  {
   "cell_type": "markdown",
   "metadata": {},
   "source": [
    "# LinkedList "
   ]
  },
  {
   "cell_type": "markdown",
   "metadata": {},
   "source": [
    "# What is linked list?"
   ]
  },
  {
   "cell_type": "markdown",
   "metadata": {},
   "source": [
    "A linked list is a linear data structure where each element is a separate object, known as a node. Each node contains two fields: data and a reference (in other words, a link) to the next node in the sequence. This structure allows for efficient insertions or removals of elements from any position in the sequence during iteration.\n",
    "\n",
    "There are three common types of linked lists:\n",
    "\n",
    "1. **Singly Linked List:** Each node contains data and a link to the next node in the sequence. The last node points to null, indicating the end of the list.\n",
    "\n",
    "2. **Doubly Linked List:** Each node contains data and two links pointing to the next and previous node in the sequence. The head node's previous link and the tail node's next link point to null.\n",
    "\n",
    "3. **Circular Linked List:** Similar to a singly or doubly linked list, but the last node in the list points back to the first node (in a singly circular linked list) or to itself (in a doubly circular linked list), creating a loop.\n",
    "\n",
    "Here's a simple example of a singly linked list node in Java:\n",
    "\n"
   ]
  },
  {
   "cell_type": "code",
   "execution_count": 1,
   "metadata": {
    "vscode": {
     "languageId": "java"
    }
   },
   "outputs": [],
   "source": [
    "public class Node {\n",
    "    int data;\n",
    "    Node next;\n",
    "\n",
    "    Node(int data) {\n",
    "        this.data = data;\n",
    "        this.next = null;\n",
    "    }\n",
    "}"
   ]
  },
  {
   "cell_type": "code",
   "execution_count": 2,
   "metadata": {
    "vscode": {
     "languageId": "java"
    }
   },
   "outputs": [
    {
     "name": "stdout",
     "output_type": "stream",
     "text": [
      "1\n",
      "2\n",
      "3\n"
     ]
    }
   ],
   "source": [
    "Node a = new Node(1);\n",
    "Node b = new Node(2);\n",
    "Node c = new Node(3);\n",
    "a.next = b;\n",
    "b.next = c;\n",
    "System.out.println(a.data); // 1\n",
    "System.out.println(a.next.data); // 2\n",
    "System.out.println(a.next.next.data); // 3\n"
   ]
  },
  {
   "cell_type": "markdown",
   "metadata": {},
   "source": [
    "\n",
    "\n",
    "In this example, `Node` is a class that represents a node in a singly linked list. It has an integer data field to hold the data (which could be any type), and a `Node` reference to point to the next node in the list. The `next` field is initialized as `null`, which would be the case for the last node in the list."
   ]
  }
 ],
 "metadata": {
  "kernelspec": {
   "display_name": "Java",
   "language": "java",
   "name": "java"
  },
  "language_info": {
   "codemirror_mode": "java",
   "file_extension": ".jshell",
   "mimetype": "text/x-java-source",
   "name": "Java",
   "pygments_lexer": "java",
   "version": "17.0.10+7-Ubuntu-122.04.1"
  }
 },
 "nbformat": 4,
 "nbformat_minor": 2
}
