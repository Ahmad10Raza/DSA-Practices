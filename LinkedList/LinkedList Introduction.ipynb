{
 "cells": [
  {
   "cell_type": "markdown",
   "metadata": {},
   "source": [
    "# LinkedList "
   ]
  },
  {
   "cell_type": "markdown",
   "metadata": {},
   "source": [
    "# What is linked list?"
   ]
  },
  {
   "cell_type": "markdown",
   "metadata": {},
   "source": [
    "A linked list is a linear data structure where each element is a separate object, known as a node. Each node contains two fields: data and a reference (in other words, a link) to the next node in the sequence. This structure allows for efficient insertions or removals of elements from any position in the sequence during iteration.\n",
    "\n",
    "There are three common types of linked lists:\n",
    "\n",
    "1. **Singly Linked List:** Each node contains data and a link to the next node in the sequence. The last node points to null, indicating the end of the list.\n",
    "\n",
    "2. **Doubly Linked List:** Each node contains data and two links pointing to the next and previous node in the sequence. The head node's previous link and the tail node's next link point to null.\n",
    "\n",
    "3. **Circular Linked List:** Similar to a singly or doubly linked list, but the last node in the list points back to the first node (in a singly circular linked list) or to itself (in a doubly circular linked list), creating a loop.\n",
    "\n",
    "Here's a simple example of a singly linked list node in Java:\n",
    "\n"
   ]
  },
  {
   "cell_type": "code",
   "execution_count": 1,
   "metadata": {
    "vscode": {
     "languageId": "java"
    }
   },
   "outputs": [],
   "source": [
    "public class Node {\n",
    "    int data;\n",
    "    Node next;\n",
    "\n",
    "    Node(int data) {\n",
    "        this.data = data;\n",
    "        this.next = null;\n",
    "    }\n",
    "}"
   ]
  },
  {
   "cell_type": "code",
   "execution_count": 2,
   "metadata": {
    "vscode": {
     "languageId": "java"
    }
   },
   "outputs": [
    {
     "name": "stdout",
     "output_type": "stream",
     "text": [
      "1\n",
      "2\n",
      "3\n"
     ]
    }
   ],
   "source": [
    "Node a = new Node(1);\n",
    "Node b = new Node(2);\n",
    "Node c = new Node(3);\n",
    "a.next = b;\n",
    "b.next = c;\n",
    "System.out.println(a.data); // 1\n",
    "System.out.println(a.next.data); // 2\n",
    "System.out.println(a.next.next.data); // 3\n"
   ]
  },
  {
   "cell_type": "markdown",
   "metadata": {},
   "source": [
    "\n",
    "\n",
    "In this example, `Node` is a class that represents a node in a singly linked list. It has an integer data field to hold the data (which could be any type), and a `Node` reference to point to the next node in the list. The `next` field is initialized as `null`, which would be the case for the last node in the list."
   ]
  },
  {
   "cell_type": "markdown",
   "metadata": {},
   "source": [
    "# Traversing In LL"
   ]
  },
  {
   "cell_type": "markdown",
   "metadata": {},
   "source": [
    "There are several ways to traverse a linked list. Here are three common methods:\n",
    "\n",
    "1. **Iterative Method:** This is the most common method. You start from the head of the list and move to the next node in a loop until you reach a node that points to `null`.\n",
    "\n"
   ]
  },
  {
   "cell_type": "code",
   "execution_count": 3,
   "metadata": {
    "vscode": {
     "languageId": "java"
    }
   },
   "outputs": [],
   "source": [
    "public void printListIterative(Node node) {\n",
    "    while (node != null) {\n",
    "        System.out.print(node.data + \" \");\n",
    "        node = node.next;\n",
    "    }\n",
    "}"
   ]
  },
  {
   "cell_type": "markdown",
   "metadata": {},
   "source": [
    "\n",
    "\n",
    "2. **Recursive Method:** In this method, you print the current node's data and then call the same function for the next node.\n",
    "\n"
   ]
  },
  {
   "cell_type": "code",
   "execution_count": 4,
   "metadata": {
    "vscode": {
     "languageId": "java"
    }
   },
   "outputs": [],
   "source": [
    "public void printListRecursive(Node node) {\n",
    "    if (node == null) {\n",
    "        return;\n",
    "    }\n",
    "    System.out.print(node.data + \" \");\n",
    "    printListRecursive(node.next);\n",
    "}"
   ]
  },
  {
   "cell_type": "markdown",
   "metadata": {},
   "source": [
    "\n",
    "\n",
    "3. **Using Java's built-in LinkedList class:** Java's `LinkedList` class provides a method called `iterator()` that returns an `Iterator` for the list. You can use this to traverse the list.\n",
    "\n"
   ]
  },
  {
   "cell_type": "code",
   "execution_count": 5,
   "metadata": {
    "vscode": {
     "languageId": "java"
    }
   },
   "outputs": [],
   "source": [
    "public void printListJavaLinkedList(LinkedList<Integer> list) {\n",
    "    Iterator<Integer> iterator = list.iterator();\n",
    "    while (iterator.hasNext()) {\n",
    "        System.out.print(iterator.next() + \" \");\n",
    "    }\n",
    "}"
   ]
  },
  {
   "cell_type": "markdown",
   "metadata": {},
   "source": [
    "\n",
    "\n",
    "In these examples, `Node` is assumed to be a class with `data` and `next` fields, and `LinkedList` is Java's built-in `LinkedList` class. The `printListIterative` and `printListRecursive` methods take the head of a custom linked list as a parameter, while `printListJavaLinkedList` takes a `LinkedList` object. Each method prints the data of each node in the list."
   ]
  },
  {
   "cell_type": "code",
   "execution_count": 6,
   "metadata": {
    "vscode": {
     "languageId": "java"
    }
   },
   "outputs": [
    {
     "name": "stdout",
     "output_type": "stream",
     "text": [
      "1 2 3 "
     ]
    }
   ],
   "source": [
    "printListIterative(a); // 1 2 3"
   ]
  },
  {
   "cell_type": "code",
   "execution_count": 7,
   "metadata": {
    "vscode": {
     "languageId": "java"
    }
   },
   "outputs": [
    {
     "name": "stdout",
     "output_type": "stream",
     "text": [
      "1 2 3 "
     ]
    }
   ],
   "source": [
    "printListRecursive(a); // 1 2 3"
   ]
  },
  {
   "cell_type": "code",
   "execution_count": 8,
   "metadata": {
    "vscode": {
     "languageId": "java"
    }
   },
   "outputs": [
    {
     "name": "stdout",
     "output_type": "stream",
     "text": [
      "1 2 3 "
     ]
    }
   ],
   "source": [
    "printListJavaLinkedList(new LinkedList<>(Arrays.asList(1, 2, 3))); // 1 2 3"
   ]
  },
  {
   "cell_type": "markdown",
   "metadata": {},
   "source": [
    "## Reverse Order"
   ]
  },
  {
   "cell_type": "code",
   "execution_count": 10,
   "metadata": {
    "vscode": {
     "languageId": "java"
    }
   },
   "outputs": [],
   "source": [
    "public void printListRecursiveReverse(Node node) {\n",
    "    if (node == null) {\n",
    "        return;\n",
    "    }\n",
    "   \n",
    "    printListRecursive(node.next);\n",
    "    System.out.print(node.data + \" \");\n",
    "}"
   ]
  },
  {
   "cell_type": "code",
   "execution_count": 11,
   "metadata": {
    "vscode": {
     "languageId": "java"
    }
   },
   "outputs": [
    {
     "name": "stdout",
     "output_type": "stream",
     "text": [
      "3 2 1 "
     ]
    }
   ],
   "source": [
    "printListRecursiveReverse(a); // 3 2 1"
   ]
  }
 ],
 "metadata": {
  "kernelspec": {
   "display_name": "Java",
   "language": "java",
   "name": "java"
  },
  "language_info": {
   "codemirror_mode": "java",
   "file_extension": ".jshell",
   "mimetype": "text/x-java-source",
   "name": "Java",
   "pygments_lexer": "java",
   "version": "17.0.10+7-Ubuntu-122.04.1"
  }
 },
 "nbformat": 4,
 "nbformat_minor": 2
}
