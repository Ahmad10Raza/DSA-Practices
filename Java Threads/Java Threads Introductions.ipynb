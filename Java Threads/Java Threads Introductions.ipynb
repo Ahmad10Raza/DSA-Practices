{
 "cells": [
  {
   "cell_type": "markdown",
   "metadata": {},
   "source": [
    "# Java Threads"
   ]
  },
  {
   "cell_type": "markdown",
   "metadata": {},
   "source": [
    "In Java, a thread is a lightweight subprocess or the smallest unit of processing. It is a separate path of execution. Threads are independent, and if there occurs an exception in one thread, it doesn't affect other threads. It shares a common memory area.\n",
    "\n",
    "Java is a multi-threaded programming language which means we can develop multi-threaded program using Java. A multi-threaded program contains two or more parts that can run concurrently. Each part of such a program is called a thread, and each thread defines a separate path of execution.\n",
    "\n",
    "Here are some key points about Java threads:\n",
    "\n",
    "1. **Multitasking**: Threads allow concurrent execution of two or more parts of a program for maximum utilization of CPU.\n",
    "\n",
    "2. **Thread Class and Runnable Interface**: Threads can be created by extending the `Thread` class and overriding its `run()` method, or by implementing the `Runnable` interface and implementing the `run()` method.\n",
    "\n",
    "3. **Thread Lifecycle**: A thread goes through various stages in its lifecycle, such as New, Runnable, Running, Non-Runnable (Blocked), and Terminated.\n",
    "\n",
    "4. **Thread Priority**: Each thread has a priority which helps the operating system determine the order in which threads are scheduled for running.\n",
    "\n",
    "5. **Synchronization**: Java provides a way of creating threads and synchronizing their task by using synchronized blocks to avoid thread interference and consistency problems.\n",
    "\n",
    "6. **Inter-thread Communication**: Inter-thread communication allows synchronized threads to communicate with each other.\n",
    "\n",
    "Remember, threads can be very useful for implementing tasks that can run in parallel, but they also require careful programming to avoid issues with shared data, such as race conditions or deadlocks."
   ]
  },
  {
   "cell_type": "markdown",
   "metadata": {},
   "source": [
    "# What are the way to create threads?"
   ]
  },
  {
   "cell_type": "markdown",
   "metadata": {},
   "source": [
    "In Java, there are two main ways to create threads:\n",
    "\n",
    "1. By extending the `Thread` class\n",
    "2. By implementing the `Runnable` interface\n",
    "\n",
    "Here's a basic example of each:\n",
    "\n",
    "**Extending the Thread class:**\n"
   ]
  },
  {
   "cell_type": "code",
   "execution_count": null,
   "metadata": {
    "vscode": {
     "languageId": "java"
    }
   },
   "outputs": [],
   "source": [
    "class MyThread extends Thread {\n",
    "  public void run(){\n",
    "     System.out.println(\"Thread created by extending Thread class.\");\n",
    "  }\n",
    "}\n",
    "\n",
    "public class Main {\n",
    "  public static void main(String args[]) {\n",
    "     MyThread t = new MyThread();\n",
    "     t.start();\n",
    "  }\n",
    "}"
   ]
  },
  {
   "cell_type": "markdown",
   "metadata": {},
   "source": [
    "\n",
    "\n",
    "**Implementing the Runnable interface:**\n"
   ]
  },
  {
   "cell_type": "code",
   "execution_count": null,
   "metadata": {
    "vscode": {
     "languageId": "java"
    }
   },
   "outputs": [],
   "source": [
    "class MyRunnable implements Runnable {\n",
    "  public void run(){\n",
    "     System.out.println(\"Thread created by implementing Runnable interface.\");\n",
    "  }\n",
    "}\n",
    "\n",
    "public class Main {\n",
    "  public static void main(String args[]) {\n",
    "     Thread t = new Thread(new MyRunnable());\n",
    "     t.start();\n",
    "  }\n",
    "}"
   ]
  },
  {
   "cell_type": "markdown",
   "metadata": {},
   "source": [
    "\n",
    "\n",
    "In both cases, the `run()` method is where you define the code that the thread will execute. To start the thread, you call the `start()` method, which in turn calls the `run()` method."
   ]
  },
  {
   "cell_type": "markdown",
   "metadata": {},
   "source": [
    "# How can I control the execution of threads in Java?"
   ]
  },
  {
   "cell_type": "markdown",
   "metadata": {},
   "source": [
    "In Java, you can control the execution of threads using several methods provided by the `Thread` class. Here are some of them:\n",
    "\n",
    "1. **start():** This method is used to start the execution of a thread. The JVM calls the `run()` method on the thread.\n",
    "\n"
   ]
  },
  {
   "cell_type": "code",
   "execution_count": null,
   "metadata": {
    "vscode": {
     "languageId": "java"
    }
   },
   "outputs": [],
   "source": [
    "Thread t = new Thread(new MyRunnable());\n",
    "t.start();"
   ]
  },
  {
   "cell_type": "markdown",
   "metadata": {},
   "source": [
    "\n",
    "\n",
    "2. **sleep(long millis):** This static method causes the currently executing thread to sleep (temporarily cease execution) for the specified number of milliseconds.\n",
    "\n"
   ]
  },
  {
   "cell_type": "code",
   "execution_count": null,
   "metadata": {
    "vscode": {
     "languageId": "java"
    }
   },
   "outputs": [],
   "source": [
    "try {\n",
    "    Thread.sleep(2000); // Pause for 2 seconds\n",
    "} catch (InterruptedException e) {\n",
    "    e.printStackTrace();\n",
    "}"
   ]
  },
  {
   "cell_type": "markdown",
   "metadata": {},
   "source": [
    "\n",
    "\n",
    "3. **join():** This method allows one thread to wait until another thread completes its execution. If `t` is a Thread object whose thread is currently executing, then `t.join()` will make sure that `t` is terminated before the next instruction is executed by the program.\n",
    "\n"
   ]
  },
  {
   "cell_type": "code",
   "execution_count": null,
   "metadata": {
    "vscode": {
     "languageId": "java"
    }
   },
   "outputs": [],
   "source": [
    "Thread t1 = new Thread(new MyRunnable());\n",
    "t1.start();\n",
    "try {\n",
    "    t1.join(); // Wait for t1 to finish\n",
    "} catch (InterruptedException e) {\n",
    "    e.printStackTrace();\n",
    "}"
   ]
  },
  {
   "cell_type": "markdown",
   "metadata": {},
   "source": [
    "\n",
    "\n",
    "4. **yield():** It's a static method that causes the currently executing thread object to temporarily pause and allow other threads to execute.\n",
    "\n"
   ]
  },
  {
   "cell_type": "code",
   "execution_count": null,
   "metadata": {
    "vscode": {
     "languageId": "java"
    }
   },
   "outputs": [],
   "source": [
    "Thread.yield();"
   ]
  },
  {
   "cell_type": "markdown",
   "metadata": {},
   "source": [
    "\n",
    "\n",
    "5. **setPriority(int newPriority):** Changes the priority of this thread. The possible range is from `Thread.MIN_PRIORITY` (a constant of 1) to `Thread.MAX_PRIORITY` (a constant of 10).\n",
    "\n"
   ]
  },
  {
   "cell_type": "code",
   "execution_count": null,
   "metadata": {
    "vscode": {
     "languageId": "java"
    }
   },
   "outputs": [],
   "source": [
    "t.setPriority(Thread.MAX_PRIORITY);"
   ]
  },
  {
   "cell_type": "markdown",
   "metadata": {},
   "source": [
    "\n",
    "\n",
    "6. **interrupt():** Interrupts this thread. In case the thread is waiting or sleeping, it wakes it up and throws `InterruptedException`.\n",
    "\n"
   ]
  },
  {
   "cell_type": "code",
   "execution_count": null,
   "metadata": {
    "vscode": {
     "languageId": "java"
    }
   },
   "outputs": [],
   "source": [
    "t.interrupt();"
   ]
  },
  {
   "cell_type": "markdown",
   "metadata": {},
   "source": [
    "\n",
    "\n",
    "Remember, the exact scheduling of threads can depend on the Java Virtual Machine (JVM) and the operating system's policies, so you can't always predict the exact order in which threads will execute."
   ]
  },
  {
   "cell_type": "markdown",
   "metadata": {},
   "source": [
    "# Concurrency Problems?"
   ]
  },
  {
   "cell_type": "markdown",
   "metadata": {},
   "source": [
    "Concurrency problems arise when multiple threads or processes access shared data and they try to change it at the same time. This can lead to unexpected results if the threads are not properly synchronized. Here are some common concurrency problems:\n",
    "\n",
    "1. **Race Condition:** A race condition occurs when two or more threads can access shared data and they try to change it at the same time. As a result, the values of variables may be unpredictable and vary depending on the timings of context switches of the processes.\n",
    "\n",
    "2. **Deadlock:** Deadlock is a situation where two or more threads are blocked forever, waiting for each other. This usually happens when multiple threads need the same locks but obtain them in different order.\n",
    "\n",
    "3. **Starvation:** Starvation describes a situation where a thread is unable to gain regular access to shared resources and is unable to make progress. This happens when shared resources are made unavailable for long periods by \"greedy\" threads.\n",
    "\n",
    "4. **LiveLock:** A thread often acts in response to the action of another thread. If the other thread's action is also a response to the action of another thread, then livelock may result. As with deadlock, livelocked threads are unable to make further progress.\n",
    "\n",
    "5. **Priority Inversion:** A scenario where a lower priority thread holds a lock needed by a higher priority thread. The higher priority thread is blocked, effectively inverting the priority of the two threads.\n",
    "\n",
    "To avoid these problems, synchronization techniques such as locks, semaphores, monitors, or condition variables can be used. These techniques can help ensure that only one thread at a time uses a shared resource."
   ]
  },
  {
   "cell_type": "markdown",
   "metadata": {},
   "source": [
    "# What are some common synchronization techniques used to prevent concurrency problems in Java?"
   ]
  },
  {
   "cell_type": "markdown",
   "metadata": {},
   "source": [
    "Java provides several mechanisms for synchronizing access to shared resources to prevent concurrency problems:\n",
    "\n",
    "1. **Synchronized Blocks:** The simplest way to synchronize access in Java is by using synchronized blocks. A synchronized block ensures that only one thread at a time can execute a particular section of code.\n",
    "\n"
   ]
  },
  {
   "cell_type": "code",
   "execution_count": null,
   "metadata": {
    "vscode": {
     "languageId": "java"
    }
   },
   "outputs": [],
   "source": [
    "synchronized(object) {\n",
    "    // Code here is protected by the lock on the object\n",
    "}"
   ]
  },
  {
   "cell_type": "markdown",
   "metadata": {},
   "source": [
    "\n",
    "\n",
    "2. **Synchronized Methods:** You can also use the `synchronized` keyword to mark an entire method as synchronized. This works the same way as a synchronized block that covers an entire method body.\n",
    "\n"
   ]
  },
  {
   "cell_type": "code",
   "execution_count": null,
   "metadata": {
    "vscode": {
     "languageId": "java"
    }
   },
   "outputs": [],
   "source": [
    "public synchronized void myMethod() {\n",
    "    // Code here is protected by the lock on this object\n",
    "}"
   ]
  },
  {
   "cell_type": "markdown",
   "metadata": {},
   "source": [
    "\n",
    "\n",
    "3. **Locks:** The `java.util.concurrent.locks` package provides a more flexible locking mechanism with `ReentrantLock`. This allows more sophisticated behaviors such as try-lock and timed lock.\n",
    "\n"
   ]
  },
  {
   "cell_type": "code",
   "execution_count": null,
   "metadata": {
    "vscode": {
     "languageId": "java"
    }
   },
   "outputs": [],
   "source": [
    "Lock lock = new ReentrantLock();\n",
    "lock.lock();\n",
    "try {\n",
    "    // Access shared resources\n",
    "} finally {\n",
    "    lock.unlock();\n",
    "}"
   ]
  },
  {
   "cell_type": "markdown",
   "metadata": {},
   "source": [
    "\n",
    "\n",
    "4. **Semaphores:** A semaphore is a thread synchronization construct that can be used to protect an arbitrary number of execution instances or resources. It's more flexible than a lock as it can control access to more than one thread at a time.\n",
    "\n"
   ]
  },
  {
   "cell_type": "code",
   "execution_count": null,
   "metadata": {
    "vscode": {
     "languageId": "java"
    }
   },
   "outputs": [],
   "source": [
    "Semaphore semaphore = new Semaphore(3); // Allow 3 concurrent threads\n",
    "semaphore.acquire();\n",
    "try {\n",
    "    // Access shared resources\n",
    "} finally {\n",
    "    semaphore.release();\n",
    "}"
   ]
  },
  {
   "cell_type": "markdown",
   "metadata": {},
   "source": [
    "\n",
    "\n",
    "5. **CountDownLatch:** A synchronization aid that allows one or more threads to wait until a set of operations being performed in other threads completes.\n",
    "\n"
   ]
  },
  {
   "cell_type": "code",
   "execution_count": null,
   "metadata": {
    "vscode": {
     "languageId": "java"
    }
   },
   "outputs": [],
   "source": [
    "CountDownLatch latch = new CountDownLatch(3); // Wait for 3 threads to complete\n",
    "latch.countDown(); // In each thread, after completion\n",
    "latch.await(); // Wait for all threads to complete"
   ]
  },
  {
   "cell_type": "markdown",
   "metadata": {},
   "source": [
    "\n",
    "\n",
    "6. **CyclicBarrier:** A synchronization aid that allows a set of threads to all wait for each other to reach a common barrier point.\n",
    "\n"
   ]
  },
  {
   "cell_type": "code",
   "execution_count": null,
   "metadata": {
    "vscode": {
     "languageId": "java"
    }
   },
   "outputs": [],
   "source": [
    "CyclicBarrier barrier = new CyclicBarrier(3); // Wait for 3 threads to reach a common point\n",
    "barrier.await(); // In each thread, when it reaches the barrier point"
   ]
  },
  {
   "cell_type": "markdown",
   "metadata": {},
   "source": [
    "\n",
    "\n",
    "Remember, synchronization can lead to thread contention, which occurs when two or more threads try to access the same resource simultaneously and cause the Java runtime to execute one or more threads more slowly, or even halt their execution. So, it's important to use these tools judiciously to balance between concurrency and thread contention."
   ]
  },
  {
   "cell_type": "markdown",
   "metadata": {},
   "source": [
    "# What is the difference between synchronized keyword and ReentrantLock in Java?"
   ]
  },
  {
   "cell_type": "markdown",
   "metadata": {},
   "source": [
    "Both `synchronized` keyword and `ReentrantLock` are used to provide synchronization in Java, but there are several differences between them:\n",
    "\n",
    "1. **Flexibility:** `ReentrantLock` is more flexible than `synchronized`. With `ReentrantLock`, you can make lock fairness, which means the lock would be granted to the longest-waiting thread. Also, `ReentrantLock` provides a method `tryLock()`, which tries to acquire the lock and returns a boolean based on whether the lock was acquired.\n",
    "\n",
    "2. **Condition Variables:** `ReentrantLock` provides a `Condition` interface, which provides methods like `await()`, `signal()`, and `signalAll()` similar to `wait()`, `notify()`, and `notifyAll()` of `synchronized`. But `Condition` supports multiple wait-notify pools per lock, which is not possible with `synchronized`.\n",
    "\n",
    "3. **Lock Interruption:** `ReentrantLock` provides a mechanism to interrupt the thread waiting for the lock, which is not possible with `synchronized`.\n",
    "\n",
    "4. **Manual Unlock:** With `ReentrantLock`, you have to manually release the lock using the `unlock()` method. If you forget, the lock will remain held. With `synchronized`, the lock is automatically released when control leaves the synchronized block or method.\n",
    "\n",
    "Here is an example of using `ReentrantLock`:\n",
    "\n"
   ]
  },
  {
   "cell_type": "code",
   "execution_count": null,
   "metadata": {
    "vscode": {
     "languageId": "java"
    }
   },
   "outputs": [],
   "source": [
    "ReentrantLock lock = new ReentrantLock();\n",
    "lock.lock();\n",
    "try {\n",
    "    // access shared resources\n",
    "} finally {\n",
    "    lock.unlock(); // make sure to unlock in finally block to avoid deadlock\n",
    "}"
   ]
  },
  {
   "cell_type": "markdown",
   "metadata": {},
   "source": [
    "\n",
    "\n",
    "And here is an example of using `synchronized`:\n",
    "\n"
   ]
  },
  {
   "cell_type": "code",
   "execution_count": null,
   "metadata": {
    "vscode": {
     "languageId": "java"
    }
   },
   "outputs": [],
   "source": [
    "synchronized(this) {\n",
    "    // access shared resources\n",
    "} // lock is automatically released here"
   ]
  },
  {
   "cell_type": "markdown",
   "metadata": {},
   "source": [
    "\n",
    "\n",
    "In general, `synchronized` is easier to use and sufficient for most cases. `ReentrantLock` should be used when you need more control over the locking mechanism."
   ]
  },
  {
   "cell_type": "markdown",
   "metadata": {},
   "source": [
    "# What are some best practices for handling concurrency in Java?"
   ]
  },
  {
   "cell_type": "markdown",
   "metadata": {},
   "source": [
    "Handling concurrency correctly is crucial in multi-threaded programming. Here are some best practices for handling concurrency in Java:\n",
    "\n",
    "1. **Minimize the scope of synchronization:** Synchronization can lead to thread contention, which can degrade performance. Therefore, you should only synchronize the code that absolutely needs to be synchronized.\n",
    "\n",
    "2. **Use higher-level concurrency utilities:** Java provides higher-level concurrency utilities like `ExecutorService`, `Semaphore`, `CyclicBarrier`, `CountDownLatch` etc. in the `java.util.concurrent` package. These utilities can simplify the management of threads and improve readability and maintainability of your code.\n",
    "\n",
    "3. **Avoid using `Thread.stop()`, `Thread.suspend()`, and `Thread.resume()`:** These methods are deprecated because they are inherently unsafe. Use other mechanisms like interruption or a volatile boolean field to stop a thread.\n",
    "\n",
    "4. **Prefer `Atomic` classes over `synchronized`:** The `java.util.concurrent.atomic` package provides classes that support lock-free and thread-safe programming on single variables. These classes can be more scalable than using `synchronized` in some cases.\n",
    "\n",
    "5. **Avoid using `volatile` for non-boolean variables:** The `volatile` keyword guarantees visibility and ordering of reads and writes to a variable, but it doesn't provide atomicity for compound operations.\n",
    "\n",
    "6. **Always release resources in `finally` block:** If you acquire a lock, always release it in a `finally` block to ensure that the lock is released even if an exception is thrown.\n",
    "\n",
    "7. **Be aware of the `java.lang.ThreadLocal` class:** `ThreadLocal` can be used to maintain thread confinement, which is a powerful way to achieve thread safety.\n",
    "\n",
    "8. **Test your code:** Concurrency bugs can be difficult to detect and reproduce. Use tools like FindBugs, PMD, or Checkstyle to detect potential concurrency bugs. Also, write multi-threaded unit tests and stress tests to ensure your code works correctly under concurrent conditions.\n",
    "\n",
    "9. **Keep up-to-date with the latest in Java concurrency:** Java's concurrency utilities have evolved significantly over the years. Make sure you're familiar with the latest tools and best practices."
   ]
  },
  {
   "cell_type": "markdown",
   "metadata": {},
   "source": [
    "# **Thank You!**"
   ]
  }
 ],
 "metadata": {
  "language_info": {
   "name": "python"
  }
 },
 "nbformat": 4,
 "nbformat_minor": 2
}
